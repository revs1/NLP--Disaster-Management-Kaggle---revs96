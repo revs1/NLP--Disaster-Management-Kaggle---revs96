{
  "nbformat": 4,
  "nbformat_minor": 0,
  "metadata": {
    "colab": {
      "name": "News_aggregator.ipynb",
      "provenance": [],
      "collapsed_sections": [],
      "authorship_tag": "ABX9TyPki6wYNzXjqkVIjjY2VQ1h",
      "include_colab_link": true
    },
    "kernelspec": {
      "name": "python3",
      "display_name": "Python 3"
    }
  },
  "cells": [
    {
      "cell_type": "markdown",
      "metadata": {
        "id": "view-in-github",
        "colab_type": "text"
      },
      "source": [
        "<a href=\"https://colab.research.google.com/github/revs1/Simple_ML_notebooks-revs96/blob/master/News_aggregator.ipynb\" target=\"_parent\"><img src=\"https://colab.research.google.com/assets/colab-badge.svg\" alt=\"Open In Colab\"/></a>"
      ]
    },
    {
      "cell_type": "code",
      "metadata": {
        "id": "PdgsTrAPD661",
        "colab_type": "code",
        "colab": {}
      },
      "source": [
        "import requests"
      ],
      "execution_count": 0,
      "outputs": []
    },
    {
      "cell_type": "code",
      "metadata": {
        "id": "W57loWfoEL2S",
        "colab_type": "code",
        "colab": {}
      },
      "source": [
        "response = requests.get('https://github.com')"
      ],
      "execution_count": 0,
      "outputs": []
    },
    {
      "cell_type": "code",
      "metadata": {
        "id": "r1pBW90AE1sv",
        "colab_type": "code",
        "outputId": "414615a2-3db2-481d-94f8-0481e450d93c",
        "colab": {
          "base_uri": "https://localhost:8080/",
          "height": 34
        }
      },
      "source": [
        "response.status_code"
      ],
      "execution_count": 0,
      "outputs": [
        {
          "output_type": "execute_result",
          "data": {
            "text/plain": [
              "200"
            ]
          },
          "metadata": {
            "tags": []
          },
          "execution_count": 9
        }
      ]
    },
    {
      "cell_type": "code",
      "metadata": {
        "id": "quuHhnVdE-NI",
        "colab_type": "code",
        "outputId": "945b3b10-e62c-42f2-efd5-ec68d8698c9d",
        "colab": {
          "base_uri": "https://localhost:8080/",
          "height": 34
        }
      },
      "source": [
        "if response:\n",
        "    print('Success!')\n",
        "else:\n",
        "    print('An error has occurred.')"
      ],
      "execution_count": 0,
      "outputs": [
        {
          "output_type": "stream",
          "text": [
            "Success!\n"
          ],
          "name": "stdout"
        }
      ]
    },
    {
      "cell_type": "code",
      "metadata": {
        "id": "_-wzi89oFdxg",
        "colab_type": "code",
        "outputId": "324e78fa-0a7d-4c26-9482-b193d0fd9a37",
        "colab": {
          "base_uri": "https://localhost:8080/",
          "height": 54
        }
      },
      "source": [
        "response.text"
      ],
      "execution_count": 0,
      "outputs": [
        {
          "output_type": "execute_result",
          "data": {
            "text/plain": [
              "'\\n\\n\\n\\n\\n\\n<!DOCTYPE html>\\n<html lang=\"en\">\\n  <head>\\n    <meta charset=\"utf-8\">\\n  <link rel=\"dns-prefetch\" href=\"https://github.githubassets.com\">\\n  <link rel=\"dns-prefetch\" href=\"https://avatars0.githubusercontent.com\">\\n  <link rel=\"dns-prefetch\" href=\"https://avatars1.githubusercontent.com\">\\n  <link rel=\"dns-prefetch\" href=\"https://avatars2.githubusercontent.com\">\\n  <link rel=\"dns-prefetch\" href=\"https://avatars3.githubusercontent.com\">\\n  <link rel=\"dns-prefetch\" href=\"https://github-cloud.s3.amazonaws.com\">\\n  <link rel=\"dns-prefetch\" href=\"https://user-images.githubusercontent.com/\">\\n\\n\\n\\n  <link crossorigin=\"anonymous\" media=\"all\" integrity=\"sha512-5Bs4ERl99/u2AUfpOZF2F0cdfNby7+Vd9teUshXUBPo5CjwECR7IAEf+weI/eCk5tF7K1h3O8hd8k0+P/HePeg==\" rel=\"stylesheet\" href=\"https://github.githubassets.com/assets/frameworks-e41b3811197df7fbb60147e939917617.css\" />\\n  <link crossorigin=\"anonymous\" media=\"all\" integrity=\"sha512-21eX2YaEYIYa91WFh0mXaxJ3wLQxy2ldlpRbyuCueK3MvqHGEzmXYPkMQ4XBtASauZXKlL1hPxQQU9g28R03wQ==\" rel=\"stylesheet\" href=\"https://github.githubassets.com/assets/site-db5797d9868460861af755858749976b.css\" />\\n    <link crossorigin=\"anonymous\" media=\"all\" integrity=\"sha512-vna9AxrJa9t+A93H0lxAPca1mXWQB5A/jIBppkp+Ys/EV2l+rsMcCyU/Fj4BpmEZ3nY4hHwJ/FqUEeMFXiYl0w==\" rel=\"stylesheet\" href=\"https://github.githubassets.com/assets/github-be76bd031ac96bdb7e03ddc7d25c403d.css\" />\\n    \\n    \\n    \\n    \\n\\n\\n  <meta name=\"viewport\" content=\"width=device-width\">\\n  \\n  <title>The world’s leading software development platform · GitHub</title>\\n    <meta name=\"description\" content=\"GitHub brings together the world’s largest community of developers to discover, share, and build better software. From open source projects to private team repositories, we’re your all-in-one platform for collaborative development.\">\\n    <link rel=\"search\" type=\"application/opensearchdescription+xml\" href=\"/opensearch.xml\" title=\"GitHub\">\\n  <link rel=\"fluid-icon\" href=\"https://github.com/fluidicon.png\" title=\"GitHub\">\\n  <meta property=\"fb:app_id\" content=\"1401488693436528\">\\n\\n    <meta property=\"og:url\" content=\"https://github.com\">\\n    <meta property=\"og:site_name\" content=\"GitHub\">\\n    <meta property=\"og:title\" content=\"Build software better, together\">\\n    <meta property=\"og:description\" content=\"GitHub is where people build software. More than 40 million people use GitHub to discover, fork, and contribute to over 100 million projects.\">\\n    <meta property=\"og:image\" content=\"https://github.githubassets.com/images/modules/open_graph/github-logo.png\">\\n    <meta property=\"og:image:type\" content=\"image/png\">\\n    <meta property=\"og:image:width\" content=\"1200\">\\n    <meta property=\"og:image:height\" content=\"1200\">\\n    <meta property=\"og:image\" content=\"https://github.githubassets.com/images/modules/open_graph/github-mark.png\">\\n    <meta property=\"og:image:type\" content=\"image/png\">\\n    <meta property=\"og:image:width\" content=\"1200\">\\n    <meta property=\"og:image:height\" content=\"620\">\\n    <meta property=\"og:image\" content=\"https://github.githubassets.com/images/modules/open_graph/github-octocat.png\">\\n    <meta property=\"og:image:type\" content=\"image/png\">\\n    <meta property=\"og:image:width\" content=\"1200\">\\n    <meta property=\"og:image:height\" content=\"620\">\\n\\n    <meta property=\"twitter:site\" content=\"github\">\\n    <meta property=\"twitter:site:id\" content=\"13334762\">\\n    <meta property=\"twitter:creator\" content=\"github\">\\n    <meta property=\"twitter:creator:id\" content=\"13334762\">\\n    <meta property=\"twitter:card\" content=\"summary_large_image\">\\n    <meta property=\"twitter:title\" content=\"GitHub\">\\n    <meta property=\"twitter:description\" content=\"GitHub is where people build software. More than 40 million people use GitHub to discover, fork, and contribute to over 100 million projects.\">\\n    <meta property=\"twitter:image:src\" content=\"https://github.githubassets.com/images/modules/open_graph/github-logo.png\">\\n    <meta property=\"twitter:image:width\" content=\"1200\">\\n    <meta property=\"twitter:image:height\" content=\"1200\">\\n\\n  <link rel=\"assets\" href=\"https://github.githubassets.com/\">\\n  \\n  \\n\\n  <meta name=\"request-id\" content=\"E690:6450:9DA1FE:E9BB88:5E75C881\" data-pjax-transient=\"true\"/><meta name=\"html-safe-nonce\" content=\"b648cc840de21dae38ed8308f2ac04fe099f305d\" data-pjax-transient=\"true\"/><meta name=\"visitor-payload\" content=\"eyJyZWZlcnJlciI6IiIsInJlcXVlc3RfaWQiOiJFNjkwOjY0NTA6OURBMUZFOkU5QkI4ODo1RTc1Qzg4MSIsInZpc2l0b3JfaWQiOiI3NDAwNjczNjI0MDg5NTQ0ODMzIiwicmVnaW9uX2VkZ2UiOiJpYWQiLCJyZWdpb25fcmVuZGVyIjoiaWFkIn0=\" data-pjax-transient=\"true\"/><meta name=\"visitor-hmac\" content=\"b5387c14897790cdf6d68be0e09f056b99afd8745f44dc5fbb754aa4e3307e13\" data-pjax-transient=\"true\"/>\\n\\n\\n    <meta name=\"page-subject\" content=\"GitHub\">\\n\\n  <meta name=\"github-keyboard-shortcuts\" content=\"dashboards\" data-pjax-transient=\"true\" />\\n\\n  \\n\\n  <meta name=\"selected-link\" value=\"/\" data-pjax-transient>\\n\\n    <meta name=\"google-site-verification\" content=\"KT5gs8h0wvaagLKAVWq8bbeNwnZZK1r1XQysX3xurLU\">\\n  <meta name=\"google-site-verification\" content=\"ZzhVyEFwb7w3e0-uOTltm8Jsck2F5StVihD0exw2fsA\">\\n  <meta name=\"google-site-verification\" content=\"GXs5KoUUkNCoaAZn7wPN-t01Pywp9M3sEjnt_3_ZWPc\">\\n\\n<meta name=\"octolytics-host\" content=\"collector.githubapp.com\" /><meta name=\"octolytics-app-id\" content=\"github\" /><meta name=\"octolytics-event-url\" content=\"https://collector.githubapp.com/github-external/browser_event\" /><meta name=\"octolytics-dimension-ga_id\" content=\"\" class=\"js-octo-ga-id\" />\\n\\n\\n\\n\\n    <meta name=\"google-analytics\" content=\"UA-3769691-2\">\\n\\n\\n<meta class=\"js-ga-set\" name=\"dimension1\" content=\"Logged Out\">\\n\\n\\n\\n  \\n\\n      <meta name=\"hostname\" content=\"github.com\">\\n    <meta name=\"user-login\" content=\"\">\\n\\n      <meta name=\"expected-hostname\" content=\"github.com\">\\n\\n\\n    <meta name=\"enabled-features\" content=\"MARKETPLACE_FEATURED_BLOG_POSTS,MARKETPLACE_INVOICED_BILLING,MARKETPLACE_SOCIAL_PROOF_CUSTOMERS,MARKETPLACE_TRENDING_SOCIAL_PROOF,MARKETPLACE_RECOMMENDATIONS,MARKETPLACE_PENDING_INSTALLATIONS,RELATED_ISSUES\">\\n\\n  <meta http-equiv=\"x-pjax-version\" content=\"019af388c00070c493b5c1f80e1c9eb0\">\\n  \\n\\n      <meta name=\"experiment-homepage_signup_flow\" content=\"eyJoYW5kbGUiOiJob21lcGFnZV9zaWdudXBfZmxvdyIsInJvbGxfb3V0X3BlcmNlbnQiOjMzLCJncm91cHMiOlt7ImhhbmRsZSI6ImVtYWlsIiwibWluIjowLCJtYXgiOjMyfSx7ImhhbmRsZSI6ImF1ZGllbmNlIiwibWluIjozMywibWF4Ijo2NX0seyJoYW5kbGUiOiJjb250cm9sIiwibWluIjo2NiwibWF4Ijo5OX1dLCJkZWZhdWx0IjpudWxsfQ==\" />\\n  <link crossorigin=\"anonymous\" media=\"all\" integrity=\"sha512-21eX2YaEYIYa91WFh0mXaxJ3wLQxy2ldlpRbyuCueK3MvqHGEzmXYPkMQ4XBtASauZXKlL1hPxQQU9g28R03wQ==\" rel=\"stylesheet\" href=\"https://github.githubassets.com/assets/site-db5797d9868460861af755858749976b.css\" />\\n\\n\\n    <link rel=\"canonical\" href=\"https://github.com/\" data-pjax-transient>\\n\\n\\n  <meta name=\"browser-stats-url\" content=\"https://api.github.com/_private/browser/stats\">\\n\\n  <meta name=\"browser-errors-url\" content=\"https://api.github.com/_private/browser/errors\">\\n\\n  <link rel=\"mask-icon\" href=\"https://github.githubassets.com/pinned-octocat.svg\" color=\"#000000\">\\n  <link rel=\"icon\" type=\"image/x-icon\" class=\"js-site-favicon\" href=\"https://github.githubassets.com/favicon.ico\">\\n\\n<meta name=\"theme-color\" content=\"#1e2327\">\\n\\n\\n  <link rel=\"manifest\" href=\"/manifest.json\" crossOrigin=\"use-credentials\">\\n\\n  </head>\\n\\n  <body class=\"logged-out env-production page-responsive f4\">\\n    \\n\\n  <div class=\"position-relative js-header-wrapper \">\\n    <a href=\"#start-of-content\" class=\"px-2 py-4 bg-blue text-white show-on-focus js-skip-to-content\">Skip to content</a>\\n    <span class=\"Progress progress-pjax-loader position-fixed width-full js-pjax-loader-bar\">\\n      <span class=\"progress-pjax-loader-bar top-0 left-0\" style=\"width: 0%;\"></span>\\n    </span>\\n\\n    \\n    \\n\\n\\n          <div id=\"unsupported-browser\" class=\"unsupported-browser\" hidden>\\n  <div class=\"container-xl p-responsive clearfix d-flex flex-items-center py-2\">\\n      <svg height=\"16\" class=\"octicon octicon-alert mr-2 color-gray-7 hide-sm\" viewBox=\"0 0 16 16\" version=\"1.1\" width=\"16\" aria-hidden=\"true\"><path fill-rule=\"evenodd\" d=\"M8.893 1.5c-.183-.31-.52-.5-.887-.5s-.703.19-.886.5L.138 13.499a.98.98 0 000 1.001c.193.31.53.501.886.501h13.964c.367 0 .704-.19.877-.5a1.03 1.03 0 00.01-1.002L8.893 1.5zm.133 11.497H6.987v-2.003h2.039v2.003zm0-3.004H6.987V5.987h2.039v4.006z\"/></svg>\\n    <div class=\"d-flex flex-auto flex-column flex-md-row\">\\n      <div class=\"flex-auto min-width-0 mr-2\" style=\"padding-top:1px\">\\n        <span>GitHub no longer supports this web browser.</span>\\n        <a href=\"https://help.github.com/articles/supported-browsers\">\\n          Learn more about the browsers we support.\\n        </a>\\n      </div>\\n    </div>\\n  </div>\\n</div>\\n\\n\\n\\n        <header class=\"Header-old header-logged-out js-details-container Details position-relative f4 py-2\" role=\"banner\">\\n  <div class=\"container-xl d-lg-flex flex-items-center p-responsive\">\\n    <div class=\"d-flex flex-justify-between flex-items-center\">\\n        <a class=\"mr-4\" href=\"https://github.com/\" aria-label=\"Homepage\" data-ga-click=\"(Logged out) Header, go to homepage, icon:logo-wordmark\">\\n          <svg height=\"32\" class=\"octicon octicon-mark-github text-white\" viewBox=\"0 0 16 16\" version=\"1.1\" width=\"32\" aria-hidden=\"true\"><path fill-rule=\"evenodd\" d=\"M8 0C3.58 0 0 3.58 0 8c0 3.54 2.29 6.53 5.47 7.59.4.07.55-.17.55-.38 0-.19-.01-.82-.01-1.49-2.01.37-2.53-.49-2.69-.94-.09-.23-.48-.94-.82-1.13-.28-.15-.68-.52-.01-.53.63-.01 1.08.58 1.23.82.72 1.21 1.87.87 2.33.66.07-.52.28-.87.51-1.07-1.78-.2-3.64-.89-3.64-3.95 0-.87.31-1.59.82-2.15-.08-.2-.36-1.02.08-2.12 0 0 .67-.21 2.2.82.64-.18 1.32-.27 2-.27.68 0 1.36.09 2 .27 1.53-1.04 2.2-.82 2.2-.82.44 1.1.16 1.92.08 2.12.51.56.82 1.27.82 2.15 0 3.07-1.87 3.75-3.65 3.95.29.25.54.73.54 1.48 0 1.07-.01 1.93-.01 2.2 0 .21.15.46.55.38A8.013 8.013 0 0016 8c0-4.42-3.58-8-8-8z\"/></svg>\\n        </a>\\n\\n          <div class=\"d-lg-none css-truncate css-truncate-target width-fit p-2\">\\n            \\n\\n          </div>\\n\\n        <div class=\"d-flex flex-items-center\">\\n            <a href=\"/join?source=header-home\"\\n              class=\"d-inline-block d-lg-none f5 text-white no-underline border border-gray-dark rounded-2 px-2 py-1 mr-3 mr-sm-5\"\\n              data-hydro-click=\"{&quot;event_type&quot;:&quot;authentication.click&quot;,&quot;payload&quot;:{&quot;location_in_page&quot;:&quot;site header&quot;,&quot;repository_id&quot;:null,&quot;auth_type&quot;:&quot;SIGN_UP&quot;,&quot;originating_url&quot;:&quot;https://github.com/&quot;,&quot;user_id&quot;:null}}\" data-hydro-click-hmac=\"520d87e8f83281e6946b192f0f840552721c7fcba9b9c36d802e898a816314e2\"\\n              data-ga-click=\"(Logged out) Header, clicked Sign up, text:sign-up\">\\n              Sign&nbsp;up\\n            </a>\\n\\n          <button class=\"btn-link d-lg-none mt-1 js-details-target\" type=\"button\" aria-label=\"Toggle navigation\" aria-expanded=\"false\">\\n            <svg height=\"24\" class=\"octicon octicon-three-bars text-white\" viewBox=\"0 0 12 16\" version=\"1.1\" width=\"18\" aria-hidden=\"true\"><path fill-rule=\"evenodd\" d=\"M11.41 9H.59C0 9 0 8.59 0 8c0-.59 0-1 .59-1H11.4c.59 0 .59.41.59 1 0 .59 0 1-.59 1h.01zm0-4H.59C0 5 0 4.59 0 4c0-.59 0-1 .59-1H11.4c.59 0 .59.41.59 1 0 .59 0 1-.59 1h.01zM.59 11H11.4c.59 0 .59.41.59 1 0 .59 0 1-.59 1H.59C0 13 0 12.59 0 12c0-.59 0-1 .59-1z\"/></svg>\\n          </button>\\n        </div>\\n    </div>\\n\\n    <div class=\"HeaderMenu HeaderMenu--logged-out position-fixed top-0 right-0 bottom-0 height-fit position-lg-relative d-lg-flex flex-justify-between flex-items-center flex-auto\">\\n      <div class=\"d-flex d-lg-none flex-justify-end border-bottom bg-gray-light p-3\">\\n        <button class=\"btn-link js-details-target\" type=\"button\" aria-label=\"Toggle navigation\" aria-expanded=\"false\">\\n          <svg height=\"24\" class=\"octicon octicon-x text-gray\" viewBox=\"0 0 12 16\" version=\"1.1\" width=\"18\" aria-hidden=\"true\"><path fill-rule=\"evenodd\" d=\"M7.48 8l3.75 3.75-1.48 1.48L6 9.48l-3.75 3.75-1.48-1.48L4.52 8 .77 4.25l1.48-1.48L6 6.52l3.75-3.75 1.48 1.48L7.48 8z\"/></svg>\\n        </button>\\n      </div>\\n\\n        <nav class=\"mt-0 px-3 px-lg-0 mb-5 mb-lg-0\" aria-label=\"Global\">\\n          <ul class=\"d-lg-flex list-style-none\">\\n              <li class=\"d-block d-lg-flex flex-lg-nowrap flex-lg-items-center border-bottom border-lg-bottom-0 mr-0 mr-lg-3 edge-item-fix position-relative flex-wrap flex-justify-between d-flex flex-items-center \">\\n                <details class=\"HeaderMenu-details details-overlay details-reset width-full\">\\n                  <summary class=\"HeaderMenu-summary HeaderMenu-link px-0 py-3 border-0 no-wrap d-block d-lg-inline-block\">\\n                    Why GitHub?\\n                    <svg x=\"0px\" y=\"0px\" viewBox=\"0 0 14 8\" xml:space=\"preserve\" fill=\"none\" class=\"icon-chevon-down-mktg position-absolute position-lg-relative\">\\n                      <path d=\"M1,1l6.2,6L13,1\"></path>\\n                    </svg>\\n                  </summary>\\n                  <div class=\"dropdown-menu flex-auto rounded-1 bg-white px-0 mt-0 pb-4 p-lg-4 position-relative position-lg-absolute left-0 left-lg-n4\">\\n                    <a href=\"/features\" class=\"py-2 lh-condensed-ultra d-block link-gray-dark no-underline h5 Bump-link--hover\" data-ga-click=\"(Logged out) Header, go to Features\">Features <span class=\"Bump-link-symbol float-right text-normal text-gray-light\">&rarr;</span></a>\\n                    <ul class=\"list-style-none f5 pb-3\">\\n                      <li class=\"edge-item-fix\"><a href=\"/features/code-review/\" class=\"py-2 lh-condensed-ultra d-block link-gray no-underline f5\" data-ga-click=\"(Logged out) Header, go to Code review\">Code review</a></li>\\n                      <li class=\"edge-item-fix\"><a href=\"/features/project-management/\" class=\"py-2 lh-condensed-ultra d-block link-gray no-underline f5\" data-ga-click=\"(Logged out) Header, go to Project management\">Project management</a></li>\\n                      <li class=\"edge-item-fix\"><a href=\"/features/integrations\" class=\"py-2 lh-condensed-ultra d-block link-gray no-underline f5\" data-ga-click=\"(Logged out) Header, go to Integrations\">Integrations</a></li>\\n                      <li class=\"edge-item-fix\"><a href=\"/features/actions\" class=\"py-2 lh-condensed-ultra d-block link-gray no-underline f5\" data-ga-click=\"(Logged out) Header, go to Actions\">Actions</a></li>\\n                          <li class=\"edge-item-fix\"><a href=\"/features/packages\" class=\"py-2 lh-condensed-ultra d-block link-gray no-underline f5\" data-ga-click=\"(Logged out) Header, go to GitHub Packages\">Packages</a></li>\\n                      <li class=\"edge-item-fix\"><a href=\"/features/security\" class=\"py-2 lh-condensed-ultra d-block link-gray no-underline f5\" data-ga-click=\"(Logged out) Header, go to Security\">Security</a></li>\\n                      <li class=\"edge-item-fix\"><a href=\"/features#team-management\" class=\"py-2 lh-condensed-ultra d-block link-gray no-underline f5\" data-ga-click=\"(Logged out) Header, go to Team management\">Team management</a></li>\\n                      <li class=\"edge-item-fix\"><a href=\"/features#hosting\" class=\"py-2 lh-condensed-ultra d-block link-gray no-underline f5\" data-ga-click=\"(Logged out) Header, go to Code hosting\">Hosting</a></li>\\n                    </ul>\\n\\n                    <ul class=\"list-style-none mb-0 border-lg-top pt-lg-3\">\\n                      <li class=\"edge-item-fix\"><a href=\"/customer-stories\" class=\"py-2 lh-condensed-ultra d-block no-underline link-gray-dark no-underline h5 Bump-link--hover\" data-ga-click=\"(Logged out) Header, go to Customer stories\">Customer stories <span class=\"Bump-link-symbol float-right text-normal text-gray-light\">&rarr;</span></a></li>\\n                      <li class=\"edge-item-fix\"><a href=\"/security\" class=\"py-2 lh-condensed-ultra d-block no-underline link-gray-dark no-underline h5 Bump-link--hover\" data-ga-click=\"(Logged out) Header, go to Security\">Security <span class=\"Bump-link-symbol float-right text-normal text-gray-light\">&rarr;</span></a></li>\\n                    </ul>\\n                  </div>\\n                </details>\\n              </li>\\n              <li class=\"border-bottom border-lg-bottom-0 mr-0 mr-lg-3\">\\n                <a href=\"/enterprise\" class=\"HeaderMenu-link no-underline py-3 d-block d-lg-inline-block\" data-ga-click=\"(Logged out) Header, go to Enterprise\">Enterprise</a>\\n              </li>\\n\\n              <li class=\"d-block d-lg-flex flex-lg-nowrap flex-lg-items-center border-bottom border-lg-bottom-0 mr-0 mr-lg-3 edge-item-fix position-relative flex-wrap flex-justify-between d-flex flex-items-center \">\\n                <details class=\"HeaderMenu-details details-overlay details-reset width-full\">\\n                  <summary class=\"HeaderMenu-summary HeaderMenu-link px-0 py-3 border-0 no-wrap d-block d-lg-inline-block\">\\n                    Explore\\n                    <svg x=\"0px\" y=\"0px\" viewBox=\"0 0 14 8\" xml:space=\"preserve\" fill=\"none\" class=\"icon-chevon-down-mktg position-absolute position-lg-relative\">\\n                      <path d=\"M1,1l6.2,6L13,1\"></path>\\n                    </svg>\\n                  </summary>\\n\\n                  <div class=\"dropdown-menu flex-auto rounded-1 bg-white px-0 pt-2 pb-0 mt-0 pb-4 p-lg-4 position-relative position-lg-absolute left-0 left-lg-n4\">\\n                    <ul class=\"list-style-none mb-3\">\\n                      <li class=\"edge-item-fix\"><a href=\"/explore\" class=\"py-2 lh-condensed-ultra d-block link-gray-dark no-underline h5 Bump-link--hover\" data-ga-click=\"(Logged out) Header, go to Explore\">Explore GitHub <span class=\"Bump-link-symbol float-right text-normal text-gray-light\">&rarr;</span></a></li>\\n                    </ul>\\n\\n                    <h4 class=\"text-gray-light text-normal text-mono f5 mb-2 border-lg-top pt-lg-3\">Learn &amp; contribute</h4>\\n                    <ul class=\"list-style-none mb-3\">\\n                      <li class=\"edge-item-fix\"><a href=\"/topics\" class=\"py-2 lh-condensed-ultra d-block link-gray no-underline f5\" data-ga-click=\"(Logged out) Header, go to Topics\">Topics</a></li>\\n                        <li class=\"edge-item-fix\"><a href=\"/collections\" class=\"py-2 lh-condensed-ultra d-block link-gray no-underline f5\" data-ga-click=\"(Logged out) Header, go to Collections\">Collections</a></li>\\n                      <li class=\"edge-item-fix\"><a href=\"/trending\" class=\"py-2 lh-condensed-ultra d-block link-gray no-underline f5\" data-ga-click=\"(Logged out) Header, go to Trending\">Trending</a></li>\\n                      <li class=\"edge-item-fix\"><a href=\"https://lab.github.com/\" class=\"py-2 lh-condensed-ultra d-block link-gray no-underline f5\" data-ga-click=\"(Logged out) Header, go to Learning lab\">Learning Lab</a></li>\\n                      <li class=\"edge-item-fix\"><a href=\"https://opensource.guide\" class=\"py-2 lh-condensed-ultra d-block link-gray no-underline f5\" data-ga-click=\"(Logged out) Header, go to Open source guides\">Open source guides</a></li>\\n                    </ul>\\n\\n                    <h4 class=\"text-gray-light text-normal text-mono f5 mb-2 border-lg-top pt-lg-3\">Connect with others</h4>\\n                    <ul class=\"list-style-none mb-0\">\\n                      <li class=\"edge-item-fix\"><a href=\"https://github.com/events\" class=\"py-2 lh-condensed-ultra d-block link-gray no-underline f5\" data-ga-click=\"(Logged out) Header, go to Events\">Events</a></li>\\n                      <li class=\"edge-item-fix\"><a href=\"https://github.community\" class=\"py-2 lh-condensed-ultra d-block link-gray no-underline f5\" data-ga-click=\"(Logged out) Header, go to Community forum\">Community forum</a></li>\\n                      <li class=\"edge-item-fix\"><a href=\"https://education.github.com\" class=\"py-2 pb-0 lh-condensed-ultra d-block link-gray no-underline f5\" data-ga-click=\"(Logged out) Header, go to GitHub Education\">GitHub Education</a></li>\\n                    </ul>\\n                  </div>\\n                </details>\\n              </li>\\n\\n              <li class=\"border-bottom border-lg-bottom-0 mr-0 mr-lg-3\">\\n                <a href=\"/marketplace\" class=\"HeaderMenu-link no-underline py-3 d-block d-lg-inline-block\" data-ga-click=\"(Logged out) Header, go to Marketplace\">Marketplace</a>\\n              </li>\\n\\n              <li class=\"d-block d-lg-flex flex-lg-nowrap flex-lg-items-center border-bottom border-lg-bottom-0 mr-0 mr-lg-3 edge-item-fix position-relative flex-wrap flex-justify-between d-flex flex-items-center \">\\n                <details class=\"HeaderMenu-details details-overlay details-reset width-full\">\\n                  <summary class=\"HeaderMenu-summary HeaderMenu-link px-0 py-3 border-0 no-wrap d-block d-lg-inline-block\">\\n                    Pricing\\n                    <svg x=\"0px\" y=\"0px\" viewBox=\"0 0 14 8\" xml:space=\"preserve\" fill=\"none\" class=\"icon-chevon-down-mktg position-absolute position-lg-relative\">\\n                       <path d=\"M1,1l6.2,6L13,1\"></path>\\n                    </svg>\\n                  </summary>\\n\\n                  <div class=\"dropdown-menu flex-auto rounded-1 bg-white px-0 pt-2 pb-4 mt-0 p-lg-4 position-relative position-lg-absolute left-0 left-lg-n4\">\\n                    <a href=\"/pricing\" class=\"pb-2 lh-condensed-ultra d-block link-gray-dark no-underline h5 Bump-link--hover\" data-ga-click=\"(Logged out) Header, go to Pricing\">Plans <span class=\"Bump-link-symbol float-right text-normal text-gray-light\">&rarr;</span></a>\\n\\n                    <ul class=\"list-style-none mb-3\">\\n                      <li class=\"edge-item-fix\"><a href=\"/pricing#feature-comparison\" class=\"py-2 lh-condensed-ultra d-block link-gray no-underline f5\" data-ga-click=\"(Logged out) Header, go to Compare plans\">Compare plans</a></li>\\n                      <li class=\"edge-item-fix\"><a href=\"https://enterprise.github.com/contact\" class=\"py-2 lh-condensed-ultra d-block link-gray no-underline f5\" data-ga-click=\"(Logged out) Header, go to Contact Sales\">Contact Sales</a></li>\\n                    </ul>\\n\\n                    <ul class=\"list-style-none mb-0 border-lg-top pt-lg-3\">\\n                      <li class=\"edge-item-fix\"><a href=\"/nonprofit\" class=\"py-2 lh-condensed-ultra d-block no-underline link-gray-dark no-underline h5 Bump-link--hover\" data-ga-click=\"(Logged out) Header, go to Nonprofits\">Nonprofit <span class=\"Bump-link-symbol float-right text-normal text-gray-light\">&rarr;</span></a></li>\\n                      <li class=\"edge-item-fix\"><a href=\"https://education.github.com\" class=\"py-2 pb-0 lh-condensed-ultra d-block no-underline link-gray-dark no-underline h5 Bump-link--hover\"  data-ga-click=\"(Logged out) Header, go to Education\">Education <span class=\"Bump-link-symbol float-right text-normal text-gray-light\">&rarr;</span></a></li>\\n                    </ul>\\n                  </div>\\n                </details>\\n              </li>\\n          </ul>\\n        </nav>\\n\\n      <div class=\"d-lg-flex flex-items-center px-3 px-lg-0 text-center text-lg-left\">\\n          <div class=\"d-lg-flex mb-3 mb-lg-0\">\\n            <div class=\"header-search flex-self-stretch flex-lg-self-auto mr-0 mr-lg-3 mb-3 mb-lg-0   js-site-search position-relative js-jump-to\"\\n  role=\"combobox\"\\n  aria-owns=\"jump-to-results\"\\n  aria-label=\"Search or jump to\"\\n  aria-haspopup=\"listbox\"\\n  aria-expanded=\"false\"\\n>\\n  <div class=\"position-relative\">\\n    <!-- \\'\"` --><!-- </textarea></xmp> --></option></form><form class=\"js-site-search-form\" role=\"search\" aria-label=\"Site\" data-unscoped-search-url=\"/search\" action=\"/search\" accept-charset=\"UTF-8\" method=\"get\">\\n      <label class=\"form-control input-sm header-search-wrapper p-0 header-search-wrapper-jump-to position-relative d-flex flex-justify-between flex-items-center js-chromeless-input-container\">\\n        <input type=\"text\"\\n          class=\"form-control input-sm header-search-input jump-to-field js-jump-to-field js-site-search-focus \"\\n          data-hotkey=\"s,/\"\\n          name=\"q\"\\n          value=\"\"\\n          placeholder=\"Search GitHub\"\\n          data-unscoped-placeholder=\"Search GitHub\"\\n          data-scoped-placeholder=\"Search\"\\n          autocapitalize=\"off\"\\n          aria-autocomplete=\"list\"\\n          aria-controls=\"jump-to-results\"\\n          aria-label=\"Search GitHub\"\\n          data-jump-to-suggestions-path=\"/_graphql/GetSuggestedNavigationDestinations\"\\n          spellcheck=\"false\"\\n          autocomplete=\"off\"\\n          >\\n          <input type=\"hidden\" data-csrf=\"true\" class=\"js-data-jump-to-suggestions-path-csrf\" value=\"lLmwMiJBoE1kl1Yh2yP4MZHfpHt8gkHT7CzZjwqhG/fBOp8MiQb9eaUQrSKqOhEH+rsQVQtqWmRrVAHCcX4K+g==\" />\\n          <input type=\"hidden\" class=\"js-site-search-type-field\" name=\"type\" >\\n            <img src=\"https://github.githubassets.com/images/search-key-slash.svg\" alt=\"\" class=\"mr-2 header-search-key-slash\">\\n\\n            <div class=\"Box position-absolute overflow-hidden d-none jump-to-suggestions js-jump-to-suggestions-container\">\\n              \\n<ul class=\"d-none js-jump-to-suggestions-template-container\">\\n  \\n\\n<li class=\"d-flex flex-justify-start flex-items-center p-0 f5 navigation-item js-navigation-item js-jump-to-suggestion\" role=\"option\">\\n  <a tabindex=\"-1\" class=\"no-underline d-flex flex-auto flex-items-center jump-to-suggestions-path js-jump-to-suggestion-path js-navigation-open p-2\" href=\"\">\\n    <div class=\"jump-to-octicon js-jump-to-octicon flex-shrink-0 mr-2 text-center d-none\">\\n      <svg height=\"16\" width=\"16\" class=\"octicon octicon-repo flex-shrink-0 js-jump-to-octicon-repo d-none\" title=\"Repository\" aria-label=\"Repository\" viewBox=\"0 0 12 16\" version=\"1.1\" role=\"img\"><path fill-rule=\"evenodd\" d=\"M4 9H3V8h1v1zm0-3H3v1h1V6zm0-2H3v1h1V4zm0-2H3v1h1V2zm8-1v12c0 .55-.45 1-1 1H6v2l-1.5-1.5L3 16v-2H1c-.55 0-1-.45-1-1V1c0-.55.45-1 1-1h10c.55 0 1 .45 1 1zm-1 10H1v2h2v-1h3v1h5v-2zm0-10H2v9h9V1z\"/></svg>\\n      <svg height=\"16\" width=\"16\" class=\"octicon octicon-project flex-shrink-0 js-jump-to-octicon-project d-none\" title=\"Project\" aria-label=\"Project\" viewBox=\"0 0 15 16\" version=\"1.1\" role=\"img\"><path fill-rule=\"evenodd\" d=\"M10 12h3V2h-3v10zm-4-2h3V2H6v8zm-4 4h3V2H2v12zm-1 1h13V1H1v14zM14 0H1a1 1 0 00-1 1v14a1 1 0 001 1h13a1 1 0 001-1V1a1 1 0 00-1-1z\"/></svg>\\n      <svg height=\"16\" width=\"16\" class=\"octicon octicon-search flex-shrink-0 js-jump-to-octicon-search d-none\" title=\"Search\" aria-label=\"Search\" viewBox=\"0 0 16 16\" version=\"1.1\" role=\"img\"><path fill-rule=\"evenodd\" d=\"M15.7 13.3l-3.81-3.83A5.93 5.93 0 0013 6c0-3.31-2.69-6-6-6S1 2.69 1 6s2.69 6 6 6c1.3 0 2.48-.41 3.47-1.11l3.83 3.81c.19.2.45.3.7.3.25 0 .52-.09.7-.3a.996.996 0 000-1.41v.01zM7 10.7c-2.59 0-4.7-2.11-4.7-4.7 0-2.59 2.11-4.7 4.7-4.7 2.59 0 4.7 2.11 4.7 4.7 0 2.59-2.11 4.7-4.7 4.7z\"/></svg>\\n    </div>\\n\\n    <img class=\"avatar mr-2 flex-shrink-0 js-jump-to-suggestion-avatar d-none\" alt=\"\" aria-label=\"Team\" src=\"\" width=\"28\" height=\"28\">\\n\\n    <div class=\"jump-to-suggestion-name js-jump-to-suggestion-name flex-auto overflow-hidden text-left no-wrap css-truncate css-truncate-target\">\\n    </div>\\n\\n    <div class=\"border rounded-1 flex-shrink-0 bg-gray px-1 text-gray-light ml-1 f6 d-none js-jump-to-badge-search\">\\n      <span class=\"js-jump-to-badge-search-text-default d-none\" aria-label=\"in all of GitHub\">\\n        Search\\n      </span>\\n      <span class=\"js-jump-to-badge-search-text-global d-none\" aria-label=\"in all of GitHub\">\\n        All GitHub\\n      </span>\\n      <span aria-hidden=\"true\" class=\"d-inline-block ml-1 v-align-middle\">↵</span>\\n    </div>\\n\\n    <div aria-hidden=\"true\" class=\"border rounded-1 flex-shrink-0 bg-gray px-1 text-gray-light ml-1 f6 d-none d-on-nav-focus js-jump-to-badge-jump\">\\n      Jump to\\n      <span class=\"d-inline-block ml-1 v-align-middle\">↵</span>\\n    </div>\\n  </a>\\n</li>\\n\\n</ul>\\n\\n<ul class=\"d-none js-jump-to-no-results-template-container\">\\n  <li class=\"d-flex flex-justify-center flex-items-center f5 d-none js-jump-to-suggestion p-2\">\\n    <span class=\"text-gray\">No suggested jump to results</span>\\n  </li>\\n</ul>\\n\\n<ul id=\"jump-to-results\" role=\"listbox\" class=\"p-0 m-0 js-navigation-container jump-to-suggestions-results-container js-jump-to-suggestions-results-container\">\\n  \\n\\n<li class=\"d-flex flex-justify-start flex-items-center p-0 f5 navigation-item js-navigation-item js-jump-to-scoped-search d-none\" role=\"option\">\\n  <a tabindex=\"-1\" class=\"no-underline d-flex flex-auto flex-items-center jump-to-suggestions-path js-jump-to-suggestion-path js-navigation-open p-2\" href=\"\">\\n    <div class=\"jump-to-octicon js-jump-to-octicon flex-shrink-0 mr-2 text-center d-none\">\\n      <svg height=\"16\" width=\"16\" class=\"octicon octicon-repo flex-shrink-0 js-jump-to-octicon-repo d-none\" title=\"Repository\" aria-label=\"Repository\" viewBox=\"0 0 12 16\" version=\"1.1\" role=\"img\"><path fill-rule=\"evenodd\" d=\"M4 9H3V8h1v1zm0-3H3v1h1V6zm0-2H3v1h1V4zm0-2H3v1h1V2zm8-1v12c0 .55-.45 1-1 1H6v2l-1.5-1.5L3 16v-2H1c-.55 0-1-.45-1-1V1c0-.55.45-1 1-1h10c.55 0 1 .45 1 1zm-1 10H1v2h2v-1h3v1h5v-2zm0-10H2v9h9V1z\"/></svg>\\n      <svg height=\"16\" width=\"16\" class=\"octicon octicon-project flex-shrink-0 js-jump-to-octicon-project d-none\" title=\"Project\" aria-label=\"Project\" viewBox=\"0 0 15 16\" version=\"1.1\" role=\"img\"><path fill-rule=\"evenodd\" d=\"M10 12h3V2h-3v10zm-4-2h3V2H6v8zm-4 4h3V2H2v12zm-1 1h13V1H1v14zM14 0H1a1 1 0 00-1 1v14a1 1 0 001 1h13a1 1 0 001-1V1a1 1 0 00-1-1z\"/></svg>\\n      <svg height=\"16\" width=\"16\" class=\"octicon octicon-search flex-shrink-0 js-jump-to-octicon-search d-none\" title=\"Search\" aria-label=\"Search\" viewBox=\"0 0 16 16\" version=\"1.1\" role=\"img\"><path fill-rule=\"evenodd\" d=\"M15.7 13.3l-3.81-3.83A5.93 5.93 0 0013 6c0-3.31-2.69-6-6-6S1 2.69 1 6s2.69 6 6 6c1.3 0 2.48-.41 3.47-1.11l3.83 3.81c.19.2.45.3.7.3.25 0 .52-.09.7-.3a.996.996 0 000-1.41v.01zM7 10.7c-2.59 0-4.7-2.11-4.7-4.7 0-2.59 2.11-4.7 4.7-4.7 2.59 0 4.7 2.11 4.7 4.7 0 2.59-2.11 4.7-4.7 4.7z\"/></svg>\\n    </div>\\n\\n    <img class=\"avatar mr-2 flex-shrink-0 js-jump-to-suggestion-avatar d-none\" alt=\"\" aria-label=\"Team\" src=\"\" width=\"28\" height=\"28\">\\n\\n    <div class=\"jump-to-suggestion-name js-jump-to-suggestion-name flex-auto overflow-hidden text-left no-wrap css-truncate css-truncate-target\">\\n    </div>\\n\\n    <div class=\"border rounded-1 flex-shrink-0 bg-gray px-1 text-gray-light ml-1 f6 d-none js-jump-to-badge-search\">\\n      <span class=\"js-jump-to-badge-search-text-default d-none\" aria-label=\"in all of GitHub\">\\n        Search\\n      </span>\\n      <span class=\"js-jump-to-badge-search-text-global d-none\" aria-label=\"in all of GitHub\">\\n        All GitHub\\n      </span>\\n      <span aria-hidden=\"true\" class=\"d-inline-block ml-1 v-align-middle\">↵</span>\\n    </div>\\n\\n    <div aria-hidden=\"true\" class=\"border rounded-1 flex-shrink-0 bg-gray px-1 text-gray-light ml-1 f6 d-none d-on-nav-focus js-jump-to-badge-jump\">\\n      Jump to\\n      <span class=\"d-inline-block ml-1 v-align-middle\">↵</span>\\n    </div>\\n  </a>\\n</li>\\n\\n  \\n\\n<li class=\"d-flex flex-justify-start flex-items-center p-0 f5 navigation-item js-navigation-item js-jump-to-global-search d-none\" role=\"option\">\\n  <a tabindex=\"-1\" class=\"no-underline d-flex flex-auto flex-items-center jump-to-suggestions-path js-jump-to-suggestion-path js-navigation-open p-2\" href=\"\">\\n    <div class=\"jump-to-octicon js-jump-to-octicon flex-shrink-0 mr-2 text-center d-none\">\\n      <svg height=\"16\" width=\"16\" class=\"octicon octicon-repo flex-shrink-0 js-jump-to-octicon-repo d-none\" title=\"Repository\" aria-label=\"Repository\" viewBox=\"0 0 12 16\" version=\"1.1\" role=\"img\"><path fill-rule=\"evenodd\" d=\"M4 9H3V8h1v1zm0-3H3v1h1V6zm0-2H3v1h1V4zm0-2H3v1h1V2zm8-1v12c0 .55-.45 1-1 1H6v2l-1.5-1.5L3 16v-2H1c-.55 0-1-.45-1-1V1c0-.55.45-1 1-1h10c.55 0 1 .45 1 1zm-1 10H1v2h2v-1h3v1h5v-2zm0-10H2v9h9V1z\"/></svg>\\n      <svg height=\"16\" width=\"16\" class=\"octicon octicon-project flex-shrink-0 js-jump-to-octicon-project d-none\" title=\"Project\" aria-label=\"Project\" viewBox=\"0 0 15 16\" version=\"1.1\" role=\"img\"><path fill-rule=\"evenodd\" d=\"M10 12h3V2h-3v10zm-4-2h3V2H6v8zm-4 4h3V2H2v12zm-1 1h13V1H1v14zM14 0H1a1 1 0 00-1 1v14a1 1 0 001 1h13a1 1 0 001-1V1a1 1 0 00-1-1z\"/></svg>\\n      <svg height=\"16\" width=\"16\" class=\"octicon octicon-search flex-shrink-0 js-jump-to-octicon-search d-none\" title=\"Search\" aria-label=\"Search\" viewBox=\"0 0 16 16\" version=\"1.1\" role=\"img\"><path fill-rule=\"evenodd\" d=\"M15.7 13.3l-3.81-3.83A5.93 5.93 0 0013 6c0-3.31-2.69-6-6-6S1 2.69 1 6s2.69 6 6 6c1.3 0 2.48-.41 3.47-1.11l3.83 3.81c.19.2.45.3.7.3.25 0 .52-.09.7-.3a.996.996 0 000-1.41v.01zM7 10.7c-2.59 0-4.7-2.11-4.7-4.7 0-2.59 2.11-4.7 4.7-4.7 2.59 0 4.7 2.11 4.7 4.7 0 2.59-2.11 4.7-4.7 4.7z\"/></svg>\\n    </div>\\n\\n    <img class=\"avatar mr-2 flex-shrink-0 js-jump-to-suggestion-avatar d-none\" alt=\"\" aria-label=\"Team\" src=\"\" width=\"28\" height=\"28\">\\n\\n    <div class=\"jump-to-suggestion-name js-jump-to-suggestion-name flex-auto overflow-hidden text-left no-wrap css-truncate css-truncate-target\">\\n    </div>\\n\\n    <div class=\"border rounded-1 flex-shrink-0 bg-gray px-1 text-gray-light ml-1 f6 d-none js-jump-to-badge-search\">\\n      <span class=\"js-jump-to-badge-search-text-default d-none\" aria-label=\"in all of GitHub\">\\n        Search\\n      </span>\\n      <span class=\"js-jump-to-badge-search-text-global d-none\" aria-label=\"in all of GitHub\">\\n        All GitHub\\n      </span>\\n      <span aria-hidden=\"true\" class=\"d-inline-block ml-1 v-align-middle\">↵</span>\\n    </div>\\n\\n    <div aria-hidden=\"true\" class=\"border rounded-1 flex-shrink-0 bg-gray px-1 text-gray-light ml-1 f6 d-none d-on-nav-focus js-jump-to-badge-jump\">\\n      Jump to\\n      <span class=\"d-inline-block ml-1 v-align-middle\">↵</span>\\n    </div>\\n  </a>\\n</li>\\n\\n\\n</ul>\\n\\n            </div>\\n      </label>\\n</form>  </div>\\n</div>\\n\\n          </div>\\n\\n        <a href=\"/login\"\\n          class=\"HeaderMenu-link no-underline mr-3\"\\n          data-hydro-click=\"{&quot;event_type&quot;:&quot;authentication.click&quot;,&quot;payload&quot;:{&quot;location_in_page&quot;:&quot;site header menu&quot;,&quot;repository_id&quot;:null,&quot;auth_type&quot;:&quot;SIGN_UP&quot;,&quot;originating_url&quot;:&quot;https://github.com/&quot;,&quot;user_id&quot;:null}}\" data-hydro-click-hmac=\"cd4f672ed9a2fa51ea92c28de162e81edb2d11a2aad6884ec89a6d60b21b1cfb\"\\n          data-ga-click=\"(Logged out) Header, clicked Sign in, text:sign-in\">\\n          Sign&nbsp;in\\n        </a>\\n          <a href=\"/join?source=header-home\"\\n            class=\"HeaderMenu-link d-inline-block no-underline border border-gray-dark rounded-1 px-2 py-1\"\\n            data-hydro-click=\"{&quot;event_type&quot;:&quot;authentication.click&quot;,&quot;payload&quot;:{&quot;location_in_page&quot;:&quot;site header menu&quot;,&quot;repository_id&quot;:null,&quot;auth_type&quot;:&quot;SIGN_UP&quot;,&quot;originating_url&quot;:&quot;https://github.com/&quot;,&quot;user_id&quot;:null}}\" data-hydro-click-hmac=\"cd4f672ed9a2fa51ea92c28de162e81edb2d11a2aad6884ec89a6d60b21b1cfb\"\\n            data-ga-click=\"(Logged out) Header, clicked Sign up, text:sign-up\">\\n            Sign&nbsp;up\\n          </a>\\n      </div>\\n    </div>\\n  </div>\\n</header>\\n\\n  </div>\\n\\n  <div id=\"start-of-content\" class=\"show-on-focus\"></div>\\n\\n\\n    <div id=\"js-flash-container\">\\n\\n</div>\\n\\n\\n    \\n\\n  <include-fragment class=\"js-notification-shelf-include-fragment\" data-base-src=\"https://github.com/notifications/beta/shelf\"></include-fragment>\\n\\n\\n\\n  <div class=\"application-main \" data-commit-hovercards-enabled>\\n        <main>\\n\\n\\n\\n\\n<div class=\"py-6 py-sm-8 jumbotron-codelines\">\\n  <div class=\"js-experiment-homepage-signup-container-xl p-responsive position-relative container-lg\">\\n    <div class=\"d-md-flex flex-items-center gutter-md-spacious\">\\n      <div class=\"col-md-7 text-center text-md-left \">\\n        <h1 class=\"h000-mktg text-white lh-condensed-ultra mb-3\">Built for developers</h1>\\n        <p class=\"lead-mktg mb-4\">\\n          GitHub is a development platform inspired by the way you work. From <a href=\"/open-source\" class=\"text-white jumbotron-link\">open source</a> to <a href=\"/business\" class=\"text-white jumbotron-link\">business</a>, you can host and review code, manage projects, and build software alongside 40 million developers.\\n        </p>\\n      </div>\\n        <noscript>\\n<div class=\"mx-auto col-sm-8 col-md-6 hide-sm\" data-experiment=\"homepage_signup_flow\" data-experiment-group=\"control\" data-experiment-default=\"true\">\\n  <div class=\"rounded-1 text-gray bg-gray-light py-4 px-4 px-md-3 px-lg-4\">\\n    <!-- \\'\"` --><!-- </textarea></xmp> --></option></form><form class=\"home-hero-signup text-gray-dark\" autocomplete=\"off\" action=\"/join\" accept-charset=\"UTF-8\" method=\"post\"><input type=\"hidden\" data-csrf=\"true\" name=\"authenticity_token\" value=\"KZB7i3JPQeNyGGCKLcop23h7ixitnrS+oaLYQOBWfm+/rFWnKOZv6x9nuwR82b2C5sk3wbGhp/uso+1LHJfn8A==\" />      <input type=\"hidden\" name=\"ga_id\" class=\"js-octo-ga-id-input\">\\n      <auto-check src=\"/signup_check/username?source=homepage&amp;suggest_usernames=true\">\\n        <dl class=\"form-group mt-0\">\\n          <dt class=\"input-label\">\\n            <label class=\"form-label h5\" for=\"user[login]\">Username</label>\\n          </dt>\\n          <dd>\\n            <input type=\"text\" name=\"user[login]\" id=\"user[login]\" class=\"form-control form-control-lg input-block\">\\n          </dd>\\n        </dl>\\n        <input type=\"hidden\" data-csrf=\"true\" value=\"Yc2LZJ0F6XgIBwD9M7sMH4mmlEd0d2bp/PHe6acyXTw0Vy4CknBxuCCWgtREjHHS3XtHm4c61Tm9WQMlhXGNCQ==\" />\\n      </auto-check>\\n      <auto-check src=\"/signup_check/email\">\\n        <dl class=\"form-group\">\\n          <dt class=\"input-label\">\\n            <label class=\"form-label h5\" for=\"user[email]\">Email</label>\\n          </dt>\\n          <dd>\\n            <input type=\"text\" name=\"user[email]\" id=\"user[email]\" class=\"form-control form-control-lg input-block js-email-notice-trigger\">\\n          </dd>\\n        </dl>\\n        <input type=\"hidden\" data-csrf=\"true\" value=\"/G/TNBf34p+hJkAAXLW+HHsfGagYPJoP08CyFD22HrzmcAgjaTsgW+eT9aPDDkkbbO/Fhj2lmkCPTPQ9m/VONQ==\" />\\n      </auto-check>\\n      <password-strength\\n        minimum-character-count=\"8\"\\n        passphrase-length=\"15\"\\n        invalid-message=\"Password is invalid.\"\\n        error-class=\"text-red text-bold\"\\n        pass-class=\"text-green\"\\n      >\\n        <dl class=\"form-group\">\\n          <dt class=\"input-label\">\\n            <label class=\"form-label h5\" for=\"user[password]\">Password</label>\\n          </dt>\\n          <dd>\\n            <input type=\"password\" name=\"user[password]\" id=\"user[password]\" class=\"form-control form-control-lg input-block\" autocomplete=\"new-password\">\\n            <p class=\"form-control-note text-gray-dark\">Make sure it&#39;s <span data-more-than-n-chars=\"\">at least 15 characters</span> OR <span data-min-chars=\"\">at least 8 characters</span> <span data-number-requirement=\"\">including a number</span> <span data-letter-requirement=\"\">and a lowercase letter</span>. <a href=\"https://help.github.com/articles/creating-a-strong-password\" class=\"tooltipped tooltipped-s\" aria-label=\"Learn more about strong passwords\">Learn more</a>.</p>\\n          </dd>\\n        </dl>\\n      </password-strength>\\n\\n      \\n      <input class=\"form-control\" type=\"text\" name=\"required_field_ee78\" hidden=\"hidden\" />\\n<input class=\"form-control\" type=\"hidden\" name=\"timestamp\" value=\"1584777345113\" />\\n<input class=\"form-control\" type=\"hidden\" name=\"timestamp_secret\" value=\"2e6899113fb8dcda0e70c7bf5d9fcb6def4eea6e874bce9ed7b028e21357c160\" />\\n\\n      <button type=\"submit\" class=\"btn-mktg btn-primary-mktg btn-large-mktg f4 btn-block my-3 js-add-experiment-labels-to-ga-click\">Sign up for GitHub</button>\\n      <p class=\"form-control-note mb-0 mt-3\">\\n        By clicking &ldquo;Sign up for GitHub&rdquo;, you agree to our\\n        <a class=\"\" href=\"https://help.github.com/terms\" target=\"_blank\">Terms of Service</a> and\\n        <a class=\"\" href=\"https://help.github.com/privacy\" target=\"_blank\">Privacy Statement</a>. <span class=\"js-email-notice\">We’ll occasionally send you account related emails.</span>\\n      </p>\\n</form>  </div>\\n  <div class=\"d-sm-none text-center\">\\n    <a rel=\"nofollow\" class=\"btn-mktg btn-primary-mktg btn-large-mktg js-add-experiment-labels-to-ga-click\" data-ga-click=\"Signup, Attempt, location:home hero mobile\" href=\"/join?source=button-home\">Sign up for GitHub</a>\\n  </div>\\n</div>\\n</noscript>\\n\\n        <div class=\"mx-auto col-sm-8 col-md-6 hide-sm js-experiment-variant\" data-experiment=\"homepage_signup_flow\" data-experiment-group=\"control\" data-experiment-default=\"true\" hidden>\\n  <div class=\"rounded-1 text-gray bg-gray-light py-4 px-4 px-md-3 px-lg-4\" data-if-experiment-enabled-ga-load=\"Signup, Load, location:home hero\">\\n    <!-- \\'\"` --><!-- </textarea></xmp> --></option></form><form class=\"home-hero-signup text-gray-dark js-signup-form js-signup-form-submit\" autocomplete=\"off\" action=\"/join\" accept-charset=\"UTF-8\" method=\"post\"><input type=\"hidden\" data-csrf=\"true\" name=\"authenticity_token\" value=\"nqOLHJJGXkubzUb/FFOc+LR3nwFPFqa+o2bAQ6iOne8In6UwyO9wQ/aynXFFQAihKsUj2FMptfuuZ/VIVE8EcA==\" />      <input type=\"hidden\" name=\"ga_id\" class=\"js-octo-ga-id-input\">\\n      <auto-check src=\"/signup_check/username?source=homepage&amp;suggest_usernames=true\">\\n        <dl class=\"form-group mt-0\">\\n          <dt class=\"input-label\">\\n            <label class=\"form-label h5\" for=\"user[login]\">Username</label>\\n          </dt>\\n          <dd>\\n            <input type=\"text\" name=\"user[login]\" id=\"user[login]\" class=\"form-control form-control-lg input-block\">\\n          </dd>\\n        </dl>\\n        <input type=\"hidden\" data-csrf=\"true\" value=\"ZiFkTc/tfSG2PSeLl20wdjrLpMyGcrzGWdvKvM2zxN0zu8ErwJjl4Z6spaLgWk27bhZ3EHU/DxYYcxdw7/AU6A==\" />\\n      </auto-check>\\n      <auto-check src=\"/signup_check/email\">\\n        <dl class=\"form-group\">\\n          <dt class=\"input-label\">\\n            <label class=\"form-label h5\" for=\"user[email]\">Email</label>\\n          </dt>\\n          <dd>\\n            <input type=\"text\" name=\"user[email]\" id=\"user[email]\" class=\"form-control form-control-lg input-block js-email-notice-trigger\">\\n          </dd>\\n        </dl>\\n        <input type=\"hidden\" data-csrf=\"true\" value=\"csLn9H7iwK5pde2psMJ31zm3i15aqGtXe6HG7QiPsaNo3TzjAC4Cai/AWAoveYDQLkdXcH8xaxgnLYDErszhKg==\" />\\n      </auto-check>\\n      <password-strength\\n        minimum-character-count=\"8\"\\n        passphrase-length=\"15\"\\n        invalid-message=\"Password is invalid.\"\\n        error-class=\"text-red text-bold\"\\n        pass-class=\"text-green\"\\n      >\\n        <dl class=\"form-group\">\\n          <dt class=\"input-label\">\\n            <label class=\"form-label h5\" for=\"user[password]\">Password</label>\\n          </dt>\\n          <dd>\\n            <input type=\"password\" name=\"user[password]\" id=\"user[password]\" class=\"form-control form-control-lg input-block\" autocomplete=\"new-password\">\\n            <p class=\"form-control-note text-gray-dark\">Make sure it&#39;s <span data-more-than-n-chars=\"\">at least 15 characters</span> OR <span data-min-chars=\"\">at least 8 characters</span> <span data-number-requirement=\"\">including a number</span> <span data-letter-requirement=\"\">and a lowercase letter</span>. <a href=\"https://help.github.com/articles/creating-a-strong-password\" class=\"tooltipped tooltipped-s\" aria-label=\"Learn more about strong passwords\">Learn more</a>.</p>\\n          </dd>\\n        </dl>\\n      </password-strength>\\n\\n      <input type=\"hidden\" name=\"source\" class=\"js-signup-source js-add-experiment-labels-to-value\" value=\"form-home\">\\n      \\n      <input class=\"form-control\" type=\"text\" name=\"required_field_1955\" hidden=\"hidden\" />\\n<input class=\"form-control\" type=\"hidden\" name=\"timestamp\" value=\"1584777345115\" />\\n<input class=\"form-control\" type=\"hidden\" name=\"timestamp_secret\" value=\"a3052a7429825494dc79dc13dbc5fc1aa5013fc9e32d3e26c06b3d1a99c24595\" />\\n\\n      <button type=\"submit\" class=\"btn-mktg btn-primary-mktg btn-large-mktg f4 btn-block my-3 js-add-experiment-labels-to-ga-click\" data-ga-click=\"Signup, Attempt, location:home hero\">Sign up for GitHub</button>\\n      <p class=\"form-control-note mb-0 mt-3\">\\n        By clicking &ldquo;Sign up for GitHub&rdquo;, you agree to our\\n        <a class=\"\" href=\"https://help.github.com/terms\" target=\"_blank\">Terms of Service</a> and\\n        <a class=\"\" href=\"https://help.github.com/privacy\" target=\"_blank\">Privacy Statement</a>. <span class=\"js-email-notice\">We’ll occasionally send you account related emails.</span>\\n      </p>\\n</form>  </div>\\n  <div class=\"d-sm-none text-center\">\\n    <a rel=\"nofollow\" class=\"btn-mktg btn-primary-mktg btn-large-mktg js-add-experiment-labels-to-ga-click\" data-ga-click=\"Signup, Attempt, location:home hero mobile\" href=\"/join?source=button-home\">Sign up for GitHub</a>\\n  </div>\\n</div>\\n\\n        <div class=\"col-sm-8 col-md-5 hide-sm mx-auto my-lg-10 js-experiment-variant\" data-experiment=\"homepage_signup_flow\" data-experiment-group=\"email\" hidden>\\n          <div class=\"rounded-1 text-gray bg-gray-light py-3 px-4 px-md-3 px-lg-4\" data-if-experiment-enabled-ga-load=\"Signup, Load, location:home hero\">\\n            <!-- \\'\"` --><!-- </textarea></xmp> --></option></form><form class=\"text-gray-dark js-signup-form js-signup-form-submit\" autocomplete=\"off\" action=\"/join\" accept-charset=\"UTF-8\" method=\"post\"><input type=\"hidden\" data-csrf=\"true\" name=\"authenticity_token\" value=\"EUR7wIGbGTeXn94WUUFOQQwzBaOy0hdYSE4MvtTjpAGHeFXs2zI3P/rgBZgAUtoYkoG5eq7tBB1FTzm1KCI9ng==\" />              <dl class=\"form-group mt-0\">\\n                <dt class=\"input-label\">\\n                  <label class=\"form-label h5\" for=\"user_email\">Email</label>\\n                </dt>\\n                <dd>\\n                  <input class=\"form-control form-control form-control-lg input-block\" type=\"email\" name=\"user_email\" id=\"user_email\" autocomplete=\"off\" spellcheck=\"false\">\\n                </dd>\\n              </dl>\\n              <input type=\"hidden\" name=\"source\" class=\"js-signup-source js-add-experiment-labels-to-value\" value=\"form-home\">\\n              <button class=\"btn-block btn-mktg h4-mktg mb-3 js-add-experiment-labels-to-ga-click\" type=\"submit\" data-ga-click=\"Home page hero, click, text:Get started\">Get started</button>\\n              <ul class=\"list-style-none d-flex flex-wrap flex-justify-center f5\">\\n                <li class=\"mb-1 pl-2 mr-3\"><img src=\"https://github.githubassets.com/images/modules/site/icons/checkmark.svg\" alt=\"✓\" class=\"d-inline-block ml-n2 mr-1\">Unlimited repositories</li>\\n                <li class=\"mb-1 pl-2 mr-3\"><img src=\"https://github.githubassets.com/images/modules/site/icons/checkmark.svg\" alt=\"✓\" class=\"d-inline-block ml-n2 mr-1\">Collaborators</li>\\n                <li class=\"mb-1 pl-2 mr-3\"><img src=\"https://github.githubassets.com/images/modules/site/icons/checkmark.svg\" alt=\"✓\" class=\"d-inline-block ml-n2 mr-1\">Actions & Packages</li>\\n              </ul>\\n</form>          </div>\\n          <div class=\"d-sm-none text-center\">\\n            <a rel=\"nofollow\" class=\"btn-mktg btn-primary-mktg btn-large-mktg js-add-experiment-labels-to-ga-click\" data-ga-click=\"Signup, Attempt, location:home hero mobile\" href=\"/join?source=button-home\">Sign up for GitHub</a>\\n          </div>\\n        </div>\\n        <div class=\"col-sm-12 offset-lg-1 col-md-5 col-lg-6 my-lg-10 d-flex flex-wrap flex-lg-nowrap flex-justify-center js-experiment-variant\" data-experiment=\"homepage_signup_flow\" data-experiment-group=\"audience\" hidden>\\n          <div class=\"col-sm-8 col-md-12 col-lg-6 mr-lg-2 mb-5 mb-lg-5\" data-if-experiment-enabled-ga-load=\"Signup, Load, location:home hero\">\\n            <div class=\"rounded-top-1 bg-gray-light py-3 px-4 px-md-3\">\\n              <h3 class=\"h3-mktg text-gray-dark mb-2\">Individuals</h3>\\n              <p class=\"text-mono f6 text-gray mb-0\">Everything a developer needs to contribute to the future of software.</p>\\n            </div>\\n            <a href=\"/pricing\" class=\"btn-block rounded-top-0 btn-mktg h4-mktg Bump-link px-3 d-flex flex-justify-between js-add-experiment-labels-to-ga-click\" data-ga-click=\"Home, click, location:home hero;text:View individual plans\">\\n              View individual plans<span class=\"Bump-link-symbol\">&rarr;</span>\\n            </a>\\n          </div>\\n          <div class=\"col-sm-8 col-md-12 col-lg-6 ml-lg-2\">\\n            <div class=\"rounded-top-1 bg-gray-light py-3 px-4 px-md-3\">\\n              <h3 class=\"h3-mktg text-gray-dark mb-2\">Organizations</h3>\\n              <p class=\"text-mono f6 text-gray mb-0\">Essential management and security for teams of all sizes.</p>\\n            </div>\\n            <a href=\"/pricing\" class=\"btn-block rounded-top-0 btn-mktg h4-mktg Bump-link px-3 d-flex flex-justify-between js-add-experiment-labels-to-ga-click\" data-ga-click=\"Home, click, location:home hero;text:View individual plans\">\\n              View organization plans<span class=\"Bump-link-symbol\">&rarr;</span>\\n            </a>\\n          </div>\\n        </div>\\n    </div>\\n  </div>\\n</div>\\n\\n\\n<!-- Enterprise CTA options including Cloud Trial -->\\n<div class=\"p-responsive pt-7 pt-md-12 pb-6 pb-md-9 home-enterprise-wrapper\">\\n  <div class=\"container-xl px-lg-4\">\\n    <div class=\"d-lg-flex mx-auto p-4 p-md-7 bg-white rounded-2 box-shadow-large home-enterprise\">\\n      <div class=\"d-none d-md-block position-absolute right-0 top-0 z-3\" style=\"width: 450px; transform: translateY(-85%);\">\\n        <svg xmlns=\"http://www.w3.org/2000/svg\" version=\"1.1\" id=\"Layer_1\" x=\"0\" y=\"0\" viewBox=\"0 0 890.5 375.3\" xml:space=\"preserve\"><style>.st0{fill:#d1d5da}.st2{fill:#959da4}.st3{fill:#586069}.st4{fill:#6a737d}.st5{fill:#dca82d}.st6{fill:#b18621}.st7{fill:#ffdd6a}.st8{fill:#ffe888}.st9{fill:#c6e2fd}.st10{fill:#fac237}.st12{fill:#ffd050}.st16{fill:#77bafc}.st17{fill:#036ad2}.st18{fill:#178cfa}.st19{fill:#daeefe}.st27{fill:#92989d}.st28{fill:#b9bdc1}.st30{fill:#686868}.st31{fill:#fafbfc}.st32{fill:#e1e4e8}.st40{fill:none;stroke:#036ad2;stroke-width:2;stroke-miterlimit:10}</style><path class=\"st0\" d=\"M318.9 315.3l-34 33 3 4.7 2.9.3 32.1-35.3-4-2.7z\"></path><path d=\"M308.9 362.3l-7.3-1.3-1.5-3.7 44.3-40-.8 7.3-34.7 37.7z\" fill=\"#3d3d3d\"></path><path class=\"st2\" d=\"M322.3 315.1l-34 33.2 2.5 5 34.8-35-3.3-3.2z\"></path><path class=\"st3\" d=\"M300 357.3l8 1 27.2-26.5-6-2.5-29.2 28z\"></path><path class=\"st4\" d=\"M331.6 310.7L302 337.5l11.2 9.5 33.1-33.1c-4.3-3.2-12.1-5.2-14.7-3.2z\"></path><path class=\"st3\" d=\"M346.5 313.9L313.3 347l4.7 4c13-9 20.5-23.2 29.9-36-.4-.4-.8-.7-1.3-1l-.1-.1z\"></path><path class=\"st4\" d=\"M347.9 315c-9.3 12.7-16.9 27-29.9 36l6.5 5.5 26.8-30.3.2-.3c2-2.7.4-7.3-3.6-10.9z\"></path><path class=\"st2\" d=\"M302.1 337.5c3.4-2.7 10.2-1.7 16.1 2.7 6.5 4.9 9.5 12 6.6 15.9l-.3.4c-3.1 3.5-10.5 2.7-16.8-2-6.5-4.9-9.5-12-6.6-15.9.2-.4.6-.8 1-1.1z\"></path><path class=\"st5\" d=\"M366.6 304.4L337 321.6l3.2 20.2 27.8 13 .6-.7c-3.6-15.6-5.8-34.1-2-49.7z\"></path><path class=\"st6\" d=\"M413.3 277.3l-46.7 27.1c-3.8 15.6-1.6 34 2 49.7l45.6-56.5-.9-20.3z\"></path><path d=\"M317.4 342.2c-4.4-3.3-9.5-4-12.1-2-.3.2-.5.5-.8.8-1.5 2-.9 5.2 1.2 8.2 5.1-.3 9.9-1.9 14.2-4.7-.8-.9-1.6-1.7-2.5-2.3z\"></path><path class=\"st4\" d=\"M319.9 344.4c-4.3 2.7-9.1 4.3-14.2 4.7 1 1.4 2.3 2.7 3.8 3.8 4.7 3.5 10.3 4.1 12.6 1.5l.2-.3c1.7-2.4.6-6.3-2.4-9.7z\"></path><path class=\"st7\" d=\"M355.3 274.1c-1.5-.5-3-1.1-4.4-1.6l-11.9 8.7 7.1 2.7c2.9-3.4 6-6.7 9.2-9.8z\"></path><path class=\"st8\" d=\"M384.8 298l8.5-9.3c-4.4-1.5-8.7-3.2-13-4.9-3.5 3-7.1 5.9-10.6 8.9 5 1.7 10 3.5 15.1 5.3z\"></path><path class=\"st7\" d=\"M346.1 283.9c7.8 3 15.7 5.9 23.6 8.8 3.5-3 7.1-5.9 10.6-8.9-8.3-3.2-16.6-6.6-24.9-9.7-3.3 3.1-6.4 6.4-9.3 9.8zm4.8-11.4c-2.6-.9-5.2-1.8-7.9-2.6l-11.3 8.6 7.2 2.7 12-8.7z\"></path><path class=\"st8\" d=\"M375.8 253.8l-.8-.2-8.2-1.8-23.8 18c2.6.8 5.3 1.7 7.9 2.6 8.4-6 16.7-12.2 24.9-18.6z\"></path><path class=\"st7\" d=\"M377.4 254.1l-1.6-.4c-8.2 6.4-16.5 12.6-24.9 18.7 1.5.5 3 1.1 4.4 1.6 7.1-6.9 14.6-13.4 22.1-19.9z\"></path><path class=\"st9\" d=\"M393.3 288.7l22.7-24.9c-1.6-.6-4.7-1.4-8.5-2.4-9.2 7.4-18.3 14.9-27.3 22.4 4.4 1.7 8.7 3.3 13.1 4.9z\"></path><path class=\"st8\" d=\"M355.3 274.1c8.4 3.1 16.6 6.5 24.9 9.7 9-7.5 18.1-14.9 27.3-22.4-9.9-2.6-24.4-6-30.1-7.3-7.5 6.5-15 13-22.1 20z\"></path><path class=\"st7\" d=\"M377 306.5l7.8-8.5c-5.1-1.7-10.1-3.5-15.2-5.4l-8 6.7c5.2 2.3 10.3 4.7 15.4 7.2zm-37-15.2c7.4 2.2 14.6 4.8 21.6 8l8-6.7c-7.9-2.9-15.7-5.8-23.6-8.8-2 2.5-4.1 5-6 7.5z\"></path><path class=\"st9\" d=\"M368.3 316.1l8.8-9.6c-5.1-2.4-10.2-4.9-15.4-7.1l-10 8.4c5.5 2.8 11 5.6 16.6 8.3z\"></path><path class=\"st7\" d=\"M346.1 283.9l-7.1-2.7c-5.2 3.9-10.5 7.7-15.7 11.7 9.5 4.9 18.9 10 28.4 14.9l10-8.4c-7-3.2-14.2-5.8-21.6-8 1.8-2.6 3.9-5.1 6-7.5z\"></path><path class=\"st9\" d=\"M331.7 278.4L317 289.6c2.1 1.1 4.2 2.2 6.3 3.2 5.2-4 10.4-7.8 15.7-11.7l-7.3-2.7z\"></path><path class=\"st7\" d=\"M308.8 295.9c-.9.5-3.2 2.4-3.2 2.4l7.4 2.6c3.4-2.7 6.8-5.4 10.3-8-2.1-1.1-4.2-2.2-6.3-3.2l-8.2 6.2zm56.7 23.2l2.8-3c-5.6-2.7-11.1-5.5-16.6-8.3l-5.5 4.6 19.3 6.7z\"></path><path class=\"st8\" d=\"M313 300.8l33.2 11.5 5.5-4.6c-9.5-4.9-18.9-10-28.4-14.9-3.5 2.7-6.9 5.3-10.3 8z\"></path><path class=\"st10\" d=\"M305.6 298.2c0 2.7.6 13.7.9 16.8 6.6 2.8 53.9 19.5 60.8 22-.8-6-1.5-12-1.9-18l-59.8-20.8z\"></path><path class=\"st8\" d=\"M416.5 281.6c0-5.6.3-11-.5-17.8L365.5 319h-.1c.4 6 1 12 1.9 18l.2.1c5.5-5.4 46.3-51.5 49-55.5z\"></path><path d=\"M370 294.6l-.3-14.9-30.6-.3-4.3 14.8c0 .2-.1.3-.1.5 0 2.9 7.9 5.3 17.6 5.3s17.7-2.5 17.7-5.4z\" opacity=\".3\" fill=\"#e55b22\"></path><path class=\"st12\" d=\"M369.7 279.6c0 2.2-6.9 4-15.3 4s-15.3-1.8-15.3-4v-.3c.6-2.1 7.2-3.7 15.3-3.7 8.4.1 15.2 1.9 15.3 4z\"></path><path class=\"st5\" d=\"M377.5 270.3l.1-6.7 12.1-.1 1.7 6.6v.2c0 1.3-3.1 2.4-7 2.4s-6.9-1.1-6.9-2.4z\"></path><path class=\"st12\" d=\"M377.6 263.6c0 1 2.7 1.8 6.1 1.8s6.1-.8 6.1-1.8v-.1c-.2-.9-2.9-1.7-6.1-1.7-3.3 0-6 .8-6.1 1.8z\"></path><path d=\"M438.9 292l-28.5 11.4.4 8.2 35.5 44.2.8-.4c.9-21.1-1.2-42.3-8.2-63.4z\" fill=\"#014486\"></path><path d=\"M553 290.3l-40-28-74.1 29.7c7.1 21.1 9.1 42.3 8.2 63.4L549.3 302l3.7-11.7z\" fill=\"#0260c1\"></path><path d=\"M556.5 308.3l-11-6.2-90.5 45-2 4.8 8.5 14.8 61.8-34.1-3.3-5.8 3.6-1.8 2.9 5.8 25.5-14.1 4.5-8.4z\" fill=\"#71603b\"></path><path class=\"st16\" d=\"M410.4 303.4c.3.4 1.6 1.9 3.5 4.1 2.2-1.1 4.4-2.2 6.6-3.4-1.4-1.3-2.8-2.7-4.2-4-2.3 1.2-4.3 2.3-5.9 3.3z\"></path><path class=\"st16\" d=\"M416.1 300.1c1.4 1.3 2.8 2.7 4.2 4l4.2-2.1c-1.4-1.4-2.9-2.8-4.3-4.1-1.4.8-2.8 1.6-4.1 2.2z\"></path><path class=\"st16\" d=\"M420.2 298c1.5 1.4 2.9 2.7 4.3 4.1 4.4-2.2 8.9-4.4 13.4-6.5-1.7-1.3-3.4-2.5-5.1-3.7-4.5 2.1-8.8 4.2-12.6 6.1zM432.9 291.9c1.7 1.2 3.4 2.5 5.1 3.7l5.7-2.7-4.4-4c-2.2 1.1-4.3 2.1-6.4 3z\"></path><path class=\"st16\" d=\"M439.3 289c1.5 1.3 2.9 2.7 4.4 4 5.7-2.7 11.5-5.3 17.3-7.8-1.2-1.4-2.3-2.7-3.4-4.1-6.3 2.6-12.4 5.3-18.3 7.9zm18.2-7.9c1.1 1.4 2.3 2.7 3.4 4.1l2.1-.9c-1.2-1.3-2.3-2.7-3.5-4l-2 .8zM459.5 280.2c1.2 1.4 2.3 2.7 3.5 4 6-2.7 12.1-5.3 18.2-7.8-1.1-1.3-2.2-2.6-3.2-3.9-5.9 2.5-12.2 5.1-18.5 7.7z\"></path><path class=\"st16\" d=\"M480.2 271.6l-2.2.9c1.1 1.3 2.1 2.6 3.2 3.9l2.6-1.1c-1.1-1.2-2.3-2.4-3.6-3.7z\"></path><path class=\"st16\" d=\"M480.2 271.6c1.2 1.2 2.4 2.5 3.6 3.7 5-2.1 10.1-4.2 15.1-6.3l-4.1-3.4c-4.4 1.9-9.3 3.9-14.6 6z\"></path><path class=\"st16\" d=\"M494.9 265.7l4.1 3.4 2.9-1.1-4.1-3.4-2.9 1.1z\"></path><path class=\"st16\" d=\"M515.3 257.6c-.8.4-7.6 3-17.5 7l4.1 3.4c5.7-2.4 11.5-4.7 17.2-7l-3.8-3.4zm-101.5 49.9l4.7 5.5 7.1-3.7c-1.7-1.7-3.4-3.4-5.2-5.1l-6.6 3.3z\"></path><path class=\"st16\" d=\"M420.4 304.2c1.8 1.7 3.5 3.4 5.2 5.1l4.1-2.1c-1.6-1.7-3.3-3.4-5-5.1-1.5.7-2.9 1.4-4.3 2.1z\"></path><path class=\"st17\" d=\"M424.6 302.1c1.7 1.7 3.4 3.4 5 5.1 4.7-2.4 9.3-4.8 13.9-7.2-1.8-1.5-3.7-2.9-5.6-4.3-4.4 2.1-8.9 4.2-13.3 6.4z\"></path><path class=\"st16\" d=\"M438 295.6c1.9 1.4 3.7 2.9 5.6 4.3l4.9-2.5-4.8-4.5c-1.9 1-3.8 1.8-5.7 2.7z\"></path><path class=\"st16\" d=\"M443.7 293l4.8 4.5c5.3-2.7 10.7-5.4 16.1-8.1l-3.6-4.2c-5.8 2.5-11.6 5.1-17.3 7.8zm17.3-7.8l3.6 4.2 2.2-1c-1.2-1.4-2.5-2.7-3.7-4.1-.7.3-1.5.6-2.1.9z\"></path><path class=\"st18\" d=\"M463 284.3c1.2 1.4 2.5 2.7 3.7 4.1 5.8-2.8 11.7-5.6 17.5-8.2l-3-3.7c-6 2.5-12.1 5.1-18.2 7.8z\"></path><path class=\"st16\" d=\"M483.9 275.4l3.3 3.4c5.1-2.3 10.3-4.5 15.5-6.7l-3.7-3c-5.1 2.1-10.1 4.2-15.1 6.3z\"></path><path class=\"st17\" d=\"M519.1 260.9c-5.8 2.3-11.5 4.6-17.2 7l3.7 3c5.7-2.3 11.5-4.6 17.3-6.7l-3.8-3.3z\"></path><path class=\"st16\" d=\"M499 269.1l3.7 3 2.8-1.1-3.7-3-2.8 1.1zm-15.1 6.3l-2.6 1.1 3 3.7 2.9-1.3-3.3-3.5zM418.5 313c2 2.4 4.3 5 6.7 7.8l8-3.7c-2.5-2.7-5-5.3-7.6-7.9l-7.1 3.8z\"></path><path class=\"st16\" d=\"M425.5 309.3c2.6 2.6 5.1 5.2 7.6 7.9l4-1.8c-2.5-2.8-5-5.5-7.6-8.1l-4 2zm18.1-9.3c3.3 2.6 6.5 5.3 9.6 8.1l4.1-1.9c-2.9-2.9-5.9-5.8-8.8-8.7l-4.9 2.5z\"></path><path class=\"st17\" d=\"M448.5 297.5c3 2.9 5.9 5.8 8.8 8.7l15.5-7.1c-2.7-3.2-5.5-6.4-8.2-9.6-5.4 2.6-10.8 5.2-16.1 8z\"></path><path class=\"st5\" d=\"M464.6 289.4c2.7 3.2 5.5 6.4 8.2 9.6l2.8-1.3c-3-3.1-5.9-6.2-8.8-9.4l-2.2 1.1z\"></path><path class=\"st16\" d=\"M466.8 288.4c2.9 3.2 5.9 6.3 8.8 9.4l16.9-7.8c-2.7-3.3-5.5-6.6-8.3-9.9-5.8 2.7-11.7 5.4-17.4 8.3z\"></path><path class=\"st19\" d=\"M484.3 280.1c2.8 3.3 5.5 6.6 8.3 9.9l3.6-1.6c-2.9-3.2-5.9-6.4-9-9.6l-2.9 1.3z\"></path><path class=\"st17\" d=\"M487.2 278.8l9 9.6 17-7.8c-3.5-2.9-6.9-5.7-10.4-8.5-5.3 2.2-10.5 4.4-15.6 6.7z\"></path><path class=\"st16\" d=\"M502.7 272.1c3.5 2.8 7 5.7 10.4 8.5l2.6-1.2c-3.4-2.9-6.8-5.7-10.2-8.5l-2.8 1.2z\"></path><path class=\"st18\" d=\"M522.8 264.2c-5.8 2.1-11.6 4.4-17.3 6.7 3.4 2.8 6.8 5.6 10.2 8.5l16-7.3-8.9-7.9z\"></path><path class=\"st16\" d=\"M429.6 307.2c2.6 2.7 5.1 5.4 7.6 8.1l16-7.3-9.6-8.1c-4.7 2.5-9.3 4.9-14 7.3z\"></path><path class=\"st17\" d=\"M425.1 320.8c2.9 3.4 5.9 6.9 8.7 10.2l8-4.6-8.7-9.3-8 3.7z\"></path><path class=\"st16\" d=\"M433.2 317.2l8.7 9.3 3.4-1.9c-2.6-3.1-5.3-6.2-8-9.2l-4.1 1.8z\"></path><path class=\"st18\" d=\"M437.2 315.3c2.7 3 5.4 6.1 8 9.2 5.4-3.1 10.8-6.2 16.1-9.3l-8.1-7.2-16 7.3z\"></path><path class=\"st16\" d=\"M453.2 308l8.1 7.2 3.1-1.8c-2.4-2.4-4.8-4.9-7.2-7.3l-4 1.9z\"></path><path class=\"st5\" d=\"M472.8 299.1c1.8 2.2 3.6 4.3 5.5 6.5l3.2-1.8c-2-2-4-4-5.9-6l-2.8 1.3z\"></path><path class=\"st18\" d=\"M475.6 297.8c2 2 3.9 4 5.9 6 5.1-2.9 10.2-5.7 15.4-8.5-1.4-1.8-2.9-3.5-4.4-5.3l-16.9 7.8z\"></path><path d=\"M492.5 290c1.5 1.8 2.9 3.5 4.4 5.3 1.2-.7 2.5-1.3 3.8-2-1.5-1.6-3-3.3-4.5-4.9l-3.7 1.6z\" opacity=\".3\" fill=\"#f6f8fa\"></path><path class=\"st18\" d=\"M496.1 288.4c1.5 1.6 3 3.3 4.5 4.9 5.7-3 11.4-5.9 17.1-8.8-1.5-1.3-3.1-2.6-4.6-3.9l-17 7.8z\"></path><path class=\"st16\" d=\"M513.1 280.6c1.6 1.3 3.1 2.6 4.6 3.9.8-.4 1.7-.8 2.5-1.2l-4.5-3.9-2.6 1.2zM531.8 272.1l-16 7.3 4.5 3.9c5.2-2.5 10.5-5 15.8-7.4l-4.3-3.8z\"></path><path class=\"st19\" d=\"M457.3 306.2c2.4 2.4 4.8 4.8 7.2 7.3 4.6-2.7 9.2-5.3 13.8-7.9-1.8-2.2-3.6-4.4-5.5-6.5l-15.5 7.1z\"></path><path class=\"st5\" d=\"M441.9 326.5l3.5 3.8 3.3-1.6c-1.2-1.4-2.3-2.8-3.5-4.1l-3.3 1.9z\"></path><path class=\"st16\" d=\"M445.2 324.5c1.2 1.4 2.3 2.7 3.5 4.1 6-2.9 12-5.8 18.1-8.5-1.8-1.7-3.6-3.3-5.4-4.9l-16.2 9.3zm19.3-11.1l5.3 5.4c4.7-2.1 9.4-4.2 14.1-6.2-1.8-2.4-3.7-4.7-5.6-7l-13.8 7.8z\"></path><path class=\"st5\" d=\"M478.3 305.6c1.9 2.3 3.8 4.7 5.6 7l4.6-2-6.9-6.9-3.3 1.9z\"></path><path class=\"st16\" d=\"M481.5 303.8l6.9 6.9c5.1-2.2 10.3-4.4 15.4-6.6-2.3-3-4.6-5.9-6.9-8.8-5.2 2.8-10.3 5.6-15.4 8.5z\"></path><path class=\"st19\" d=\"M496.9 295.3c2.3 2.9 4.7 5.8 6.9 8.8l4.7-2c-2.6-2.9-5.2-5.8-7.9-8.7-1.2.6-2.5 1.3-3.7 1.9z\"></path><path class=\"st16\" d=\"M500.6 293.3c2.6 2.9 5.3 5.8 7.9 8.7l19.5-8.4c-3.3-3.1-6.8-6.1-10.3-9.1-5.7 2.9-11.4 5.8-17.1 8.8z\"></path><path class=\"st16\" d=\"M517.8 284.5c3.5 3 6.9 6 10.3 9.1l2.5-1.1c-3.4-3.2-6.8-6.2-10.3-9.2-.8.4-1.7.8-2.5 1.2z\"></path><path class=\"st5\" d=\"M540.9 280.1l-4.8-4.2c-5.3 2.4-10.6 4.8-15.8 7.4 3.5 3 6.9 6.1 10.3 9.2 5.5-2.4 10.9-4.8 16.3-7.3l-6-5.1z\"></path><path class=\"st16\" d=\"M461.3 315.2c1.8 1.6 3.6 3.3 5.4 4.9l3-1.3-5.3-5.4-3.1 1.8zM433.9 331l3 3.5c2.8-1.5 5.6-2.9 8.5-4.3l-3.5-3.8-8 4.6z\"></path><path class=\"st17\" d=\"M436.9 334.6c5 5.8 9.1 10.5 10.8 12.4l8.6-4.6c-3.6-4-7.3-8-11-12.1-2.8 1.4-5.6 2.8-8.4 4.3z\"></path><path class=\"st19\" d=\"M445.4 330.3c3.7 4 7.3 8 11 12.1l2.5-1.4-10.2-12.3-3.3 1.6z\"></path><path class=\"st18\" d=\"M448.7 328.7l10.2 12.3 19.5-10.4c-3.9-3.4-7.7-6.9-11.5-10.4-6.2 2.7-12.2 5.5-18.2 8.5z\"></path><path class=\"st16\" d=\"M469.8 318.8l-3 1.3c3.8 3.5 7.7 7 11.5 10.4l2.1-1.1c-3.5-3.5-7.1-7-10.6-10.6z\"></path><path class=\"st17\" d=\"M469.8 318.8c3.5 3.6 7.1 7.1 10.6 10.6l11.2-6c-2.5-3.7-5.1-7.3-7.8-10.8-4.6 2.1-9.3 4.1-14 6.2z\"></path><path class=\"st16\" d=\"M483.9 312.6c2.7 3.5 5.3 7.1 7.8 10.8l6.4-3.5c-3.2-3.1-6.5-6.2-9.7-9.3l-4.5 2z\"></path><path class=\"st16\" d=\"M488.4 310.7c3.2 3.1 6.4 6.2 9.7 9.3l12.5-6.7c-2.2-3.1-4.5-6.1-6.8-9.1-5.1 2.1-10.2 4.3-15.4 6.5zm42.2-18.2l-2.5 1.1c2.3 2.1 4.6 4.3 6.8 6.5l2.3-1.3c-2.2-2-4.4-4.2-6.6-6.3z\"></path><path class=\"st16\" d=\"M546.9 285.2c-5.4 2.5-10.9 4.9-16.3 7.3 2.2 2.1 4.4 4.2 6.6 6.4l15.8-8.6-6.1-5.1z\"></path><path class=\"st17\" d=\"M508.5 302.1c2.5 2.8 4.9 5.5 7.4 8.3l12.7-6.8 6.2-3.4c-2.2-2.2-4.4-4.4-6.8-6.5-6.4 2.8-12.9 5.6-19.5 8.4z\"></path><path class=\"st16\" d=\"M503.8 304.1c2.3 3 4.6 6 6.8 9.1l5.3-2.9c-2.5-2.8-5-5.6-7.4-8.3l-4.7 2.1z\"></path><path class=\"st10\" d=\"M455 347.1l7.8 11.8 5.4-2.8c-2.7-3.8-5.3-7.7-7.8-11.8l-5.4 2.8zm11.4-6c2.2 4.1 4.3 8.3 6.7 12.5l11.3-5.7c-2.5-4.1-4.7-8.3-7.1-12.4l-10.9 5.6z\"></path><path class=\"st6\" d=\"M509.6 318.5l-1.9 1c2.4 4.3 4.6 8.7 6.8 13l2.1-1.1c-2.5-4.2-5-8.5-7-12.9z\"></path><path class=\"st10\" d=\"M523.9 311l-14.3 7.5c2 4.4 4.5 8.6 7 13l4.7-2.4-3.8-3.5 5.2-3.5 4 4 5.8-3.5c-2.8-3.8-5.7-7.7-8.6-11.6z\"></path><path class=\"st6\" d=\"M525.4 310.2l-1.5.8c2.8 3.9 5.7 7.8 8.7 11.6l2.1-1.2c-2.8-4-5.9-7.7-9.3-11.2z\"></path><path class=\"st10\" d=\"M537 304.2l-11.6 6.1c3.4 3.4 6.6 7.1 9.3 11.1l11.2-6.7c-2.8-3.6-5.8-7.2-8.9-10.5z\"></path><path class=\"st6\" d=\"M538.5 303.4l-1.5.8c3.2 3.4 6.1 6.9 9 10.5l3-1.8c-3.4-3.3-6.9-6.5-10.5-9.5z\"></path><path class=\"st10\" d=\"M545.8 299.6l-7.3 3.8c3.6 3 7.1 6.2 10.5 9.4l7.5-4.5-10.7-8.7z\"></path><path class=\"st6\" d=\"M494.8 326.3l-2.8 1.5c2.9 3.9 5.8 7.9 8.7 11.8l2.3-1.2c-2.9-3.9-5.7-7.9-8.2-12.1z\"></path><path class=\"st10\" d=\"M507.7 319.5l-13 6.8c2.5 4.2 5.3 8.2 8.2 12.1l11.5-5.9c-2.1-4.3-4.3-8.7-6.7-13zm-15.7 8.2l-12.8 6.7c2.2 4.2 4.5 8.4 7 12.5l14.5-7.4c-3-3.9-5.9-7.9-8.7-11.8z\"></path><path class=\"st6\" d=\"M477.3 335.4c2.4 4.1 4.6 8.3 7.1 12.4l1.9-1c-2.5-4.1-4.9-8.3-7-12.5l-2 1.1zm-13.4 7c2.4 4 4.9 8.1 7.3 12.1l1.8-.9c-2.4-4.1-4.5-8.4-6.7-12.5l-2.4 1.3zM463.9 342.4l-3.6 1.9c2.5 4 5.1 8 7.8 11.8l3-1.5c-2.3-4.1-4.8-8.1-7.2-12.2z\"></path><path d=\"M404.8 343.3l24.2-12.8\" fill=\"none\" stroke=\"#fac237\" stroke-width=\"2\" stroke-linecap=\"round\" stroke-miterlimit=\"10\"></path><path d=\"M427.1 335.4l-.8.5c-1.4.8-1.9 2.6-1.1 4.1.5.9 1.5 1.5 2.6 1.5.5 0 1-.1 1.5-.4l1.6-.9c-.4-2.3-1.3-4.3-3.8-4.8z\" fill=\"#ffcfaf\"></path><path class=\"st17\" d=\"M435.1 334.4c-.8-1.4-2.7-1.9-4.1-1.1l-2 1.2c3.3.4 3.5 2.7 3.3 5l1.7-1c1.4-.9 1.9-2.7 1.1-4.1z\"></path><path class=\"st10\" d=\"M429 334.4l-1.9 1c2.5.5 3.4 2.5 3.7 4.8l1.4-.8c.3-2.3.1-4.6-3.2-5z\"></path><path d=\"M448.8 351.8l14.8 23\" fill=\"none\" stroke=\"#0260c1\" stroke-linecap=\"round\" stroke-miterlimit=\"10\"></path><path d=\"M471.6 358.3l9.9 11.6\" fill=\"none\" stroke=\"#71603b\" stroke-width=\"2\" stroke-linecap=\"round\" stroke-miterlimit=\"10\"></path><path class=\"st2\" d=\"M325.6 179.8c-.1-1.5-.6-5-.6-6 9.6-2.7 13.6 1.4 15.3 3.5 4-1.2 20.4-5.5 24-7 2.1-10.1 13.4-8.5 15.6-4.9 2.5-.7 5.4-1.6 6.9-1.9.7 2.3 1.3 4.6 1.6 7-1.8.5-4.8 1.2-5.9 1.5-.2 5.8-9.3 11.4-16.6 5-2.5.8-20.2 5.5-23 6.3.8 5.6-5.2 12.1-9.4 13.7-1-1.2-2.8-3.9-3.9-5.1 7.3-3.2 10.3-13.9-4-12.1zm48.3-12.6c-2 0-3.7 1.6-3.7 3.6s1.6 3.7 3.6 3.7 3.7-1.6 3.7-3.6c0-2.1-1.6-3.7-3.6-3.7z\"></path><path class=\"st0\" d=\"M325.3 177.5c-.1-1.5-.6-5-.6-6 9.6-2.7 13.6 1.4 15.3 3.5 4-1.2 20.4-5.5 24-7 2.1-10.1 13.4-8.5 15.6-4.9 2.5-.6 5.4-1.6 6.9-1.9.8 2.3 1.3 4.7 1.6 7.1-1.8.5-4.8 1.2-5.9 1.5-.2 5.8-9.3 11.4-16.6 5-2.5.8-20.2 5.5-23 6.3.8 5.6-5.2 12.1-9.4 13.7-1-1.2-2.8-3.9-3.9-5.1 7.3-3.3 10.2-14-4-12.2zm48.2-12.7c-2 0-3.7 1.6-3.7 3.6s1.6 3.7 3.6 3.7 3.7-1.6 3.7-3.6-1.6-3.7-3.6-3.7z\"></path><path d=\"M873.7 116.3l-41.9 47\" fill=\"none\" stroke=\"#b9bdc1\" stroke-width=\"5\" stroke-linecap=\"round\" stroke-miterlimit=\"10\"></path><path d=\"M854.7 124.3l-23.2 26.5\" fill=\"none\" stroke=\"#92989d\" stroke-width=\"3\" stroke-linecap=\"round\" stroke-miterlimit=\"10\"></path><path class=\"st27\" d=\"M644.8 52.7s7.7-1 10 5.1 2 10.2-4.3 13.7l-2.5-.6s6.7-3.6 4.8-9.5-4.7-7.4-8-8.7zm72.3 211.5c1.1 2.3 3.2 4 6.2 5.2 8.5 3.4 24.1 2.2 68.9-14.3l-24.5-39.5c-45.6 25.5-54.5 40.2-50.6 48.6z\"></path><path class=\"st28\" d=\"M734.5 262.9c-2.8.1-5.6-.5-8.3-1.6-2-.9-3.2-2-3.6-3.3-.8-2.4-1.5-15.1 50.4-42.5l18.6 33c-27.2 9.9-45.8 14.6-57.1 14.4zm23.1 24.2l36.1 62.5c5.1 8.8 30.6 3.5 57.1-11.8 1.8-1.1 3.6-2.1 5.3-3.2-12.9-26.4-24.7-53.4-37.6-79.9l-60.9 32.4zm132 7.2l-34.1-59.1-23.1 12.2c13.4 24.9 27.2 49.7 42.3 73.5 12-10.6 18.2-20.9 14.9-26.6z\"></path><path class=\"st27\" d=\"M832.4 247.5l-13.8 7.3c12.9 26.5 24.7 53.5 37.6 79.9 6.5-4.1 12.7-8.7 18.5-13.7-15.1-23.9-28.9-48.6-42.3-73.5z\"></path><path class=\"st27\" d=\"M863.4 217.7l12.3 23.4s-9.7 23.1-62.3 42.6c-49.1 18.2-73.7 20-73.7 20l4.7-20 119-66z\"></path><path class=\"st0\" d=\"M830.3 130.3l-56.2 27.3c11.9 9.6 23.4 19.4 35.9 29.7 12 10 26 16 39 26 9 6.7 16.8 14.7 24.6 22.5 2.3-2.8 4.3-5.7 6.1-8.8l-49.4-96.7z\"></path><path class=\"st28\" d=\"M849 213.3c-13-10-27-16-39-26-12.5-10.3-23.9-20.1-35.9-29.7L746.5 171c2.5 3.1 5.3 5.9 8.5 8.2 11 8 25 13 31 25 13.4 25.5 35.3 42.9 60.3 54.4 10.6-6.8 20.3-14.4 27.3-22.9-7.8-7.7-15.6-15.6-24.6-22.4z\"></path><path class=\"st0\" d=\"M716.6 262l-.3-1c.1.3.2.7.3 1z\"></path><path class=\"st27\" d=\"M705.4 191.1c3.3 7.1 6.8 14 9.6 21.3 2.5 6.8 4.8 13.7 7.1 20.6 3.8-.8 7.8-1.9 12.1-3.2-6.7-14.3-12.9-28.8-18.7-43.5l-10.1 4.8z\"></path><path d=\"M753.6 208.3l-17.2 9.2 15.8 34.4H773l-19.4-43.6z\" fill=\"#adb1b4\"></path><path class=\"st30\" d=\"M748.5 229.2l.5 3.4s3.2 1.9 4.9 1.2-1.6-4.4-1.6-4.4c-1.5-1.2-2.5-1.3-3.8-.2z\"></path><path class=\"st2\" d=\"M765.9 201.6l-12.3 6.6 19.4 43.7 15.3-15.3-22.4-35zm-8 32.5l-1.4-2.8h-2.4c0-.1-.1-.2-.1-.3-1.2-2.6-3.4-4.1-4.8-3.5-1 .5-1.4 2-1.1 3.7h-3l1.4 2.8h2.7c1.3 2.2 3.2 3.4 4.5 2.8.8-.4 1.2-1.5 1.2-2.8h3zm-5.4.9c-.8.4-2.1-.6-2.9-2.1s-.8-3.2.1-3.6 2.1.6 2.9 2.1.7 3.2-.1 3.6z\"></path><path class=\"st27\" d=\"M734.6 268.5c3.6 9.3 7.9 18.3 12.8 27 6.9-.4 13.7-1.4 20.4-3-5.3-8.7-10.3-17.5-15.2-26.4-5.9 1.3-11.9 2.1-18 2.4z\"></path><path class=\"st0\" d=\"M846.3 258.8c-25-11.6-46.9-28.9-60.3-54.4-6-12-20-17-31-25-3.2-2.3-6.1-5.1-8.5-8.2l-31 15.1c5.8 14.7 12 29.2 18.7 43.5 11.6-3.7 22.8-8.4 33.5-14l24.5 39.5c-12.9 4.5-26.2 8.2-39.6 11.1 4.8 8.9 9.9 17.7 15.2 26.4 2.7-.6 5.6-1.4 8.6-2.2-.1-.3 38.8-12 69.9-31.8zM725 292.3c2.1 1 4.3 1.8 6.6 2.2-4-10.2-8.7-20.2-14.2-29.7l7.6 27.5z\"></path><path class=\"st31\" d=\"M716.6 262l.8 2.8c5.5 9.5 10.2 19.5 14.2 29.7 1.7.4 3.4.6 5.2.8-3.8-9.2-7.6-18.4-11.9-27.4-4.2-.9-7.2-2.8-8.3-5.9z\"></path><path class=\"st0\" d=\"M747.4 295.6c-4.9-8.7-9.2-17.7-12.8-27-3.3.2-6.5-.1-9.8-.7 4.3 9 8.1 18.2 11.9 27.4 3.6.4 7.1.4 10.7.3zm-57.2-97.1l-3.9 1.9V235c3.4.7 6.8 1 10.2.9-1.5-2.7-2.7-5.6-3.5-8.6-.5-10.1-1.1-19.6-2.8-28.8zm14.6 37.1c5.8-.5 11.6-1.4 17.3-2.7-2.3-6.9-4.6-13.8-7.1-20.6-2.8-7.3-6.3-14.2-9.6-21.3l-10.6 5.2c.5 13.7.2 27.6 7.2 36.1 1 1.1 1.9 2.2 2.8 3.3z\"></path><path class=\"st31\" d=\"M702 232.3c-7-8.5-6.8-22.4-7.2-36.1l-4.6 2.2c1.7 9.3 2.3 18.8 2.8 28.9.8 3 2 5.9 3.5 8.6 2.4 0 5.1 0 8.2-.3-.8-1.1-1.7-2.2-2.7-3.3z\"></path><path class=\"st28\" d=\"M819 68.3c-2.1-6.7-4.8-13.3-7.9-19.7-9.8 1.6-19.5 4-29 7.1 1.8 5.8 2.3 11.9-.1 18.5-2 6-9 9-11 14-13.8 36.9-35.9 70.1-64.4 97.3 19.6-7 38.5-15.9 56.5-26.3 16.1-9.3 31.5-19.8 46-31.5 10.4-18.1 16.2-37.9 9.9-59.4z\"></path><path class=\"st32\" d=\"M852.6 57.6c-5.4-9.4-20.7-12.1-41.5-8.9 3.1 6.4 5.7 12.9 7.9 19.7 6.3 21.5.5 41.3-9.9 59.4 24.2-19.7 40.4-39.5 44.5-54.6 1.7-6.1 1.5-11.4-1-15.6z\"></path><path class=\"st31\" d=\"M782 74.3c2.5-6.7 2-12.7.1-18.5-19.1 6.2-40.6 15.8-62.3 28.3-30.2 17.4-55.2 37.2-71.4 55.4 1.7 2.7 3.9 5.1 6.6 6.9 23.5 14.8 50.9 12.9 77.4 10.9 16.3-20.9 29.3-44.1 38.6-68.9 2-5.1 9-8.1 11-14.1z\"></path><path class=\"st32\" d=\"M655 146.3c-2.7-1.8-4.9-4.1-6.6-6.9-16.8 18.8-24.2 35.8-18.1 46.3 2.1 3.7 5.8 6.4 10.7 8 13.8 4.8 37.7 1.6 65.7-8.2 9.3-8.8 17.9-18.3 25.7-28.4-26.5 2.1-53.8 4-77.4-10.8z\"></path><path class=\"st27\" d=\"M828 131.7l-24.7-36.3-130.5 50.9 9.5 54.4c67.4-12.1 104.2-27.6 145.7-69z\"></path><path class=\"st0\" d=\"M701 135.3c16.4-14.3 32.5-28.2 49.4-41.2-6.8 1.9-13.5 4.1-20.1 6.7-34.7 13.5-59.6 33.4-57.5 45.5.1.5.2 1 .4 1.5 1.5 3.9 6.2 6.4 13 7.4 6-4.2 11.9-8.8 16.8-14.9 2-2-3-3-2-5z\"></path><path class=\"st32\" d=\"M787.2 89.2c-9.7-.6-22.5 1-36.8 4.9-16.9 13-33 27-49.4 41.2-1 2 4 3 2 5-4.9 6.1-10.7 10.7-16.8 14.9 13.8 2.1 36.7-1.8 60.9-11.2 2.7-1 5.3-2.1 7.8-3.2.1-.5.1-1 .1-1.5-.8-21.3 16.5-36.4 32.2-50.1z\"></path><path class=\"st0\" d=\"M804.2 97c-.2-.6-.5-1.1-.8-1.6-2.5-3.7-8.2-5.7-16.1-6.2-15.7 13.8-33 28.9-32.2 50.2 0 .5 0 1-.1 1.5 31.9-13.9 53.5-32.8 49.2-43.9z\"></path><path class=\"st28\" d=\"M728 129.3L679.3 28.8l3-1.5 60.8 96c1.3 2.6-14 8.2-15.1 6zm59 52c-3.3-12.7-2.7-24.9-.4-36.8-7.4 5-15.2 10-23.5 14.7-50.5 29.1-99.6 42.3-122.2 34.6l48.1 16.5c41.9-1.6 72.6-7.5 97.3-21.9 1-2.2 1.3-4.7.7-7.1z\"></path><path class=\"st0\" d=\"M825.6 113.2c-12.1 11.5-25.1 22-39 31.3-2.3 11.9-2.9 24.1.4 36.8.6 2.4.3 4.9-.7 7.1 5.6-3.3 10.9-7 15.9-11.1 2.8-9.4 4.8-18.9 8.8-26.9 5.8-12 10.7-24.5 14.6-37.2z\"></path><path class=\"st28\" d=\"M825.6 113.2c-3.9 12.7-8.7 25.2-14.6 37.1-4 8-6 17.6-8.8 26.9 12.6-10.4 23.6-23.8 34.1-40.9l17.3-63.2c-3 11.4-13 25.5-28 40.1zm-98.6-1.9l-51 13s-4.5 2.5-7.5-5-20.5-47-20.5-47l3.4-2.1 23.1 47.1 48-13.5 4.5 7.5z\"></path><path class=\"st27\" d=\"M731 129.3L681 28.1l3-1.5 62 96.8c1.4 2.5-13.9 8.1-15 5.9z\"></path><path class=\"st27\" d=\"M728.5 108.8l-51 13s-4.5 2.5-7.5-5-20.5-47-20.5-47l3.2-2.5 23.2 47.5 48-13.5 4.6 7.5z\"></path><path class=\"st32\" d=\"M655.5 57.3c-2.7-5.1-9-7-14.1-4.3s-7 9-4.3 14.1c2.7 5 8.9 7 13.9 4.4 5.2-2.7 7.2-9 4.5-14.2zm-2.7 11.9c-3 1.5-7.2-.7-9.4-5s-1.5-9 1.5-10.5 7.2.7 9.4 5 1.5 9-1.5 10.5z\"></path><path class=\"st5\" d=\"M848 208.3c8 .5 16 .8 24.1.5l-2.8-46.5-26.3 2.2c-.3 0-.5.1-.8.1-9.2 1.7-13.6 19.7-9.8 40.2.2 1.2.5 2.4.8 3.5 5.3.4 10.9-.6 14.8 0zm-4 17c-1.6 0-3.6-.9-5.6-1.7 4.9 10.1 11.6 16.4 17.6 15.2.6-.1 1.1-.3 1.6-.5l15.8-6.7-.2-4.1c-9.6-2.1-19.4-2.9-29.2-2.2z\"></path><path class=\"st6\" d=\"M873.2 227.6l-1.1-18.7c-8 .2-16 0-24.1-.5-3.9-.6-9.5.4-14.9.1 1.2 5.3 2.9 10.4 5.3 15.2 2.1.8 4 1.7 5.6 1.7 9.8-.8 19.7 0 29.2 2.2z\"></path><path class=\"st28\" d=\"M887 197.3c0 16.9-5.8 31-13.5 34.3-1.1.5-2.3.7-3.5.7-9.4 0-17-15.7-17-35 0-18.8 7.2-34.2 16.3-35h.7c9.4 0 17 15.7 17 35z\"></path><path class=\"st6\" d=\"M832.3 202.3s-34.4 25.9-36.2 28.2-5.2 5.8.2 7.8c5.8 2.3 15.2-2.5 21-8.5s23.7-27.2 23.7-27.2l-8.7-.3z\"></path><path class=\"st5\" d=\"M803 226.8c16.5-3.5 38-24.2 38-24.2l7 21.5s-17.2 18-37.5 25-24-18.8-7.5-22.3z\"></path><path class=\"st6\" d=\"M870 171.6h-.5c-2.2.3-4.1 1.4-5.5 3.1.7.8 1.4 1.7 2 2.6 5 9 7 18 4 28-1.1 4-2.9 10.2-6.1 14.5 1.8 2.1 3.9 3.3 6.1 3.3.9 0 1.7-.2 2.5-.5 5.7-2.4 10-12.8 10-25.2 0-14.3-5.6-25.8-12.5-25.8z\"></path><path class=\"st27\" d=\"M866 177.3c-.6-.9-1.3-1.8-2-2.6-3.9 4.4-6.5 12.9-6.5 22.6s2.6 18.1 6.4 22.5c3.2-4.3 5-10.5 6.1-14.5 3-10 1-19-4-28zM676.8 2.8c9.2 3.5 14 20.5-2 26.2 0 .7 12.8 4 16.3-10 3.2-12.7-13.4-20.9-14.3-16.2z\"></path><path class=\"st32\" d=\"M676.9 0c-8.5.1-15.4 7-15.4 15.6 0 1.3.2 2.6.5 3.9 3.7.5 7.2 1.5 10.6 3-.7-1.9-1-3.9-1-5.9 0-7.1 4-12.8 9-12.8s9 5.7 9 12.8-4 12.8-9 12.8c-2.3-.1-4.4-1.2-5.8-3-2.4 1.4-5.5 1.1-8.5.6 2.8 2.7 6.6 4.3 10.5 4.2 8.5-.1 15.4-7 15.4-15.6.2-8.5-6.7-15.5-15.3-15.6.1 0 .1 0 0 0z\"></path><path class=\"st0\" d=\"M674.9 26.3c-1-1.2-1.7-2.5-2.2-3.9-3.4-1.5-7-2.5-10.6-3 .7 2.9 2.2 5.4 4.3 7.5 3 .5 6.1.8 8.5-.6z\"></path><path d=\"M528.8 185.1c-.1-.6-.1-1.1-.1-1.7 0-12.8 16.7-7.8 22.3-23.7\" fill=\"none\" stroke=\"#f86324\" stroke-width=\"2\" stroke-miterlimit=\"10\"></path><path d=\"M508 151.3c7.4-3.3 14.4-3.4 20.9-8.5\" fill=\"none\" stroke=\"#178cfa\" stroke-width=\"3\" stroke-miterlimit=\"10\"></path><path d=\"M524 173.1c2.9-1.8 5.6-3 8.7-3 5.8 0 8.3 4 12.2 4 4.8 0 4.5-11.2 8.4-15.2\" fill=\"none\" stroke=\"#022f60\" stroke-width=\"2\" stroke-miterlimit=\"10\"></path><path d=\"M545 142.5c-3.8-3-8.1-4-9.9-2.5l-15 13.3 14.1 12.1 15-13.3.3-.3c1.5-1.9-.5-6.1-4.5-9.3z\" fill=\"#494949\"></path><path class=\"st6\" d=\"M524.7 141.7l30.4 25.3 36.7-36.2 1.1-7.9-31.8-10.9-38 23.7 1.6 6z\"></path><path class=\"st7\" d=\"M543.2 144.8c-2.9-2.6-5.7-5.3-8.6-7.9l-4.9 3.9 9.8 7.7 3.7-3.7z\"></path><path class=\"st7\" d=\"M543.2 144.8l-3.6 3.7 7.9 6.2 3.3-3c-2.6-2.3-5.1-4.6-7.6-6.9z\"></path><path class=\"st7\" d=\"M547.5 154.7l7.2 5.6 3-2.9c-2.3-1.9-4.6-3.8-6.9-5.8-1.1 1-2.2 2-3.3 3.1z\"></path><path class=\"st12\" d=\"M534.6 136.9l-6.3-5.7-5.1 4.4 6.5 5.1 4.9-3.8z\"></path><path class=\"st12\" d=\"M544.6 128.9c-2.6-1.7-5.2-3.3-7.9-4.8l-8.3 7.2 6.3 5.7c3.2-2.7 6.6-5.4 9.9-8.1z\"></path><path class=\"st7\" d=\"M550.8 151.6c2.2 2 4.5 3.9 6.9 5.8l10.5-10.3c-2-1.8-4.1-3.5-6.2-5.3-3.8 3.3-7.5 6.5-11.2 9.8z\"></path><path class=\"st12\" d=\"M553.2 134.9c-3.3 3.3-6.7 6.6-10 9.9 2.5 2.3 5 4.6 7.6 6.8 3.7-3.3 7.4-6.6 11.1-9.8-2.8-2.3-5.8-4.7-8.7-6.9z\"></path><path class=\"st7\" d=\"M553.2 134.9c-2.8-2.1-5.6-4.1-8.6-6-3.3 2.7-6.7 5.4-10 8.1 2.9 2.6 5.7 5.3 8.6 7.9 3.3-3.4 6.6-6.7 10-10z\"></path><path class=\"st12\" d=\"M555.5 120c-2.3-2.1-4.5-4.2-6.9-6.3L536.7 124c2.7 1.5 5.3 3.2 7.9 4.8l10.9-8.8z\"></path><path class=\"st5\" d=\"M562 126.3c-2.2-2.1-4.3-4.3-6.5-6.3l-10.9 8.9c2.9 1.9 5.8 3.9 8.6 6 2.9-2.9 5.8-5.7 8.8-8.6z\"></path><path class=\"st7\" d=\"M562 126.3c-3 2.8-5.9 5.7-8.9 8.6 3 2.2 5.9 4.6 8.8 6.9 2.8-2.4 5.5-4.7 8.3-7-2.6-2.9-5.4-5.7-8.2-8.5zM561.9 141.8c2.1 1.7 4.2 3.5 6.2 5.3l7-6.9c-1.6-1.8-3.2-3.6-4.9-5.4-2.7 2.3-5.5 4.7-8.3 7zm10.4-35.5l-7.8-6.3-4.8 4.2c2.8 1.8 5.6 3.7 8.4 5.6 1.4-1.2 2.8-2.4 4.2-3.5z\"></path><path class=\"st7\" d=\"M578.3 111.1l-6-4.8c-1.4 1.1-2.8 2.3-4.2 3.4 2.2 1.5 4.5 3.1 6.7 4.7 1.1-1.1 2.3-2.2 3.5-3.3z\"></path><path class=\"st7\" d=\"M578.3 111.1c-1.2 1.1-2.4 2.2-3.5 3.3 3.6 2.6 7.2 5.1 10.8 7.7l3.2-2.6-10.5-8.4zm7.3 11l4.6 3.3 2.7-2.6-4.1-3.3-3.2 2.6zm-17.5-12.4c-2.8-1.9-5.5-3.7-8.4-5.6l-5.2 4.5c2.6 2 5.2 3.9 7.8 5.8 1.9-1.5 3.8-3.1 5.8-4.7z\"></path><path class=\"st7\" d=\"M574.8 114.4c-2.2-1.6-4.5-3.1-6.7-4.7-1.9 1.6-3.8 3.1-5.8 4.7 2.4 1.7 4.8 3.3 7.2 4.9 1.7-1.6 3.5-3.3 5.3-4.9zm5.4 12.1c1.8 1.2 3.5 2.3 5.3 3.5l4.7-4.6-4.6-3.3-5.4 4.4z\"></path><path class=\"st7\" d=\"M574.8 114.4c-1.8 1.7-3.6 3.3-5.3 5l10.8 7.2 5.3-4.4c-3.6-2.7-7.2-5.3-10.8-7.8zm-12.5 0c-2.7-1.9-5.3-3.8-7.8-5.8l-5.8 5c2.3 2.1 4.6 4.1 6.9 6.3l6.7-5.5zm7.1 4.9c-2.4-1.6-4.8-3.2-7.2-4.9l-6.8 5.6c2.2 2.1 4.4 4.2 6.5 6.3 2.6-2.3 5.1-4.6 7.5-7z\"></path><path d=\"M569.4 119.3c-2.5 2.3-4.9 4.7-7.4 7 2.8 2.8 5.5 5.6 8.2 8.5 3.3-2.8 6.7-5.5 10-8.3l-10.8-7.2z\" fill=\"#fffadf\"></path><path class=\"st7\" d=\"M570.3 134.8c1.7 1.8 3.3 3.6 4.9 5.4l10.3-10.2c-1.7-1.2-3.5-2.3-5.3-3.5-3.3 2.8-6.6 5.6-9.9 8.3z\"></path><path d=\"M520.1 153.4c1.8-1.6 6.1-.6 9.9 2.5 4.1 3.2 6.1 7.4 4.5 9.4l-.3.3c-1.8 1.6-6.1.6-9.9-2.5-4-3.2-6.1-7.4-4.5-9.4.1-.2.2-.3.3-.3z\" fill=\"#7e7e7e\"></path><path d=\"M532.8 160.1c-.9-1.4-2-2.7-3.3-3.7-3.2-2.5-6.7-3.3-8.2-2l-.2.2c-.9 1.1-.4 3 1 5 3.3 1.6 6.9 1.2 10.7.5z\" fill=\"#4b4b4b\"></path><path class=\"st30\" d=\"M522.1 159.6c.8 1 1.7 2 2.7 2.8 3.2 2.5 6.7 3.3 8.2 2l.2-.2c.7-.9.5-2.5-.4-4.1-3.7.7-7.4 1.1-10.7-.5z\"></path><g><circle class=\"st40\" cx=\"241.2\" cy=\"225.9\" r=\"64.4\"></circle><path class=\"st40\" d=\"M160.3 270.1c-2.8-.2-54.8.7-61.8-.8-7.5-1.6-11.7-8.9-10.4-24 .3-4-1.8-7-8.7-6-10.7 1.6-23.5-1.6-12.6-15.7 9.2-11.9 25.1-20.4 35.8-22.3 21.5-3.8 10.5 30.4 15 39 1.5 2.8 18.5 1.8 20.8 1.8m-38 84.7c2.3-10.7 0-13.8 8.6-19.2s39.8-23.3 51.2-25.7 19.1-3 30.4 2.7 76.8 30.8 87.7 32.3c10.5 1.5 24.1-2.9 27.9-6.6\"></path><path class=\"st40\" d=\"M177.4 215.1c-2.3 1.1-38.2 19.7-40.8 21.5 1.5 3.3 8.3 18.5 9.3 20.7 3.5.9 39.9 1.4 40.2 1.9m-49.6-21.5l41.3.8m100.7 69.8c-.4-29.7 41-60.5 57-18M65.1 326.2c.9-7.5 2.2-14.9 3.9-22.2 1-3.8 2.7-5.8 6.7-8.1 7.1-4.2 46.8-25.7 47.8-25.7m-19.1 9.7c-2.8 6.3-1.1 23.8 7.2 25.8M91.1 264c.4-15 20.8-26.1 25.9-25m91.3 87.2c-.5-4.6-1-33.2-.7-34.4m32.3 34.4c-2.1-3.6-11-21.8-11-25.2m30.3-13c3 .7 22.3 3.2 23.6 3m51.6-34c-4.2.3-36.4.6-37.6.6m-54.4-57.7c1.8-8-.9-18.9-3.6-18.9-8.6-.1-24.8 13.8-27.6 23.4m65.5 5.9c6.1-6 17.4-8.1 20.1-7.1 1.9.7 1 11.6-1.5 18.4m36.2 43.2c6.5-23.8 38.6-35.8 43.5-9.7\"></path><path class=\"st40\" d=\"M341.5 264.8c3.4.4 24.5 4.6 34.5-2.6 6.5-4.7.4-9.2-6.8-5.7m-68.3 15.7c-2.6 0-9.3-.6-13.9-1.1m37.7 2.9c2 .2 11.2 1.1 12.6 1.1m-40.5-71.9c-1.6-3.6-16-9.5-22.8-7.5 0 0-11.6-11.8-32.7-11.7m51.5 32.3c13.5 20.3-1.8 37.3-8.1 53.1m64.4-3.5c-2.4 2.1-15.9 11.9-18.8 14.2m-49.5 37.1c10.1-1.8 12.2-23.6 16-26.2s12.3 7.5 18.8 9c10.3 2.4 18.6-.3 22.9-4.1 3.5-3.1.5-8-9.2-4.9m-90.5-110c-4-1-20.3-1.1-29.3 10.7-31.7 11.5-32.4 66.8-9.9 83.4\"></path><path class=\"st40\" d=\"M206.4 280.1c-3.1-5.5 1.1-9 1.9-10.6 2.6-5.7.1-15.3 3.2-21.1 5.4-10.3 23-8.9 31.5-3.2 17.9 12.1 30.4 7.4 38.5 1.5 7.6-5.6 11.7-5.2 9.3 2.5-1.9 6.4-6.9 11.8-6.2 15.7s-.2 8.8-3.4 11.5\"></path><ellipse transform=\"matrix(.9975 -.07115 .07115 .9975 -19.154 18.685)\" class=\"st40\" cx=\"252.7\" cy=\"278.2\" rx=\"4.3\" ry=\"3.1\"></ellipse><path class=\"st40\" d=\"M266.1 313.6c-2.8-7.9 5.7-23 11.7-23m45.6-17.6c-1.8-6.6 1.3-13.8 4.7-15.8m-119.8 65.1c3.8-5.1 21.9-8.8 27.4-4.3\"></path><circle class=\"st40\" cx=\"451.5\" cy=\"208.3\" r=\"59.3\"></circle><path class=\"st40\" d=\"M413.1 253.6c-8.6-12.9-11.1-32-2.8-51.8 2-4.7 5.3-8.8 9.6-11.6 3.3-7.7 10.9-10.5 14.7-11.2 4.2 1.8 7.7 8.3 8.2 12.7m-19.1 4.1c.4-3.2 3.9-11.5 11-16.8m53.7 75.8c2.6-2.2 7.8-10.4 5.1-16.6-2.9-6.7 6.4-32-4.5-38.8.6-4.6 1.2-11.3-1.3-15.3-4.4-1.3-12.2 2.3-16 4.8-7.8-3.7-16.3-6.7-31-4.8m33.3 10.7c3.2-6 12.1-11.6 13.7-10.8\"></path><path class=\"st40\" d=\"M422.6 260.1c-4.1-5.3-2.7-9.5-1.4-13.1s-2.8-12.3-1.3-19.2c2.1-9.6 12.5-12.4 18.3-12.4 7.8 0 22.1 7.2 28.5 6.7 6.4-.7 12.7-2.7 18.3-5.8 4.7-2.6 7.3 2.8 5.8 9.5-2.3 10.5 3.6 10.6 3.3 17m-17.5 26c3.4 5.1 18.9 13 33.4 8.1 15.6-5.3 2.8-11.1-6.6-7.5m-31.1 5.2c7.3-33 36.2-27.1 40.5-6.3m-96.2 30.1c1.9-33.2 37.2-24.6 33-1.8m14.5-25.2c1.3.4 4 2.3 4 5\"></path><path class=\"st40\" d=\"M429.2 263.3c-.3 3.1 2.2 5.3 4.6 6.8 3.8 2.8 22.5 7.4 30.8.9 1.9-1.6 3.6-4.2 3.6-5.9m-49.5 31.6c3 4 18 11.6 30.9 7 11.7-4.2 1.9-9.7-7.4-5.7M431 268.3c-4.7 1.8-8.6 9.9-8.7 13.5m176.3-4.3c-32.7-.7-58.8-27.7-58.1-60.5s27.7-58.8 60.5-58.1c32.7.7 58.8 27.7 58.1 60.5-.3 13-4.8 25.5-12.8 35.7\"></path><path class=\"st40\" d=\"M669.3 273.6c-.4-5.1-1.2-18.4-2.2-23.5-5.1.7-43.5 11.2-48 13.5-2.7 5-5 10.2-7 15.5 3 5.4 19.2 37.9 20.2 40.6 4.5-1.6 36.4-17.1 38.1-17.6 0-.9.3-3.7.3-5.1\"></path><path class=\"st40\" d=\"M632.3 319.7l3.4-7-16.7-49.1m50.9 33.9L635.6 313m-4.7-47.5c1-.5 15.6-5.5 17.5-6 1 2.3 3.9 11 4.5 13-1.5.8-14.8 6.7-16 7.2-1.8-3.8-6.2-14.6-6-14.2zm55.7 60.8c1-10.5-4.6-29.9-21.6-30.2-8.2-3.5-5.9-17.5 4-19.1 25.2 1.4 48.6 25.8 45.8 50.2\"></path><path class=\"st40\" d=\"M670.7 276.5c0-1.9-2.4-4.9-7.3-4.9-17.2 0-18 26.5-4.3 28.6 4.7.7 7.9-2.1 9.9-3.6m7.8 3.7c-2.2-5.9 4.2-16.6 13.6-16.6m-4 35.5c4-11 23.9-10.4 27.2-6.3m-39.9 14.3c-3.2-3.8-7.7-19.4-7.7-23.1m-48.8 21.5c-1.1-4-8.1-31.9-7.3-34.9-3.8 11.4-11.1 29.6-35.5 29.6-37 0-48.5-15.1-51.8-30.9-1.1-5.2-.2-11.8 8.3-9.6 13.7-3.4 25 7.9 27.5 11.9\"></path><path class=\"st40\" d=\"M615.1 271.6c-4.3-3.9-12.6-2.9-17.5 8.2-2 4.6-9.8 17.3-14.4 18.1-5.7 1.1-24.7-6.2-29.8-7.2m39.5-13.7c5.9-22.1 43.8-31.5 55-24.1m-74.3 43.7c-6 .9-13.5 17.4-6.6 23.4\"></path><ellipse class=\"st40\" cx=\"464.1\" cy=\"250.7\" rx=\"4\" ry=\"1.9\"></ellipse><path class=\"st40\" d=\"M641.8 250.1c21.9-27-4.1-88.6-61.1-58.5-6.3-3.9-13.7-5.4-21-4.2-6.4 4.4-7 20.8-7 24.9\"></path><path class=\"st40\" d=\"M597.4 185.1c2.5-3.3 7-7.6 10.5-8.8 6.2 1.6 11.8 5.1 16 10m-67.4 20.8c-2.4 2.2-9.7 12.8-5.7 22.8s10.4 22.6 11 28.5c.6 5.9 8.8 11.3 12.6 13.5\"></path></g></svg>\\n\\n      </div>\\n\\n      <div class=\"col-lg-4 text-center text-lg-left my-3\">\\n        <h2 class=\"h1-mktg lh-condensed mb-3\">Get started with GitHub&nbsp;Enterprise</h2>\\n        <p class=\"f3 text-gray mr-lg-6\">\\n        Take collaboration to the next level with security and administrative features built for&nbsp;teams.\\n        </p>\\n      </div>\\n      <div class=\"d-flex flex-wrap flex-md-nowrap flex-justify-center flex-lg-justify-end col-lg-8\">\\n        <div class=\"col-12 col-sm-6 col-md-5 d-flex flex-column flex-justify-between flex-items-center text-center p-3\">\\n          <div>\\n            <svg xmlns=\"http://www.w3.org/2000/svg\" width=\"50\" height=\"50\" viewBox=\"0 0 48 49\" fill=\"none\" class=\"mb-2\">\\n<path fill-rule=\"evenodd\" clip-rule=\"evenodd\" d=\"M21.6797 36.9274V34.3863C21.6797 34.3863 21.6724 33.7008 22.0494 33.1215C21.5238 33.0825 18.21 32.751 18.21 28.8196C18.21 27.3001 19.1252 26.3431 19.1252 26.3431C19.1252 26.3431 18.8805 25.4767 18.9788 24.4822C19.1095 23.1602 21.5564 24.6609 21.5564 24.6609C21.5564 24.6609 23.471 23.9548 26.281 24.6609C26.5293 24.3575 28.7146 22.9573 28.9395 24.3929C29.009 24.8369 28.8458 26.3431 28.8458 26.3431C28.8458 26.3431 29.6206 27.1288 29.626 28.8442C29.6369 32.2357 25.8261 33.1215 25.8261 33.1215C25.8261 33.1215 26.1856 33.7757 26.172 34.3863C26.1585 34.997 26.172 37 26.172 37C26.172 37 29.8169 35.8847 31.5674 33.0498C32.4044 31.6944 33 30.1179 33 28.1846C33 25.2995 31.8249 23.2014 30.5001 21.7971C28.7136 19.9033 26.2658 19 24 19C21.7525 19 19.2387 19.9239 17.4121 21.8971C16.0278 23.3925 15 25.507 15 28.1846C15 30.2112 15.7011 32.1298 16.7732 33.5648C18.6151 36.0301 21.6797 36.9274 21.6797 36.9274Z\" stroke=\"#2088FF\" stroke-width=\"2\" stroke-linecap=\"round\" stroke-linejoin=\"round\"></path>\\n<path d=\"M11 48H3C1.89543 48 1 47.1046 1 46V20C1 18.8954 1.89543 18 3 18H6L11 18\" stroke=\"#79B8FF\" stroke-width=\"2\" stroke-linecap=\"round\" stroke-linejoin=\"round\"></path>\\n<path d=\"M5.01172 23H10.0117\" stroke=\"#79B8FF\" stroke-width=\"2\" stroke-linecap=\"round\"></path>\\n<path d=\"M5.01367 28H10.0137\" stroke=\"#79B8FF\" stroke-width=\"2\" stroke-linecap=\"round\"></path>\\n<path d=\"M34 36.9989C34 36.4466 33.5523 35.9989 33 35.9989C32.4477 35.9989 32 36.4466 32 36.9989H34ZM33 48V49C33.5523 49 34 48.5523 34 48H33ZM27 48H26C26 48.5523 26.4477 49 27 49V48ZM27 44.8636H28C28 44.3114 27.5523 43.8636 27 43.8636V44.8636ZM21 44.8636V43.8636C20.4477 43.8636 20 44.3114 20 44.8636H21ZM21 48V49C21.5523 49 22 48.5523 22 48H21ZM15 48H14C14 48.5523 14.4477 49 15 49V48ZM16 37.0243C16 36.472 15.5523 36.0243 15 36.0243C14.4477 36.0243 14 36.472 14 37.0243H16ZM14 19.0122C14 19.5645 14.4477 20.0122 15 20.0122C15.5523 20.0122 16 19.5645 16 19.0122H14ZM18 9.22727L18.4262 10.1319C18.4447 10.1232 18.463 10.1139 18.4809 10.104L18 9.22727ZM33 1H34C34 0.646647 33.8135 0.319526 33.5095 0.139506C33.2054 -0.0405132 32.8289 -0.0467031 32.5191 0.123224L33 1ZM32 19.0219C32 19.5741 32.4477 20.0219 33 20.0219C33.5523 20.0219 34 19.5741 34 19.0219H32ZM32 36.9989V48H34V36.9989H32ZM33 47H27V49H33V47ZM28 48V44.8636H26V48H28ZM27 43.8636H21V45.8636H27V43.8636ZM20 44.8636V48H22V44.8636H20ZM21 47H15V49H21V47ZM16 48V37.0243H14V48H16ZM16 19.0122V14.4545H14V19.0122H16ZM16 14.4545C16 12.4615 17.1989 10.7101 18.4262 10.1319L17.5738 8.32265C15.5679 9.2677 14 11.7773 14 14.4545H16ZM18.4809 10.104L33.4809 1.87678L32.5191 0.123224L17.5191 8.3505L18.4809 10.104ZM32 1V19.0219H34V1H32Z\" fill=\"#2088FF\"></path>\\n<path d=\"M36 21L37.0597 20.2052L40 18L47 24V46C47 47.1046 46.1046 48 45 48H37\" stroke=\"#79B8FF\" stroke-width=\"2\" stroke-linecap=\"round\" stroke-linejoin=\"round\"></path>\\n<path d=\"M38.0137 30.0078H43.0137\" stroke=\"#79B8FF\" stroke-width=\"2\" stroke-linecap=\"round\"></path>\\n<path d=\"M38.0156 35.0078H43.0156\" stroke=\"#79B8FF\" stroke-width=\"2\" stroke-linecap=\"round\"></path>\\n</svg>\\n\\n            <h3 class=\"h4-mktg\">Enterprise</h3>\\n            <p class=\"f5 text-gray\">Deploy to your environment or the cloud.</p>\\n          </div>\\n          <a class=\"btn-mktg mb-1 d-block d-md-inline-block text-center mt-2\" href=\"/organizations/enterprise_plan\" data-ga-click=\"Home Enterprise prompt, click, text:Start a free trial\">Start a free trial</a>\\n        </div>\\n        <div class=\"col-12 col-sm-6 col-md-5 d-flex flex-column flex-justify-between flex-items-center text-center p-3\">\\n          <div>\\n            <svg xmlns=\"http://www.w3.org/2000/svg\" width=\"50\" height=\"50\" viewBox=\"0 0 76 76\" fill=\"none\" class=\"mb-2\"><path d=\"M10 8.572c-.79 0-1.429.64-1.429 1.429v25.714c0 .789.64 1.428 1.429 1.428h8.571c.282 0 .558.084.792.24l6.35 4.234v-3.045c0-.789.64-1.429 1.43-1.429h4.285a1.429 1.429 0 0 1 0 2.858h-2.857v4.285a1.429 1.429 0 0 1-2.221 1.189L18.138 40H10a4.286 4.286 0 0 1-4.286-4.286V10A4.286 4.286 0 0 1 10 5.715h47.142A4.286 4.286 0 0 1 61.428 10v14.285a1.429 1.429 0 0 1-2.857 0V10.001c0-.79-.64-1.429-1.429-1.429H10zM44.77 37.915a14.238 14.238 0 0 1 9.515-3.629c3.662 0 7.005 1.38 9.532 3.645a1.429 1.429 0 0 1-1.907 2.128 11.38 11.38 0 0 0-7.625-2.916 11.381 11.381 0 0 0-7.61 2.903 1.428 1.428 0 1 1-1.904-2.13zM67.05 64.707a1.428 1.428 0 0 1 2.017.105c1.982 2.2 3.334 4.873 3.774 7.81a1.429 1.429 0 0 1-2.826.423c-.348-2.33-1.427-4.496-3.07-6.32a1.429 1.429 0 0 1 .105-2.017zM63.947 55.745c.528.586.481 1.49-.105 2.017a14.238 14.238 0 0 1-9.557 3.667h-.003c-.914 0-1.812.069-2.685.2-6.79 1.022-12.035 5.786-13.048 11.48a1.429 1.429 0 0 1-2.813-.502c1.059-5.948 5.707-10.788 11.755-12.894a14.324 14.324 0 0 1-2.726-1.918 1.429 1.429 0 0 1 1.905-2.13 11.38 11.38 0 0 0 7.614 2.907h.001c2.94 0 5.619-1.109 7.645-2.933a1.428 1.428 0 0 1 2.017.105z\" fill=\"#79B8FF\"></path><path d=\"M36.168 14.326a1.429 1.429 0 0 1 .956 1.78L32.817 30.43a1.428 1.428 0 1 1-2.736-.823l4.307-14.324a1.429 1.429 0 0 1 1.78-.957zM25.296 17.562a1.429 1.429 0 0 1 0 2.02l-3.276 3.276 3.276 3.275a1.429 1.429 0 1 1-2.02 2.02l-4.286-4.285a1.429 1.429 0 0 1 0-2.02l4.285-4.286a1.429 1.429 0 0 1 2.02 0z\" fill=\"#2188FF\"></path><path fill-rule=\"evenodd\" clip-rule=\"evenodd\" d=\"M40.28 40.01c.752.048 1.548.277 2.075.984.49.656.498 1.451.502 1.808v.06c-.003 1.02-.002 2.65 0 4.291v.012c.001 1.598.003 3.206 0 4.268v.044c-.001.174-.002.438-.036.695-.037.29-.128.693-.393 1.08-.593.863-1.584 1.037-2.431 1.034-3.792-.002-7.14-3.178-7.14-7.143 0-2.798 1.668-5.203 3.982-6.377 2.6-7.114 9.429-12.194 17.447-12.194 8.017 0 14.845 5.08 17.447 12.194 2.314 1.174 3.981 3.58 3.981 6.377 0 2.798-1.667 5.203-3.981 6.377-2.293 6.271-7.869 10.96-14.65 11.985A2.144 2.144 0 0 1 52.857 65v-.928c0-.67.544-1.215 1.214-1.215h.215c.223 0 .446-.004.667-.013 5.824-.243 10.832-3.658 13.337-8.564-.777-.037-1.62-.26-2.146-1.028a2.437 2.437 0 0 1-.394-1.08 5.674 5.674 0 0 1-.036-.695v-.044c-.003-1.064-.001-2.676 0-4.278.002-1.641.004-3.272 0-4.293v-.06c.005-.357.013-1.152.502-1.808.527-.707 1.323-.936 2.076-.984-2.6-5.094-7.897-8.581-14.007-8.581-6.109 0-11.406 3.487-14.006 8.581zm-.29 2.848c-2.253.005-4.276 1.943-4.276 4.285 0 2.346 2.029 4.286 4.286 4.286v-.006c.003-.99.001-2.617 0-4.242v-.005c-.002-1.674-.003-3.344 0-4.312v-.006h-.01zm28.591 0c2.254.005 4.276 1.943 4.276 4.285 0 2.346-2.028 4.286-4.286 4.286v-.006c-.002-.99-.001-2.62 0-4.247v-.012c.002-1.67.003-3.334 0-4.3v-.006h.01z\" fill=\"#2188FF\"></path><path d=\"M41.847 19.582a1.429 1.429 0 0 1 2.02-2.02l4.286 4.285a1.429 1.429 0 0 1 0 2.02l-4.286 4.286a1.429 1.429 0 0 1-2.02-2.02l3.275-3.275-3.275-3.276z\" fill=\"#2188FF\"></path></svg>\\n\\n            <h3 class=\"h4-mktg\">Talk to us</h3>\\n            <p class=\"f5 text-gray\">Need help?</p>\\n          </div>\\n          <a class=\"btn-mktg btn-outline-mktg mb-1 d-block d-md-inline-block text-center mt-2 Bump-link\" href=\"https://enterprise.github.com/contact\" data-ga-click=\"Home Enterprise prompt, click, text:Contact Sales\">Contact Sales <span class=\"Bump-link-symbol\">&rarr;</span></a>\\n        </div>\\n      </div>\\n    </div>\\n  </div>\\n</div>\\n\\n\\n<div class=\"container-lg p-responsive\">\\n  <div class=\"text-center py-7 py-md-8 py-lg-9 \">\\n    <h3 class=\"h3-mktg text-normal text-gray-light mb-4 lh-condensed\">\\n      More than 2.1 million businesses and organizations use GitHub\\n    </h3>\\n    <ul class=\"d-flex flex-justify-center flex-items-center flex-wrap list-style-none mt-2 mt-md-3 grayscale\">\\n      <li><img alt=\"Airbnb\" class=\"logo-img-sm px-2 px-sm-4 px-md-5 my-md-3\" src=\"https://github.githubassets.com/images/modules/site/logos/airbnb-logo.png\" /></li>\\n      <li><img alt=\"SAP\" class=\"logo-img-sm px-2 px-sm-4 px-md-5 my-md-3\" src=\"https://github.githubassets.com/images/modules/site/logos/sap-logo.png\" /></li>\\n      <li><img alt=\"IBM\" class=\"logo-img-sm px-2 px-sm-4 px-md-5 my-md-3\" src=\"https://github.githubassets.com/images/modules/site/logos/ibm-logo.png\" /></li>\\n      <li><img alt=\"Google\" class=\"logo-img-sm px-2 px-sm-4 px-md-5 my-md-3\" src=\"https://github.githubassets.com/images/modules/site/logos/google-logo.png\" /></li>\\n      <li><img alt=\"PayPal\" class=\"logo-img-sm px-2 px-sm-4 px-md-5 my-md-3\" src=\"https://github.githubassets.com/images/modules/site/logos/paypal-logo.png\" /></li>\\n      <li><img alt=\"Bloomberg\" class=\"logo-img-sm px-2 px-sm-4 px-md-5 my-md-3\" src=\"https://github.githubassets.com/images/modules/site/logos/bloomberg-logo.png\" /></li>\\n      <li><img alt=\"Spotify\" class=\"logo-img-sm px-2 px-sm-4 px-md-5 my-md-3\" src=\"https://github.githubassets.com/images/modules/site/logos/spotify-logo.png\" /></li>\\n      <li><img alt=\"Swift\" class=\"logo-img-sm px-2 px-sm-4 px-md-5 my-md-3\" src=\"https://github.githubassets.com/images/modules/site/logos/swift-logo.png\" /></li>\\n      <li><img alt=\"Facebook\" class=\"logo-img-sm px-2 px-sm-4 px-md-5 my-md-3\" src=\"https://github.githubassets.com/images/modules/site/logos/facebook-logo.png\" /></li>\\n      <li><img alt=\"Node.js\" class=\"logo-img-sm px-2 px-sm-4 px-md-5 my-md-3\" src=\"https://github.githubassets.com/images/modules/site/logos/node-logo.png\" /></li>\\n      <li><img alt=\"NASA\" class=\"logo-img-sm px-2 px-sm-4 px-md-5 my-md-3\" src=\"https://github.githubassets.com/images/modules/site/logos/nasa-logo.png\" /></li>\\n      <li><img alt=\"Walmart\" class=\"logo-img-sm px-2 px-sm-4 px-md-5 my-md-3\" src=\"https://github.githubassets.com/images/modules/site/logos/walmart-logo.png\" /></li>\\n    </ul>\\n  </div>\\n</div>\\n\\n<div class=\"py-7 py-md-8 py-lg-9\">\\n  <div class=\"container-lg p-responsive pb-6\">\\n    <h2 class=\"h4 text-mono text-normal text-gray text-center\">\\n      GitHub for teams\\n    </h2>\\n    <p class=\"h00-mktg lh-condensed mt-3 mb-2 text-center\">\\n      A better way to work together\\n    </p>\\n    <p class=\"lead-mktg text-gray text-center col-md-8 mx-auto mb-4\">\\n      GitHub brings teams together to work through problems, move ideas forward, and learn from each other along&nbsp;the&nbsp;way.\\n    </p>\\n    <div class=\"text-center\">\\n        <a href=\"/join?plan=business&amp;setup_organization=true&amp;source=home\"\\n          class=\"btn-mktg btn-large-mktg btn-outline-mktg Bump-link\"\\n          data-hydro-click=\"{&quot;event_type&quot;:&quot;authentication.click&quot;,&quot;payload&quot;:{&quot;location_in_page&quot;:&quot;sign up your team&quot;,&quot;repository_id&quot;:null,&quot;auth_type&quot;:&quot;SIGN_UP&quot;,&quot;originating_url&quot;:&quot;https://github.com/&quot;,&quot;user_id&quot;:null}}\" data-hydro-click-hmac=\"e36501fbe26e81166c30178192f6644085f83ba404af98e05cdb482d5456175a\"\\n          data-ga-click=\"Signup, Attempt, text:Sign up your team\">\\n          Sign up your team <span class=\"Bump-link-symbol\">&rarr;</span>\\n        </a>\\n    </div>\\n  </div>\\n\\n  <div class=\"container-xl p-responsive\">\\n    <div class=\"position-relative overflow-hidden d-lg-flex pt-6\">\\n      <div class=\"col-10 col-sm-7 mx-auto mx-lg-6 mb-sm-3\">\\n        <img src=\"https://github.githubassets.com/images/modules/site/home-illo-team.svg\" alt=\"\" class=\"d-block width-fit mx-auto\">\\n      </div>\\n      <div class=\"col-lg-5\">\\n        <a href=\"/features/code-review\" class=\"summarylink\">\\n          <div class=\"summarylink-illustration\">\\n            <img src=\"https://github.githubassets.com/images/modules/site/home-illo-team-code.svg\" alt=\"\" class=\"width-fit mx-auto\">\\n          </div>\\n          <div class=\"summarylink-btn d-flex flex-justify-between flex-items-center f5 text-gray-dark rounded-1 p-sm-4 my-4 my-sm-0\">\\n            <div class=\"col-10\">\\n              <h3 class=\"h3-mktg text-normal mb-1\">Write better code</h3>\\n              <p class=\"mb-0\">Collaboration makes perfect. The conversations and code reviews that happen in pull requests help your team share the weight of your work and improve the software you build. <span class=\"link-mktg text-blue\">Learn about code review.</span></p>\\n            </div>\\n            <svg class=\"octicon octicon-triangle-right text-blue\" viewBox=\"0 0 6 16\" version=\"1.1\" width=\"6\" height=\"16\" aria-hidden=\"true\"><path fill-rule=\"evenodd\" d=\"M0 14l6-6-6-6v12z\"/></svg>\\n          </div>\\n        </a>\\n        <a href=\"/features/project-management\" class=\"summarylink\">\\n          <div class=\"summarylink-illustration\">\\n            <img src=\"https://github.githubassets.com/images/modules/site/home-illo-team-chaos.svg\" alt=\"\" class=\"width-fit mx-auto\">\\n          </div>\\n          <div class=\"summarylink-btn d-flex flex-justify-between flex-items-center f5 text-gray-dark rounded-1 p-sm-4 my-4 my-sm-0\">\\n            <div class=\"col-10\">\\n              <h3 class=\"h3-mktg text-normal mb-1\">Manage your chaos</h3>\\n              <p class=\"mb-0\">Take a deep breath. On GitHub, project management happens in issues and project boards, right alongside your code. All you have to do is mention a teammate to get them involved. <span class=\"link-mktg text-blue\">Learn about project management.</span></p>\\n            </div>\\n            <svg class=\"octicon octicon-triangle-right text-blue\" viewBox=\"0 0 6 16\" version=\"1.1\" width=\"6\" height=\"16\" aria-hidden=\"true\"><path fill-rule=\"evenodd\" d=\"M0 14l6-6-6-6v12z\"/></svg>\\n          </div>\\n        </a>\\n        <a href=\"/features/integrations\" class=\"summarylink\">\\n          <div class=\"summarylink-illustration\">\\n            <img src=\"https://github.githubassets.com/images/modules/site/home-illo-team-tools.svg\" alt=\"\" class=\"width-fit mx-auto\">\\n          </div>\\n          <div class=\"summarylink-btn d-flex flex-justify-between flex-items-center f5 text-gray-dark rounded-1 p-sm-4 my-4 my-sm-0\">\\n            <div class=\"col-10\">\\n              <h3 class=\"h3-mktg text-normal mb-1\">Find the right tools</h3>\\n              <p class=\"mb-0\">Browse and buy apps from GitHub Marketplace with your GitHub account. Find the tools you like or discover new favorites—then start using them in minutes. <span class=\"link-mktg text-blue\">Learn about integrations.</span></p>\\n            </div>\\n            <svg class=\"octicon octicon-triangle-right text-blue\" viewBox=\"0 0 6 16\" version=\"1.1\" width=\"6\" height=\"16\" aria-hidden=\"true\"><path fill-rule=\"evenodd\" d=\"M0 14l6-6-6-6v12z\"/></svg>\\n          </div>\\n        </a>\\n      </div>\\n    </div>\\n  </div>\\n\\n    <h3 class=\"lead-mktg text-gray text-center col-md-8 mt-6 mx-auto\">\\n      See how the world\\'s leading companies use GitHub Enterprise.\\n    </h3>\\n    <div class=\"d-flex flex-wrap flex-items-stretch flex-justify-center container-xl gutter-sm-condensed gutter-md mx-auto p-responsive\">\\n        <article class=\"col-12 col-sm-6 col-md-4 col-lg-3 d-flex flex-column py-2 py-md-3\">\\n  <a\\n    href=\"/customer-stories/mgm-resorts\"\\n    class=\"Bump-link customer-story-card bg-white rounded-1 px-3 pt-3 no-underline d-flex flex-column position-relative height-full\"\\n  >\\n    <div\\n      class=\"customer-story-card-hero position-relative rounded-1\"\\n      style=\"background-image: url(https://customer-stories-feed.github.com/customer_stories/mgm-resorts/hero.jpg);\"\\n    >\\n      <div class=\"customer-story-btn position-absolute top-0 right-0 mt-2 mr-2\" role=\"button\">\\n        <span class=\"btn-mktg mx-auto py-2 px-3\" role=\"button\">\\n          <span class=\"f2\">&nearr;</span>\\n        </span>\\n      </div>\\n\\n    </div>\\n\\n    <div class=\"pt-3 d-flex flex-column flex-auto\">\\n      <h1 class=\"h4-mktg text-gray-dark mb-1\">MGM Resorts International</h1>\\n\\n      <p class=\"text-gray f6 flex-auto\">\\n          <span class=\"d-block mb-2\">\\n            Hospitality\\n          </span>\\n      </p>\\n\\n      <div class=\"d-flex width-full f5 border-top flex-justify-between py-3 text-blue-mktg\">\\n        <span>Read more</span>\\n        <span class=\"Bump-link-symbol\">&rarr;</span>\\n      </div>\\n    </div>\\n  </a>\\n</article>\\n\\n        <article class=\"col-12 col-sm-6 col-md-4 col-lg-3 d-flex flex-column py-2 py-md-3\">\\n  <a\\n    href=\"/customer-stories/nationwide\"\\n    class=\"Bump-link customer-story-card bg-white rounded-1 px-3 pt-3 no-underline d-flex flex-column position-relative height-full\"\\n  >\\n    <div\\n      class=\"customer-story-card-hero position-relative rounded-1\"\\n      style=\"background-image: url(https://customer-stories-feed.github.com/customer_stories/nationwide/nw_hero.jpg);\"\\n    >\\n      <div class=\"customer-story-btn position-absolute top-0 right-0 mt-2 mr-2\" role=\"button\">\\n        <span class=\"btn-mktg mx-auto py-2 px-3\" role=\"button\">\\n          <span class=\"f2\">&nearr;</span>\\n        </span>\\n      </div>\\n\\n    </div>\\n\\n    <div class=\"pt-3 d-flex flex-column flex-auto\">\\n      <h1 class=\"h4-mktg text-gray-dark mb-1\">Nationwide</h1>\\n\\n      <p class=\"text-gray f6 flex-auto\">\\n          <span class=\"d-block mb-2\">\\n            Insurance\\n          </span>\\n      </p>\\n\\n      <div class=\"d-flex width-full f5 border-top flex-justify-between py-3 text-blue-mktg\">\\n        <span>Read more</span>\\n        <span class=\"Bump-link-symbol\">&rarr;</span>\\n      </div>\\n    </div>\\n  </a>\\n</article>\\n\\n        <article class=\"col-12 col-sm-6 col-md-4 col-lg-3 d-flex flex-column py-2 py-md-3\">\\n  <a\\n    href=\"/customer-stories/sap\"\\n    class=\"Bump-link customer-story-card bg-white rounded-1 px-3 pt-3 no-underline d-flex flex-column position-relative height-full\"\\n  >\\n    <div\\n      class=\"customer-story-card-hero position-relative rounded-1\"\\n      style=\"background-image: url(https://customer-stories-feed.github.com/customer_stories/sap/sap6.jpg);\"\\n    >\\n      <div class=\"customer-story-btn position-absolute top-0 right-0 mt-2 mr-2\" role=\"button\">\\n        <span class=\"btn-mktg mx-auto py-2 px-3\" role=\"button\">\\n          <span class=\"f2\">&nearr;</span>\\n        </span>\\n      </div>\\n\\n    </div>\\n\\n    <div class=\"pt-3 d-flex flex-column flex-auto\">\\n      <h1 class=\"h4-mktg text-gray-dark mb-1\">SAP</h1>\\n\\n      <p class=\"text-gray f6 flex-auto\">\\n          <span class=\"d-block mb-2\">\\n            Business Software\\n          </span>\\n      </p>\\n\\n      <div class=\"d-flex width-full f5 border-top flex-justify-between py-3 text-blue-mktg\">\\n        <span>Read more</span>\\n        <span class=\"Bump-link-symbol\">&rarr;</span>\\n      </div>\\n    </div>\\n  </a>\\n</article>\\n\\n        <article class=\"col-12 col-sm-6 col-md-4 col-lg-3 d-flex flex-column py-2 py-md-3\">\\n  <a\\n    href=\"/customer-stories/spotify\"\\n    class=\"Bump-link customer-story-card bg-white rounded-1 px-3 pt-3 no-underline d-flex flex-column position-relative height-full\"\\n  >\\n    <div\\n      class=\"customer-story-card-hero position-relative rounded-1\"\\n      style=\"background-image: url(https://customer-stories-feed.github.com/customer_stories/spotify/spotifyhero.jpg);\"\\n    >\\n      <div class=\"customer-story-btn position-absolute top-0 right-0 mt-2 mr-2\" role=\"button\">\\n        <span class=\"btn-mktg mx-auto py-2 px-3\" role=\"button\">\\n          <span class=\"f2\">&nearr;</span>\\n        </span>\\n      </div>\\n\\n    </div>\\n\\n    <div class=\"pt-3 d-flex flex-column flex-auto\">\\n      <h1 class=\"h4-mktg text-gray-dark mb-1\">Spotify</h1>\\n\\n      <p class=\"text-gray f6 flex-auto\">\\n          <span class=\"d-block mb-2\">\\n            Technology / Streaming\\n          </span>\\n      </p>\\n\\n      <div class=\"d-flex width-full f5 border-top flex-justify-between py-3 text-blue-mktg\">\\n        <span>Read more</span>\\n        <span class=\"Bump-link-symbol\">&rarr;</span>\\n      </div>\\n    </div>\\n  </a>\\n</article>\\n\\n    </div>\\n</div>\\n\\n<div class=\"py-7 py-md-8 py-lg-9\">\\n  <div class=\"container-lg p-responsive\">\\n    <h2 class=\"h4 text-mono text-normal text-gray text-center\">\\n      Security and administration\\n    </h2>\\n    <p class=\"h00-mktg mt-3 mb-2 text-center\">\\n      Your business needs, met\\n    </p>\\n    <p class=\"lead-mktg text-gray text-center col-md-8 mx-auto mb-4\">\\n       From flexible hosting to granular access controls, we’ve got your security requirements&nbsp;covered.\\n    </p>\\n    <p class=\"text-center mb-5\">\\n      <a href=\"/enterprise\" class=\"btn-mktg btn-large-mktg btn-outline-mktg mx-auto Bump-link\" data-ga-click=\"Home Enterprise, click, text:Learn how GitHub Enterprise works\">\\n        <span class=\"d-sm-none\">How GitHub Enterprise works <span class=\"Bump-link-symbol\">&rarr;</span></span>\\n        <span class=\"d-none d-sm-inline\">Learn how GitHub Enterprise works <span class=\"Bump-link-symbol\">&rarr;</span></span>\\n      </a>\\n    </p>\\n\\n    <div class=\"d-md-flex flex-items-center flex-row-reverse mt-6 mb-3\">\\n      <div class=\"col-md-6 mx-auto px-5 pr-md-0 text-center\">\\n        <img src=\"https://github.githubassets.com/images/modules/site/home-illo-business.png\" alt=\"Security and administration\" class=\"width-fit mb-4\">\\n      </div>\\n      <div class=\"col-md-6 mx-auto text-md-left f5 p-sm-6\">\\n        <h3 class=\"h3-mktg text-normal mb-1\">Code security</h3>\\n        <p class=\"text-gray mb-3 mb-md-5\">\\n          Prevent problems before they happen. Protected branches, signed commits, and required status checks protect your work and help you maintain a high standard for your code.\\n        </p>\\n        <h3 class=\"h3-mktg text-normal mb-1 mt-sm-6\">Access controlled</h3>\\n        <p class=\"text-gray mb-3 mb-md-5\">\\n          Encourage teams to work together while limiting access to those who need it with granular permissions and authentication through SAML/SSO and LDAP.\\n        </p>\\n      </div>\\n    </div>\\n\\n    <div class=\"col-md-7 mx-auto Tile Tile--dots clearfix p-4 border pt-5 bg-white\" style=\"min-height: 0\">\\n      <div class=\"float-left\">\\n        <svg xmlns=\"http://www.w3.org/2000/svg\" viewBox=\"0 0 64 64\" class=\"mr-4\" width=\"64px\"><path d=\"M27 13h-9a1 1 0 0 0 0 2h9a1 1 0 0 0 0-2zm15-1a1 1 0 0 0-1 1v2a1 1 0 0 0 2 0v-2a1 1 0 0 0-1-1zm4 0a1 1 0 0 0-1 1v2a1 1 0 0 0 2 0v-2a1 1 0 0 0-1-1zM27 28h-9a1 1 0 0 0 0 2h9a1 1 0 0 0 0-2zm15 3a1 1 0 0 0 1-1v-2a1 1 0 0 0-2 0v2a1 1 0 0 0 1 1zm4 0a1 1 0 0 0 1-1v-2a1 1 0 0 0-2 0v2a1 1 0 0 0 1 1z\" fill=\"#23292f\"></path><path d=\"M50 44h-1a13 13 0 0 0-4.68-9H48a3 3 0 0 0 3-3v-6a3 3 0 0 0-3-3h-5v-3h5a3 3 0 0 0 3-3v-6a3 3 0 0 0-3-3H16a3 3 0 0 0-3 3v6a3 3 0 0 0 3 3h5v3h-5a3 3 0 0 0-3 3v6a3 3 0 0 0 3 3h11.72a13 13 0 0 0-3.79 5.21A7 7 0 0 0 13.28 44 6 6 0 0 0 14 56h36a6 6 0 0 0 0-12zM15 17v-6a1 1 0 0 1 1-1h32a1 1 0 0 1 1 1v6a1 1 0 0 1-1 1H16a1 1 0 0 1-1-1zm8 3h18v3H23zm-7 13a1 1 0 0 1-1-1v-6a1 1 0 0 1 1-1h32a1 1 0 0 1 1 1v6a1 1 0 0 1-1 1h-7a12.9 12.9 0 0 0-10 0H16zm34 21H14a4 4 0 1 1 .09-8 1 1 0 0 0 1-.83 5 5 0 0 1 8.6-2.55 1 1 0 0 0 1.7-.42A11 11 0 0 1 47 45a1 1 0 0 0 1 1h2a4 4 0 0 1 0 8z\" fill=\"#23292f\"></path></svg>\\n\\n      </div>\\n      <div class=\"overflow-hidden\">\\n        <h3 class=\"h4-mktg\">Hosted where you need it</h3>\\n        <p class=\"f5 text-gray mr-2\">Securely and reliably host your work on GitHub using GitHub Enterprise Cloud. Or deploy GitHub Enterprise Server in your own data centers or in a private cloud using Amazon Web Services, Azure, or Google Cloud Platform.</p>\\n\\n        <a href=\"/pricing\" class=\"d-block no-underline Bump-link\" data-ga-click=\"Home Enterprise, click, text:Compare plans\">Compare plans <span class=\"Bump-link-symbol\">&rarr;</span></a>\\n        <a href=\"https://enterprise.github.com/contact\" class=\"d-block no-underline Bump-link\" data-ga-click=\"Home Enterprise, click, text:Contact Sales for more information\">Contact Sales for more information <span class=\"Bump-link-symbol\">&rarr;</span></a>\\n      </div>\\n    </div>\\n\\n  </div>\\n</div>\\n\\n<div class=\"py-7 py-md-8 py-lg-9\">\\n  <div class=\"container-lg p-responsive text-center\">\\n    <div class=\"col-md-8 py-md-6 mx-auto\">\\n      <h2 class=\"h4 text-mono text-normal text-gray\">\\n        Integrations\\n      </h2>\\n      <p class=\"h00-mktg lh-condensed mt-3 mb-2\">\\n        Build on GitHub\\n      </p>\\n      <p class=\"lead-mktg text-gray mb-4 px-md-3\">\\n        Customize your process with GitHub apps and an intuitive API. Integrate the tools you already use or discover new favorites to create a happier, more efficient way of working.\\n      </p>\\n      <p class=\"f4 text-center mb-6\">\\n        <a href=\"/features/integrations\" class=\"btn-mktg btn-large-mktg btn-outline-mktg mx-auto Bump-link\">Learn about integrations <span class=\"Bump-link-symbol\">&rarr;</span></a>\\n      </p>\\n    </div>\\n\\n    <div class=\"apps-cluster d-flex flex-wrap flex-justify-center pb-6\">\\n      <div class=\"CircleBadge CircleBadge--medium CircleBadge--feature tooltipped tooltipped-s tooltipped-no-delay\" style=\"background-color: #4A154B;\" aria-label=\"Slack\"><img src=\"https://github.githubassets.com/images/modules/site/integrators/slackhq.png\" alt=\"Slack\" class=\"CircleBadge-icon\"></div>\\n      <div class=\"CircleBadge CircleBadge--medium CircleBadge--feature tooltipped tooltipped-s tooltipped-no-delay\" style=\"background-color: #364e98;\" aria-label=\"ZenHub\"><img src=\"https://github.githubassets.com/images/modules/site/integrators/zenhubio.png\" alt=\"ZenHub\" class=\"CircleBadge-icon\"></div>\\n      <div class=\"CircleBadge CircleBadge--medium CircleBadge--feature tooltipped tooltipped-s tooltipped-no-delay\" style=\"background-color: #eff9f9;\" aria-label=\"Travis CI\"><img src=\"https://github.githubassets.com/images/modules/site/integrators/travis-ci.png\" alt=\"Travis CI\" class=\"CircleBadge-icon\"></div>\\n      <div class=\"CircleBadge CircleBadge--medium CircleBadge--feature tooltipped tooltipped-s tooltipped-no-delay\" style=\"background-color: #5fb57d;\" aria-label=\"Atom\"><img src=\"https://github.githubassets.com/images/modules/site/integrators/atom.png\" alt=\"Atom\" class=\"CircleBadge-icon\"></div>\\n      <div class=\"CircleBadge CircleBadge--medium CircleBadge--feature tooltipped tooltipped-s tooltipped-no-delay\" style=\"background-color: #022531;\" aria-label=\"Circle CI\"><img src=\"https://github.githubassets.com/images/modules/site/integrators/circleci.png\" alt=\"Circle CI\" class=\"CircleBadge-icon\"></div>\\n      <div class=\"CircleBadge CircleBadge--medium CircleBadge--feature tooltipped tooltipped-s tooltipped-no-delay\" style=\"background-color: #f2f2f2;\" aria-label=\"Google\"><img src=\"https://github.githubassets.com/images/modules/site/integrators/google.png\" alt=\"Google\" class=\"CircleBadge-icon\"></div>\\n      <div class=\"CircleBadge CircleBadge--medium CircleBadge--feature hide-sm tooltipped tooltipped-s tooltipped-no-delay\" style=\"background-color: #303030;\" aria-label=\"Code Climate\"><img src=\"https://github.githubassets.com/images/modules/site/integrators/codeclimate.png\" alt=\"Code Climate\" class=\"CircleBadge-icon\"></div>\\n    </div>\\n\\n    <div class=\"col-md-8 py-md-6 mx-auto\">\\n      <p class=\"my-2 f5 col-sm-8 col-md-6 mx-auto text-gray\">\\n        Sometimes, there’s more than one tool for the job. Why not try something new?\\n      </p>\\n      <p>\\n        <a href=\"/marketplace\" class=\"no-underline Bump-link\" data-ga-click=\"Marketplace, click, text:Browse GitHub Marketplace\">\\n          Browse GitHub Marketplace <span class=\"Bump-link-symbol\">&rarr;</span>\\n        </a>\\n      </p>\\n    </div>\\n  </div>\\n</div>\\n\\n<div class=\"py-7 py-md-8 py-lg-9\">\\n  <div class=\"container-lg p-responsive\">\\n    <h2 class=\"h4 text-mono text-normal text-gray text-center\">\\n      Community\\n    </h2>\\n    <p class=\"h00-mktg mt-3 mb-4 lh-condensed text-center\">\\n      Welcome home, <br>developers\\n    </p>\\n      <p class=\"lead-mktg text-gray text-center col-md-8 mx-auto\">\\n        GitHub is home to the world’s largest community of developers and their&nbsp;projects...\\n      </p>\\n  </div>\\n\\n    <div class=\"d-flex flex-wrap flex-items-stretch flex-justify-center container-xl gutter-sm-condensed gutter-md mx-auto mb-3 p-responsive\">\\n        <article class=\"col-12 col-sm-6 col-md-4 col-lg-3 d-flex flex-column py-2 py-md-3\">\\n  <a\\n    href=\"/customer-stories/freakboy3742\"\\n    class=\"Bump-link customer-story-card bg-white rounded-1 px-3 pt-3 no-underline d-flex flex-column position-relative height-full\"\\n  >\\n    <div\\n      class=\"customer-story-card-hero position-relative rounded-1\"\\n      style=\"background-image: url(https://customer-stories-feed.github.com/customer_stories/freakboy3742/hero.jpg);\"\\n    >\\n      <div class=\"customer-story-btn position-absolute top-0 right-0 mt-2 mr-2\" role=\"button\">\\n        <span class=\"btn-mktg mx-auto py-2 px-3\" role=\"button\">\\n          <span class=\"f2\">&nearr;</span>\\n        </span>\\n      </div>\\n\\n    </div>\\n\\n    <div class=\"pt-3 d-flex flex-column flex-auto\">\\n      <h1 class=\"h4-mktg text-gray-dark mb-1\">Russell Keith-Magee</h1>\\n\\n      <p class=\"text-gray f6 flex-auto\">\\n          Russell Keith-Magee created BeeWare to fill a gap in his own process. Today, BeeWare is the go-to project for supporting Python on every platform.\\n      </p>\\n\\n      <div class=\"d-flex width-full f5 border-top flex-justify-between py-3 text-blue-mktg\">\\n        <span>Read more</span>\\n        <span class=\"Bump-link-symbol\">&rarr;</span>\\n      </div>\\n    </div>\\n  </a>\\n</article>\\n\\n        <article class=\"col-12 col-sm-6 col-md-4 col-lg-3 d-flex flex-column py-2 py-md-3\">\\n  <a\\n    href=\"/customer-stories/kris-nova\"\\n    class=\"Bump-link customer-story-card bg-white rounded-1 px-3 pt-3 no-underline d-flex flex-column position-relative height-full\"\\n  >\\n    <div\\n      class=\"customer-story-card-hero position-relative rounded-1\"\\n      style=\"background-image: url(https://customer-stories-feed.github.com/customer_stories/kris-nova/hero.jpg);\"\\n    >\\n      <div class=\"customer-story-btn position-absolute top-0 right-0 mt-2 mr-2\" role=\"button\">\\n        <span class=\"btn-mktg mx-auto py-2 px-3\" role=\"button\">\\n          <span class=\"f2\">&nearr;</span>\\n        </span>\\n      </div>\\n\\n    </div>\\n\\n    <div class=\"pt-3 d-flex flex-column flex-auto\">\\n      <h1 class=\"h4-mktg text-gray-dark mb-1\">Kris Nova</h1>\\n\\n      <p class=\"text-gray f6 flex-auto\">\\n          Kris Nova quickly developed a passion for open source software. Now she gets to work on open source tooling at her day job, which includes maintaining Kubernetes Operations (kops).\\n      </p>\\n\\n      <div class=\"d-flex width-full f5 border-top flex-justify-between py-3 text-blue-mktg\">\\n        <span>Read more</span>\\n        <span class=\"Bump-link-symbol\">&rarr;</span>\\n      </div>\\n    </div>\\n  </a>\\n</article>\\n\\n        <article class=\"col-12 col-sm-6 col-md-4 col-lg-3 d-flex flex-column py-2 py-md-3\">\\n  <a\\n    href=\"/customer-stories/yyx990803\"\\n    class=\"Bump-link customer-story-card bg-white rounded-1 px-3 pt-3 no-underline d-flex flex-column position-relative height-full\"\\n  >\\n    <div\\n      class=\"customer-story-card-hero position-relative rounded-1\"\\n      style=\"background-image: url(https://customer-stories-feed.github.com/customer_stories/yyx990803/hero.jpg);\"\\n    >\\n      <div class=\"customer-story-btn position-absolute top-0 right-0 mt-2 mr-2\" role=\"button\">\\n        <span class=\"btn-mktg mx-auto py-2 px-3\" role=\"button\">\\n          <span class=\"f2\">&nearr;</span>\\n        </span>\\n      </div>\\n\\n    </div>\\n\\n    <div class=\"pt-3 d-flex flex-column flex-auto\">\\n      <h1 class=\"h4-mktg text-gray-dark mb-1\">Evan You</h1>\\n\\n      <p class=\"text-gray f6 flex-auto\">\\n          In 2013, Evan You founded Vue, a Javascript framework funded by the community on Patreon. In 2016, Vue reached 2,000,000 downloads.\\n      </p>\\n\\n      <div class=\"d-flex width-full f5 border-top flex-justify-between py-3 text-blue-mktg\">\\n        <span>Read more</span>\\n        <span class=\"Bump-link-symbol\">&rarr;</span>\\n      </div>\\n    </div>\\n  </a>\\n</article>\\n\\n        <article class=\"col-12 col-sm-6 col-md-4 col-lg-3 d-flex flex-column py-2 py-md-3\">\\n  <a\\n    href=\"/customer-stories/jessfraz\"\\n    class=\"Bump-link customer-story-card bg-white rounded-1 px-3 pt-3 no-underline d-flex flex-column position-relative height-full\"\\n  >\\n    <div\\n      class=\"customer-story-card-hero position-relative rounded-1\"\\n      style=\"background-image: url(https://customer-stories-feed.github.com/customer_stories/jessfraz/hero.jpg);\"\\n    >\\n      <div class=\"customer-story-btn position-absolute top-0 right-0 mt-2 mr-2\" role=\"button\">\\n        <span class=\"btn-mktg mx-auto py-2 px-3\" role=\"button\">\\n          <span class=\"f2\">&nearr;</span>\\n        </span>\\n      </div>\\n\\n    </div>\\n\\n    <div class=\"pt-3 d-flex flex-column flex-auto\">\\n      <h1 class=\"h4-mktg text-gray-dark mb-1\">Jess Frazelle</h1>\\n\\n      <p class=\"text-gray f6 flex-auto\">\\n          Jess Frazelle works on Kubernetes full-time. Previously she maintained Docker, a software containerization platform used by thousands of teams.\\n      </p>\\n\\n      <div class=\"d-flex width-full f5 border-top flex-justify-between py-3 text-blue-mktg\">\\n        <span>Read more</span>\\n        <span class=\"Bump-link-symbol\">&rarr;</span>\\n      </div>\\n    </div>\\n  </a>\\n</article>\\n\\n    </div>\\n\\n  <div class=\"container-lg p-responsive\">\\n      <p class=\"lead-mktg text-gray text-center col-md-8 mx-auto pb-md-6\">\\n        ...whether you’re making your first commit or sending a Rover to Mars, there’s room for you here, too.\\n      </p>\\n\\n    <div class=\"gutter-md\">\\n      <div class=\"communitystats position-relative\">\\n        <a href=\"/open-source\" class=\"d-inline-block summarylink\">\\n          <div class=\"circle summary-circle d-flex flex-column flex-justify-center text-center p-4 mx-auto mt-6 mb-3 m-md-3 bg-orange box-shadow-extra-large\">\\n            <span class=\"d-block h0-mktg text-normal text-white lh-condensed-ultra mb-1\">100M<sup class=\"f2-light\">*</sup></span>\\n            <span class=\"h5 text-white lh-condensed\">repositories worldwide</span>\\n          </div>\\n          <div class=\"summarylink-btn d-flex flex-justify-between flex-items-center f5 text-gray-dark rounded-1 p-sm-4\">\\n            <p class=\"col-10 mb-0\">GitHub’s users create and maintain influential technologies alongside the world’s largest <span class=\"text-orange\">open source&nbsp;community</span>.</p>\\n            <svg class=\"octicon octicon-triangle-right text-orange-light\" viewBox=\"0 0 6 16\" version=\"1.1\" width=\"6\" height=\"16\" aria-hidden=\"true\"><path fill-rule=\"evenodd\" d=\"M0 14l6-6-6-6v12z\"/></svg>\\n          </div>\\n        </a>\\n\\n        <a href=\"/personal\" class=\"d-inline-block summarylink\">\\n          <div class=\"circle summary-circle d-flex flex-column flex-justify-center text-center p-4 mx-auto mt-6 mb-3 m-md-3 bg-blue box-shadow-extra-large\">\\n            <span class=\"d-block h0-mktg text-normal text-white lh-condensed-ultra mb-1\">40M<sup class=\"f2-light\">*</sup></span>\\n            <span class=\"h5 text-white lh-condensed\">developers worldwide</span>\\n          </div>\\n          <div class=\"summarylink-btn d-flex flex-justify-between flex-items-center f5 text-gray-dark rounded-1 p-sm-4\">\\n            <p class=\"col-10 mb-0\"><span class=\"text-blue\">Developers</span> use GitHub for personal projects, from experimenting with new programming languages to hosting their life’s work.</p>\\n            <svg class=\"octicon octicon-triangle-right text-blue\" viewBox=\"0 0 6 16\" version=\"1.1\" width=\"6\" height=\"16\" aria-hidden=\"true\"><path fill-rule=\"evenodd\" d=\"M0 14l6-6-6-6v12z\"/></svg>\\n          </div>\\n        </a>\\n\\n        <a href=\"/business\" class=\"d-inline-block summarylink\">\\n          <div class=\"circle summary-circle d-flex flex-column flex-justify-center text-center p-4 mx-auto mt-6 mb-3 m-md-3 bg-purple box-shadow-extra-large\">\\n            <span class=\"d-block h1-mktg text-normal text-white lh-condensed-ultra my-1\">2.1M<sup class=\"f3-light\">*</sup></span>\\n            <span class=\"h5 text-white lh-condensed\">businesses & organizations worldwide</span>\\n          </div>\\n          <div class=\"summarylink-btn d-flex flex-justify-between flex-items-center f5 text-gray-dark rounded-1 p-sm-4\">\\n            <p class=\"col-10 mb-0\"><span class=\"text-purple\">Businesses</span> of all sizes use GitHub to support their development process and to securely build software.</p>\\n            <svg class=\"octicon octicon-triangle-right text-purple\" viewBox=\"0 0 6 16\" version=\"1.1\" width=\"6\" height=\"16\" aria-hidden=\"true\"><path fill-rule=\"evenodd\" d=\"M0 14l6-6-6-6v12z\"/></svg>\\n          </div>\\n        </a>\\n\\n        <div class=\"mt-6 ml-md-4 text-gray-light f6\">\\n          * As of August 2019\\n        </div>\\n      </div>\\n    </div>\\n  </div>\\n\\n</div>\\n\\n  <div class=\"py-7 py-md-8 py-lg-9 bg-gray-dark\">\\n    <div class=\"container-lg p-responsive text-white text-center\">\\n      <h2 class=\"h1-mktg text-normal\">\\n        Get started for free &mdash; join the millions of developers already using GitHub to share their code, work together, and build amazing things.\\n      </h2>\\n    </div>\\n    <div class=\"container-xl p-responsive py-6 mt-lg-6\">\\n      <!-- \\'\"` --><!-- </textarea></xmp> --></option></form><form class=\"home-hero-signup js-signup-form\" autocomplete=\"off\" aria-label=\"Sign up\" action=\"/join\" accept-charset=\"UTF-8\" method=\"post\"><input type=\"hidden\" data-csrf=\"true\" name=\"authenticity_token\" value=\"5/6ZLaMkvCfQlaC18A5af/4Ws2UGXgutlPrpNkrAxBRxwrcB+Y2SL73qezuhHc4mYKQPvBphGOiZ+9w9tgFdiw==\" />        <input type=\"hidden\" name=\"ga_id\" class=\"js-octo-ga-id-input\">\\n        <div class=\"d-lg-flex flex-wrap flex-lg-nowrap flex-justify-between\">\\n          <auto-check src=\"/signup_check/username\" class=\"form-group col-12 col-sm-8 col-lg-3 mx-auto mt-0 mx-lg-0 mb-3 mb-lg-0 px-3\">\\n            <dl class=\"m-0\">\\n              <dt class=\"input-label\">\\n                <label class=\"form-label text-white f5\" for=\"user[login]-footer\">Username</label>\\n              </dt>\\n              <dd>\\n                <input type=\"text\" name=\"user[login]\" id=\"user[login]-footer\" class=\"form-control form-control-lg input-block input-lg\" placeholder=\"Pick a username\">\\n              </dd>\\n            </dl>\\n            <input type=\"hidden\" data-csrf=\"true\" value=\"595/hc/FI4qak9eOCeebAzezWJnyyNdGf84drHKQCuiyRNrjwLC7SrICVad+0ObOY26LRQGFZJY+ZsBgUNPa3Q==\" />\\n          </auto-check>\\n\\n          <auto-check src=\"/signup_check/email\" class=\"form-group col-12 col-sm-8 col-lg-3 mx-auto mt-0 mx-lg-0 mb-3 mb-lg-0 px-3\">\\n            <dl class=\"m-0\">\\n              <dt class=\"input-label\">\\n                <label class=\"form-label text-white f5\" for=\"user[email]-footer\">Email</label>\\n              </dt>\\n              <dd>\\n                <input type=\"text\" name=\"user[email]\" id=\"user[email]-footer\" class=\"form-control form-control-lg input-block input-lg js-email-notice-trigger\" placeholder=\"Your email address\">\\n              </dd>\\n            </dl>\\n            <input type=\"hidden\" data-csrf=\"true\" value=\"vpWoCI7g1yYvFGGwHUIeoKGuLrB49wY6ezIaw6ne2KmkinMf8CwV4mmh1BOC+emntl7ynl1uBnUnvlzqD52IIA==\" />\\n          </auto-check>\\n\\n          <dl class=\"form-group col-12 col-sm-8 col-lg-3 mx-auto mt-0 mx-lg-0 mb-3 mb-lg-0 px-3\">\\n            <dt class=\"input-label\">\\n              <label class=\"form-label text-white f5\" for=\"user[password]-footer\">Password</label>\\n            </dt>\\n            <dd>\\n              <input type=\"password\" name=\"user[password]\" id=\"user[password]-footer\" class=\"form-control form-control-lg input-block input-lg\" placeholder=\"Create a password\" autocomplete=\"new-password\">\\n            </dd>\\n          </dl>\\n\\n          <input type=\"hidden\" name=\"source\" class=\"js-signup-source\" value=\"form-home\">\\n          <input class=\"form-control\" type=\"text\" name=\"required_field_ea31\" hidden=\"hidden\" />\\n<input class=\"form-control\" type=\"hidden\" name=\"timestamp\" value=\"1584777345118\" />\\n<input class=\"form-control\" type=\"hidden\" name=\"timestamp_secret\" value=\"b27cb6702a001ae7d7405d8292d0df80a7473d030401bf491bde3cc7ee100233\" />\\n\\n          <div class=\"col-12 col-sm-8 col-lg-3 mx-auto mx-lg-0 mb-3 mb-lg-0 px-3 mt-4\">\\n            <button class=\"btn-mktg btn-primary-mktg btn-block mt-n1\" type=\"submit\" data-ga-click=\"Signup, Attempt, location:teams;\">Sign up for GitHub</button>\\n          </div>\\n        </div>\\n\\n        <p class=\"form-control-note text-center mt-6\">\\n          By clicking &ldquo;Sign up for GitHub&rdquo;, you agree to our\\n          <a class=\"text-white\" href=\"https://help.github.com/terms\" target=\"_blank\">terms of service</a> and\\n          <a class=\"text-white\" href=\"https://help.github.com/privacy\" target=\"_blank\">privacy statement</a>. <span class=\"js-email-notice\">We’ll occasionally send you account related emails.</span>\\n        </p>\\n</form>    </div>\\n  </div>\\n\\n</main>\\n\\n  </div>\\n\\n          <footer class=\"footer mt-6\">\\n  <div class=\"container-xl p-responsive\">\\n    <div class=\"d-flex flex-wrap py-5 mb-5\">\\n      <div class=\"col-12 col-lg-4 mb-5\">\\n        <a href=\"/\" data-ga-click=\"Footer, go to home, text:home\" class=\"text-gray-dark\" aria-label=\"Go to GitHub homepage\">\\n          <svg height=\"30\" class=\"octicon octicon-logo-github\" viewBox=\"0 0 45 16\" version=\"1.1\" width=\"84\" aria-hidden=\"true\"><path fill-rule=\"evenodd\" d=\"M18.53 12.03h-.02c.009 0 .015.01.024.011h.006l-.01-.01zm.004.011c-.093.001-.327.05-.574.05-.78 0-1.05-.36-1.05-.83V8.13h1.59c.09 0 .16-.08.16-.19v-1.7c0-.09-.08-.17-.16-.17h-1.59V3.96c0-.08-.05-.13-.14-.13h-2.16c-.09 0-.14.05-.14.13v2.17s-1.09.27-1.16.28c-.08.02-.13.09-.13.17v1.36c0 .11.08.19.17.19h1.11v3.28c0 2.44 1.7 2.69 2.86 2.69.53 0 1.17-.17 1.27-.22.06-.02.09-.09.09-.16v-1.5a.177.177 0 00-.146-.18zM42.23 9.84c0-1.81-.73-2.05-1.5-1.97-.6.04-1.08.34-1.08.34v3.52s.49.34 1.22.36c1.03.03 1.36-.34 1.36-2.25zm2.43-.16c0 3.43-1.11 4.41-3.05 4.41-1.64 0-2.52-.83-2.52-.83s-.04.46-.09.52c-.03.06-.08.08-.14.08h-1.48c-.1 0-.19-.08-.19-.17l.02-11.11c0-.09.08-.17.17-.17h2.13c.09 0 .17.08.17.17v3.77s.82-.53 2.02-.53l-.01-.02c1.2 0 2.97.45 2.97 3.88zm-8.72-3.61h-2.1c-.11 0-.17.08-.17.19v5.44s-.55.39-1.3.39-.97-.34-.97-1.09V6.25c0-.09-.08-.17-.17-.17h-2.14c-.09 0-.17.08-.17.17v5.11c0 2.2 1.23 2.75 2.92 2.75 1.39 0 2.52-.77 2.52-.77s.05.39.08.45c.02.05.09.09.16.09h1.34c.11 0 .17-.08.17-.17l.02-7.47c0-.09-.08-.17-.19-.17zm-23.7-.01h-2.13c-.09 0-.17.09-.17.2v7.34c0 .2.13.27.3.27h1.92c.2 0 .25-.09.25-.27V6.23c0-.09-.08-.17-.17-.17zm-1.05-3.38c-.77 0-1.38.61-1.38 1.38 0 .77.61 1.38 1.38 1.38.75 0 1.36-.61 1.36-1.38 0-.77-.61-1.38-1.36-1.38zm16.49-.25h-2.11c-.09 0-.17.08-.17.17v4.09h-3.31V2.6c0-.09-.08-.17-.17-.17h-2.13c-.09 0-.17.08-.17.17v11.11c0 .09.09.17.17.17h2.13c.09 0 .17-.08.17-.17V8.96h3.31l-.02 4.75c0 .09.08.17.17.17h2.13c.09 0 .17-.08.17-.17V2.6c0-.09-.08-.17-.17-.17zM8.81 7.35v5.74c0 .04-.01.11-.06.13 0 0-1.25.89-3.31.89-2.49 0-5.44-.78-5.44-5.92S2.58 1.99 5.1 2c2.18 0 3.06.49 3.2.58.04.05.06.09.06.14L7.94 4.5c0 .09-.09.2-.2.17-.36-.11-.9-.33-2.17-.33-1.47 0-3.05.42-3.05 3.73s1.5 3.7 2.58 3.7c.92 0 1.25-.11 1.25-.11v-2.3H4.88c-.11 0-.19-.08-.19-.17V7.35c0-.09.08-.17.19-.17h3.74c.11 0 .19.08.19.17z\"/></svg>\\n        </a>\\n\\n\\n      </div>\\n      <div class=\"col-6 col-sm-3 col-lg-2 mb-6 mb-md-2 pr-3 pr-lg-0 pl-lg-4\">\\n        <h2 class=\"h5 mb-3 text-mono text-gray-light text-normal\">Product</h2>\\n        <ul class=\"list-style-none text-gray f5\">\\n          <li class=\"lh-condensed mb-3\"><a href=\"/features\" data-ga-click=\"Footer, go to features, text:features\" class=\"link-gray\">Features</a></li>\\n          <li class=\"lh-condensed mb-3\"><a href=\"/security\" data-ga-click=\"Footer, go to security, text:security\" class=\"link-gray\">Security</a></li>\\n          <li class=\"lh-condensed mb-3\"><a href=\"/enterprise\" data-ga-click=\"Footer, go to enterprise, text:enterprise\" class=\"link-gray\">Enterprise</a></li>\\n          <li class=\"lh-condensed mb-3\"><a href=\"/customer-stories\" data-ga-click=\"Footer, go to customer stories, text:customer stories\" class=\"link-gray\">Customer stories</a></li>\\n          <li class=\"lh-condensed mb-3\"><a href=\"/pricing\" data-ga-click=\"Footer, go to pricing, text:pricing\" class=\"link-gray\">Pricing</a></li>\\n          <li class=\"lh-condensed mb-3\"><a href=\"https://resources.github.com\" data-ga-click=\"Footer, go to resources, text:resources\" class=\"link-gray\">Resources</a></li>\\n        </ul>\\n      </div>\\n      <div class=\"col-6 col-sm-3 col-lg-2 mb-6 mb-md-2 pr-3 pr-md-0 pl-md-4\">\\n        <h2 class=\"h5 mb-3 text-mono text-gray-light text-normal\">Platform</h2>\\n        <ul class=\"list-style-none f5\">\\n          <li class=\"lh-condensed mb-3\"><a href=\"https://developer.github.com\" data-ga-click=\"Footer, go to api, text:api\" class=\"link-gray\">Developer API</a></li>\\n          <li class=\"lh-condensed mb-3\"><a href=\"http://partner.github.com/\" data-ga-click=\"Footer, go to partner, text:partner\" class=\"link-gray \">Partners</a></li>\\n          <li class=\"lh-condensed mb-3\"><a href=\"https://atom.io\" data-ga-click=\"Footer, go to atom, text:atom\" class=\"link-gray \">Atom</a></li>\\n          <li class=\"lh-condensed mb-3\"><a href=\"http://electronjs.org\" data-ga-click=\"Footer, go to electron, text:electron\" class=\"link-gray \">Electron</a></li>\\n          <li class=\"lh-condensed mb-3\"><a href=\"https://desktop.github.com/\" data-ga-click=\"Footer, go to desktop, text:desktop\" class=\"link-gray \">GitHub Desktop</a></li>\\n        </ul>\\n      </div>\\n      <div class=\"col-6 col-sm-3 col-lg-2 mb-6 mb-md-2 pr-3 pr-md-0 pl-md-4\">\\n        <h2 class=\"h5 mb-3 text-mono text-gray-light text-normal\">Support</h2>\\n        <ul class=\"list-style-none f5\">\\n          <li class=\"lh-condensed mb-3\"><a data-ga-click=\"Footer, go to help, text:help\" class=\"link-gray \" href=\"https://help.github.com\">Help</a></li>\\n          <li class=\"lh-condensed mb-3\"><a href=\"https://github.community\" data-ga-click=\"Footer, go to community, text:community\" class=\"link-gray \">Community Forum</a></li>\\n          <li class=\"lh-condensed mb-3\"><a href=\"https://services.github.com/\" data-ga-click=\"Footer, go to professional services, text:professional services\" class=\"link-gray \">Professional Services</a></li>\\n          <li class=\"lh-condensed mb-3\"><a href=\"https://lab.github.com/\" data-ga-click=\"Footer, go to learning lab, text:learning lab\" class=\"link-gray \">Learning Lab</a></li>\\n          <li class=\"lh-condensed mb-3\"><a href=\"https://githubstatus.com/\" data-ga-click=\"Footer, go to status, text:status\" class=\"link-gray \">Status</a></li>\\n          <li class=\"lh-condensed mb-3\"><a data-ga-click=\"Footer, go to contact, text:contact\" class=\"link-gray \" href=\"https://github.com/contact\">Contact GitHub</a></li>\\n        </ul>\\n      </div>\\n      <div class=\"col-6 col-sm-3 col-lg-2 mb-6 mb-md-2 pr-3 pr-md-0 pl-md-4\">\\n        <h2 class=\"h5 mb-3 text-mono text-gray-light text-normal\">Company</h2>\\n        <ul class=\"list-style-none f5\">\\n          <li class=\"lh-condensed mb-3\"><a data-ga-click=\"Footer, go to about, text:about\" class=\"link-gray \" href=\"https://github.com/about\">About</a></li>\\n          <li class=\"lh-condensed mb-3\"><a href=\"https://github.blog\" data-ga-click=\"Footer, go to blog, text:blog\" class=\"link-gray \">Blog</a></li>\\n          <li class=\"lh-condensed mb-3\"><a href=\"/about/careers\" data-ga-click=\"Footer, go to careers, text:careers\" class=\"link-gray\">Careers</a></li>\\n          <li class=\"lh-condensed mb-3\"><a href=\"/about/press\" data-ga-click=\"Footer, go to press, text:press\" class=\"link-gray\">Press</a></li>\\n          <li class=\"lh-condensed mb-3\"><a href=\"https://socialimpact.github.com/\" data-ga-click=\"Footer, go to social impact, text:social impact\" class=\"link-gray\">Social Impact</a></li>\\n          <li class=\"lh-condensed mb-3\"><a href=\"https://shop.github.com\" data-ga-click=\"Footer, go to shop, text:shop\" class=\"link-gray\">Shop</a></li>\\n        </ul>\\n      </div>\\n    </div>\\n  </div>\\n  <div class=\"bg-gray-light\">\\n    <div class=\"container-xl p-responsive f6 py-4 d-sm-flex flex-justify-between flex-row-reverse flex-items-center\">\\n      <ul class=\"list-style-none d-flex flex-items-center mb-3 mb-sm-0 lh-condensed-ultra\">\\n        <li class=\"mr-3\"><a href=\"https://twitter.com/github\" data-ga-click=\"Footer, go to Twitter, text:twitter\" title=\"GitHub on Twitter\" style=\"color: #959da5;\"><svg xmlns=\"http://www.w3.org/2000/svg\" viewBox=\"0 0 273.5 222.3\" class=\"d-block\" height=\"18\"><path d=\"M273.5 26.3a109.77 109.77 0 0 1-32.2 8.8 56.07 56.07 0 0 0 24.7-31 113.39 113.39 0 0 1-35.7 13.6 56.1 56.1 0 0 0-97 38.4 54 54 0 0 0 1.5 12.8A159.68 159.68 0 0 1 19.1 10.3a56.12 56.12 0 0 0 17.4 74.9 56.06 56.06 0 0 1-25.4-7v.7a56.11 56.11 0 0 0 45 55 55.65 55.65 0 0 1-14.8 2 62.39 62.39 0 0 1-10.6-1 56.24 56.24 0 0 0 52.4 39 112.87 112.87 0 0 1-69.7 24 119 119 0 0 1-13.4-.8 158.83 158.83 0 0 0 86 25.2c103.2 0 159.6-85.5 159.6-159.6 0-2.4-.1-4.9-.2-7.3a114.25 114.25 0 0 0 28.1-29.1\" fill=\"currentColor\"></path></svg>\\n</a></li>\\n        <li class=\"mr-3\"><a href=\"https://www.facebook.com/GitHub\" data-ga-click=\"Footer, go to Facebook, text:facebook\" title=\"GitHub on Facebook\" style=\"color: #959da5;\"><svg xmlns=\"http://www.w3.org/2000/svg\" viewBox=\"0 0 15.3 15.4\" class=\"d-block\" height=\"18\"><path d=\"M14.5 0H.8a.88.88 0 0 0-.8.9v13.6a.88.88 0 0 0 .8.9h7.3v-6h-2V7.1h2V5.4a2.87 2.87 0 0 1 2.5-3.1h.5a10.87 10.87 0 0 1 1.8.1v2.1h-1.3c-1 0-1.1.5-1.1 1.1v1.5h2.3l-.3 2.3h-2v5.9h3.9a.88.88 0 0 0 .9-.8V.8a.86.86 0 0 0-.8-.8z\" fill=\"currentColor\"></path></svg>\\n</a></li>\\n        <li class=\"mr-3\"><a href=\"https://www.youtube.com/github\" data-ga-click=\"Footer, go to YouTube, text:youtube\" title=\"GitHub on YouTube\" style=\"color: #959da5;\"><svg xmlns=\"http://www.w3.org/2000/svg\" viewBox=\"0 0 19.17 13.6\" class=\"d-block\" height=\"16\"><path d=\"M18.77 2.13A2.4 2.4 0 0 0 17.09.42C15.59 0 9.58 0 9.58 0a57.55 57.55 0 0 0-7.5.4A2.49 2.49 0 0 0 .39 2.13 26.27 26.27 0 0 0 0 6.8a26.15 26.15 0 0 0 .39 4.67 2.43 2.43 0 0 0 1.69 1.71c1.52.42 7.5.42 7.5.42a57.69 57.69 0 0 0 7.51-.4 2.4 2.4 0 0 0 1.68-1.71 25.63 25.63 0 0 0 .4-4.67 24 24 0 0 0-.4-4.69zM7.67 9.71V3.89l5 2.91z\" fill=\"currentColor\"></path></svg>\\n</a></li>\\n        <li class=\"mr-3 flex-self-start\"><a href=\"https://www.linkedin.com/company/github\" data-ga-click=\"Footer, go to Linkedin, text:linkedin\" title=\"GitHub on Linkedin\" style=\"color: #959da5;\"><svg xmlns=\"http://www.w3.org/2000/svg\" viewBox=\"0 0 19 18\" class=\"d-block\" height=\"18\"><path d=\"M3.94 2A2 2 0 1 1 2 0a2 2 0 0 1 1.94 2zM4 5.48H0V18h4zm6.32 0H6.34V18h3.94v-6.57c0-3.66 4.77-4 4.77 0V18H19v-7.93c0-6.17-7.06-5.94-8.72-2.91z\" fill=\"currentColor\"></path></svg>\\n</a></li>\\n        <li><a href=\"https://github.com/github\" data-ga-click=\"Footer, go to github\\'s org, text:github\" title=\"GitHub\\'s organization\" style=\"color: #959da5;\"><svg height=\"20\" class=\"octicon octicon-mark-github d-block\" alt=\"GitHub\" viewBox=\"0 0 16 16\" version=\"1.1\" width=\"20\" aria-hidden=\"true\"><path fill-rule=\"evenodd\" d=\"M8 0C3.58 0 0 3.58 0 8c0 3.54 2.29 6.53 5.47 7.59.4.07.55-.17.55-.38 0-.19-.01-.82-.01-1.49-2.01.37-2.53-.49-2.69-.94-.09-.23-.48-.94-.82-1.13-.28-.15-.68-.52-.01-.53.63-.01 1.08.58 1.23.82.72 1.21 1.87.87 2.33.66.07-.52.28-.87.51-1.07-1.78-.2-3.64-.89-3.64-3.95 0-.87.31-1.59.82-2.15-.08-.2-.36-1.02.08-2.12 0 0 .67-.21 2.2.82.64-.18 1.32-.27 2-.27.68 0 1.36.09 2 .27 1.53-1.04 2.2-.82 2.2-.82.44 1.1.16 1.92.08 2.12.51.56.82 1.27.82 2.15 0 3.07-1.87 3.75-3.65 3.95.29.25.54.73.54 1.48 0 1.07-.01 1.93-.01 2.2 0 .21.15.46.55.38A8.013 8.013 0 0016 8c0-4.42-3.58-8-8-8z\"/></svg></a></li>\\n      </ul>\\n      <ul class=\"list-style-none d-flex text-gray\">\\n        <li class=\"mr-3\">&copy; 2020 GitHub, Inc.</li>\\n        <li class=\"mr-3\"><a href=\"/site/terms\" data-ga-click=\"Footer, go to terms, text:terms\" class=\"link-gray\">Terms</a></li>\\n        <li><a href=\"/site/privacy\" data-ga-click=\"Footer, go to privacy, text:privacy\" class=\"link-gray\">Privacy</a></li>\\n      </ul>\\n    </div>\\n  </div>\\n</footer>\\n\\n\\n\\n\\n  <div id=\"ajax-error-message\" class=\"ajax-error-message flash flash-error\">\\n    <svg class=\"octicon octicon-alert\" viewBox=\"0 0 16 16\" version=\"1.1\" width=\"16\" height=\"16\" aria-hidden=\"true\"><path fill-rule=\"evenodd\" d=\"M8.893 1.5c-.183-.31-.52-.5-.887-.5s-.703.19-.886.5L.138 13.499a.98.98 0 000 1.001c.193.31.53.501.886.501h13.964c.367 0 .704-.19.877-.5a1.03 1.03 0 00.01-1.002L8.893 1.5zm.133 11.497H6.987v-2.003h2.039v2.003zm0-3.004H6.987V5.987h2.039v4.006z\"/></svg>\\n    <button type=\"button\" class=\"flash-close js-ajax-error-dismiss\" aria-label=\"Dismiss error\">\\n      <svg class=\"octicon octicon-x\" viewBox=\"0 0 12 16\" version=\"1.1\" width=\"12\" height=\"16\" aria-hidden=\"true\"><path fill-rule=\"evenodd\" d=\"M7.48 8l3.75 3.75-1.48 1.48L6 9.48l-3.75 3.75-1.48-1.48L4.52 8 .77 4.25l1.48-1.48L6 6.52l3.75-3.75 1.48 1.48L7.48 8z\"/></svg>\\n    </button>\\n    You can’t perform that action at this time.\\n  </div>\\n\\n\\n    <script crossorigin=\"anonymous\" async=\"async\" integrity=\"sha512-o4vS4IKrjdy/HD+xr2+VhO6DxQmj5jikhHbEGrd8+JGhpmIOxRrpT1Qo5k3IhKimm8VXIu3pyYejLtOAkm+OsQ==\" type=\"application/javascript\" id=\"js-conditional-compat\" data-src=\"https://github.githubassets.com/assets/compat-bootstrap-a38bd2e0.js\"></script>\\n    <script crossorigin=\"anonymous\" integrity=\"sha512-6XqOrpzsRfeWz1MuH9q2GuzW4Ktvt+kA5KbChOp1ZjaoGbRl3tBng8HiA5B/lClMvkkj4h+vVuSwLeh14JzGuA==\" type=\"application/javascript\" src=\"https://github.githubassets.com/assets/environment-bootstrap-e97a8eae.js\"></script>\\n    <script crossorigin=\"anonymous\" async=\"async\" integrity=\"sha512-1/6VVx6z9r6uphSoGlmYgbqD5KaY+GVMt1Gqa3DIa0U+3Pv2SWu8Fk1BZ2xPne5upvF8HdEWcGeiUjd2URl+oA==\" type=\"application/javascript\" src=\"https://github.githubassets.com/assets/vendor-d7fe9557.js\"></script>\\n    <script crossorigin=\"anonymous\" async=\"async\" integrity=\"sha512-RDggGUYWJq0pjfr/60y4ITVdK0zFDicDs0h46xLtUfsgDq6L6OWInB0F66615pE295U74v8ykPH/qsoL3U38ng==\" type=\"application/javascript\" src=\"https://github.githubassets.com/assets/frameworks-44382019.js\"></script>\\n    \\n    <script crossorigin=\"anonymous\" async=\"async\" integrity=\"sha512-aIrRO9Sji3VKn3Usk8M8E+xiMDESpBJZj3BSwvg2Y9GHNyL/g57gL5srCoN6u5+WgvUBkHyFtthyr+IzaQVXWQ==\" type=\"application/javascript\" src=\"https://github.githubassets.com/assets/github-bootstrap-688ad13b.js\"></script>\\n    \\n      <script crossorigin=\"anonymous\" async=\"async\" integrity=\"sha512-3AYOrkclgq82sF9hX1HulNeOlollJAq5dI+qMS71e1N0GHCLUjcCH7AoDK6u0Z/gHXTPLMR0kt4qmGSzoSBwXw==\" type=\"application/javascript\" src=\"https://github.githubassets.com/assets/unsupported-bootstrap-dc060eae.js\"></script>\\n\\n    \\n  <div class=\"js-stale-session-flash flash flash-warn flash-banner\" hidden\\n    >\\n    <svg class=\"octicon octicon-alert\" viewBox=\"0 0 16 16\" version=\"1.1\" width=\"16\" height=\"16\" aria-hidden=\"true\"><path fill-rule=\"evenodd\" d=\"M8.893 1.5c-.183-.31-.52-.5-.887-.5s-.703.19-.886.5L.138 13.499a.98.98 0 000 1.001c.193.31.53.501.886.501h13.964c.367 0 .704-.19.877-.5a1.03 1.03 0 00.01-1.002L8.893 1.5zm.133 11.497H6.987v-2.003h2.039v2.003zm0-3.004H6.987V5.987h2.039v4.006z\"/></svg>\\n    <span class=\"js-stale-session-flash-signed-in\" hidden>You signed in with another tab or window. <a href=\"\">Reload</a> to refresh your session.</span>\\n    <span class=\"js-stale-session-flash-signed-out\" hidden>You signed out in another tab or window. <a href=\"\">Reload</a> to refresh your session.</span>\\n  </div>\\n  <template id=\"site-details-dialog\">\\n  <details class=\"details-reset details-overlay details-overlay-dark lh-default text-gray-dark hx_rsm\" open>\\n    <summary role=\"button\" aria-label=\"Close dialog\"></summary>\\n    <details-dialog class=\"Box Box--overlay d-flex flex-column anim-fade-in fast hx_rsm-dialog hx_rsm-modal\">\\n      <button class=\"Box-btn-octicon m-0 btn-octicon position-absolute right-0 top-0\" type=\"button\" aria-label=\"Close dialog\" data-close-dialog>\\n        <svg class=\"octicon octicon-x\" viewBox=\"0 0 12 16\" version=\"1.1\" width=\"12\" height=\"16\" aria-hidden=\"true\"><path fill-rule=\"evenodd\" d=\"M7.48 8l3.75 3.75-1.48 1.48L6 9.48l-3.75 3.75-1.48-1.48L4.52 8 .77 4.25l1.48-1.48L6 6.52l3.75-3.75 1.48 1.48L7.48 8z\"/></svg>\\n      </button>\\n      <div class=\"octocat-spinner my-6 js-details-dialog-spinner\"></div>\\n    </details-dialog>\\n  </details>\\n</template>\\n\\n  <div class=\"Popover js-hovercard-content position-absolute\" style=\"display: none; outline: none;\" tabindex=\"0\">\\n  <div class=\"Popover-message Popover-message--bottom-left Popover-message--large Box box-shadow-large\" style=\"width:360px;\">\\n  </div>\\n</div>\\n\\n  <div aria-live=\"polite\" class=\"js-global-screen-reader-notice sr-only\"></div>\\n\\n  </body>\\n</html>\\n\\n'"
            ]
          },
          "metadata": {
            "tags": []
          },
          "execution_count": 11
        }
      ]
    },
    {
      "cell_type": "code",
      "metadata": {
        "id": "ajjP4AHiFzLr",
        "colab_type": "code",
        "outputId": "67e5c1ec-9e4d-478b-cab2-49616b5692df",
        "colab": {
          "base_uri": "https://localhost:8080/",
          "height": 54
        }
      },
      "source": [
        "response.headers"
      ],
      "execution_count": 0,
      "outputs": [
        {
          "output_type": "execute_result",
          "data": {
            "text/plain": [
              "{'server': 'GitHub.com', 'date': 'Sat, 21 Mar 2020 07:55:39 GMT', 'content-type': 'text/html; charset=utf-8', 'status': '200 OK', 'vary': 'X-PJAX, Accept-Encoding, Accept, X-Requested-With', 'etag': 'W/\"48c9ac0567510498053a59b0b0913121\"', 'cache-control': 'max-age=0, private, must-revalidate', 'strict-transport-security': 'max-age=31536000; includeSubdomains; preload', 'x-frame-options': 'deny', 'x-content-type-options': 'nosniff', 'x-xss-protection': '1; mode=block', 'referrer-policy': 'origin-when-cross-origin, strict-origin-when-cross-origin', 'expect-ct': 'max-age=2592000, report-uri=\"https://api.github.com/_private/browser/errors\"', 'content-security-policy': \"default-src 'none'; base-uri 'self'; block-all-mixed-content; connect-src 'self' uploads.github.com www.githubstatus.com collector.githubapp.com api.github.com www.google-analytics.com github-cloud.s3.amazonaws.com github-production-repository-file-5c1aeb.s3.amazonaws.com github-production-upload-manifest-file-7fdce7.s3.amazonaws.com github-production-user-asset-6210df.s3.amazonaws.com wss://live.github.com; font-src github.githubassets.com; form-action 'self' github.com gist.github.com; frame-ancestors 'none'; frame-src render.githubusercontent.com; img-src 'self' data: github.githubassets.com identicons.github.com collector.githubapp.com github-cloud.s3.amazonaws.com *.githubusercontent.com customer-stories-feed.github.com spotlights-feed.github.com; manifest-src 'self'; media-src 'none'; script-src github.githubassets.com; style-src 'unsafe-inline' github.githubassets.com\", 'Content-Encoding': 'gzip', 'Age': '5', 'Set-Cookie': '_gh_sess=jFB65e%2BSRc%2FpebFDvD3CyBrHyQkoqE0k9JywZX7Ov7I6rEmoeOa%2FMyizrK8M%2FxWzKoMbHNB4jqdEysFj6s6ldsV%2BfCDjRQmItFg3PpcXNJ%2BzxSQfZ9uSEDwdkuQM7tkkkVE%2BcEYRnaQ2Fkre0hC%2BZ3KCjwMaHjaQxRzZHIheaR2HJVOHpaaS29M%2FUZy64UjJyuI7hQxvzPR%2BdvOQ%2BHWF%2FAbYjlBom1BhLP%2FlZHecSJfT4HRhIGlarGljenZa1uuJ%2FNA%2FqdMNBvs8hP2CWsnZUA%3D%3D--C2J3whJXvaHuMqtU--1lQKa6pHkfhmoE64OureAw%3D%3D; Path=/; HttpOnly; Secure, _octo=GH1.1.1723103603.1584777345; Path=/; Domain=github.com; Expires=Sun, 21 Mar 2021 07:55:45 GMT; Secure, logged_in=no; Path=/; Domain=github.com; Expires=Sun, 21 Mar 2021 07:55:45 GMT; HttpOnly; Secure', 'Accept-Ranges': 'bytes', 'Transfer-Encoding': 'chunked', 'X-GitHub-Request-Id': 'E690:6450:9DA1FE:E9BB88:5E75C881'}"
            ]
          },
          "metadata": {
            "tags": []
          },
          "execution_count": 13
        }
      ]
    },
    {
      "cell_type": "code",
      "metadata": {
        "id": "6-RjgGtpFMW6",
        "colab_type": "code",
        "outputId": "0502f6cb-72ce-4ed4-905c-a1b1965d7bb7",
        "colab": {
          "base_uri": "https://localhost:8080/",
          "height": 71
        }
      },
      "source": [
        "import requests\n",
        "from requests.exceptions import HTTPError\n",
        "\n",
        "for url in ['https://api.github.com', 'https://api.github.com/invalid']:\n",
        "    try:\n",
        "        response = requests.get(url)\n",
        "\n",
        "        # If the response was successful, no Exception will be raised\n",
        "        response.raise_for_status()\n",
        "    except HTTPError as http_err:\n",
        "        print(f'HTTP error occurred: {http_err}')  # Python 3.6\n",
        "    except Exception as err:\n",
        "        print(f'Other error occurred: {err}')  # Python 3.6\n",
        "    else:\n",
        "        print('Success!')"
      ],
      "execution_count": 0,
      "outputs": [
        {
          "output_type": "stream",
          "text": [
            "Success!\n",
            "HTTP error occurred: 404 Client Error: Not Found for url: https://api.github.com/invalid\n"
          ],
          "name": "stdout"
        }
      ]
    },
    {
      "cell_type": "code",
      "metadata": {
        "id": "LlK75MikFx3f",
        "colab_type": "code",
        "outputId": "f870b6af-7dfd-46bd-bcb7-3e48272a961a",
        "colab": {
          "base_uri": "https://localhost:8080/",
          "height": 51
        }
      },
      "source": [
        "import requests\n",
        "\n",
        "# Search GitHub's repositories for requests\n",
        "response = requests.get(\n",
        "    'https://api.github.com/search/repositories',\n",
        "    params={'q': 'requests+language:python'},\n",
        ")\n",
        "\n",
        "# Inspect some attributes of the `requests` repository\n",
        "json_response = response.json()\n",
        "repository = json_response['items'][0]\n",
        "print(f'Repository name: {repository[\"name\"]}')  # Python 3.6+\n",
        "print(f'Repository description: {repository[\"description\"]}')  # Python 3.6+"
      ],
      "execution_count": 0,
      "outputs": [
        {
          "output_type": "stream",
          "text": [
            "Repository name: grequests\n",
            "Repository description: Requests + Gevent = <3\n"
          ],
          "name": "stdout"
        }
      ]
    },
    {
      "cell_type": "code",
      "metadata": {
        "id": "8gMHbFseFSjB",
        "colab_type": "code",
        "colab": {}
      },
      "source": [
        "import django"
      ],
      "execution_count": 0,
      "outputs": []
    },
    {
      "cell_type": "code",
      "metadata": {
        "id": "PHmb2-RvK0Cx",
        "colab_type": "code",
        "colab": {}
      },
      "source": [
        "!django-admin startproject DataFlair_NewsAggregator"
      ],
      "execution_count": 0,
      "outputs": []
    },
    {
      "cell_type": "code",
      "metadata": {
        "id": "Xy0Fan_5OPj-",
        "colab_type": "code",
        "outputId": "74175614-ef0b-4f44-e7e6-77dc1564d166",
        "colab": {
          "base_uri": "https://localhost:8080/",
          "height": 445
        }
      },
      "source": [
        "!pip install astroid"
      ],
      "execution_count": 0,
      "outputs": [
        {
          "output_type": "stream",
          "text": [
            "Collecting astroid\n",
            "\u001b[?25l  Downloading https://files.pythonhosted.org/packages/ad/ae/86734823047962e7b8c8529186a1ac4a7ca19aaf1aa0c7713c022ef593fd/astroid-2.3.3-py3-none-any.whl (205kB)\n",
            "\r\u001b[K     |█▋                              | 10kB 19.5MB/s eta 0:00:01\r\u001b[K     |███▏                            | 20kB 3.1MB/s eta 0:00:01\r\u001b[K     |████▉                           | 30kB 4.5MB/s eta 0:00:01\r\u001b[K     |██████▍                         | 40kB 2.9MB/s eta 0:00:01\r\u001b[K     |████████                        | 51kB 3.6MB/s eta 0:00:01\r\u001b[K     |█████████▋                      | 61kB 4.3MB/s eta 0:00:01\r\u001b[K     |███████████▏                    | 71kB 4.9MB/s eta 0:00:01\r\u001b[K     |████████████▊                   | 81kB 5.6MB/s eta 0:00:01\r\u001b[K     |██████████████▍                 | 92kB 6.2MB/s eta 0:00:01\r\u001b[K     |████████████████                | 102kB 4.8MB/s eta 0:00:01\r\u001b[K     |█████████████████▌              | 112kB 4.8MB/s eta 0:00:01\r\u001b[K     |███████████████████▏            | 122kB 4.8MB/s eta 0:00:01\r\u001b[K     |████████████████████▊           | 133kB 4.8MB/s eta 0:00:01\r\u001b[K     |██████████████████████▎         | 143kB 4.8MB/s eta 0:00:01\r\u001b[K     |████████████████████████        | 153kB 4.8MB/s eta 0:00:01\r\u001b[K     |█████████████████████████▌      | 163kB 4.8MB/s eta 0:00:01\r\u001b[K     |███████████████████████████     | 174kB 4.8MB/s eta 0:00:01\r\u001b[K     |████████████████████████████▊   | 184kB 4.8MB/s eta 0:00:01\r\u001b[K     |██████████████████████████████▎ | 194kB 4.8MB/s eta 0:00:01\r\u001b[K     |███████████████████████████████▉| 204kB 4.8MB/s eta 0:00:01\r\u001b[K     |████████████████████████████████| 215kB 4.8MB/s \n",
            "\u001b[?25hRequirement already satisfied: six~=1.12 in /usr/local/lib/python3.6/dist-packages (from astroid) (1.12.0)\n",
            "Collecting wrapt==1.11.*\n",
            "  Downloading https://files.pythonhosted.org/packages/23/84/323c2415280bc4fc880ac5050dddfb3c8062c2552b34c2e512eb4aa68f79/wrapt-1.11.2.tar.gz\n",
            "Collecting lazy-object-proxy==1.4.*\n",
            "\u001b[?25l  Downloading https://files.pythonhosted.org/packages/0b/dd/b1e3407e9e6913cf178e506cd0dee818e58694d9a5cd1984e3f6a8b9a10f/lazy_object_proxy-1.4.3-cp36-cp36m-manylinux1_x86_64.whl (55kB)\n",
            "\u001b[K     |████████████████████████████████| 61kB 8.2MB/s \n",
            "\u001b[?25hCollecting typed-ast<1.5,>=1.4.0; implementation_name == \"cpython\" and python_version < \"3.8\"\n",
            "\u001b[?25l  Downloading https://files.pythonhosted.org/packages/90/ed/5459080d95eb87a02fe860d447197be63b6e2b5e9ff73c2b0a85622994f4/typed_ast-1.4.1-cp36-cp36m-manylinux1_x86_64.whl (737kB)\n",
            "\u001b[K     |████████████████████████████████| 747kB 57.0MB/s \n",
            "\u001b[?25hBuilding wheels for collected packages: wrapt\n",
            "  Building wheel for wrapt (setup.py) ... \u001b[?25l\u001b[?25hdone\n",
            "  Created wheel for wrapt: filename=wrapt-1.11.2-cp36-cp36m-linux_x86_64.whl size=67521 sha256=6bff183bacd9e072dc67c8a6146867ff591ab046940cd1508013965b973899bd\n",
            "  Stored in directory: /root/.cache/pip/wheels/d7/de/2e/efa132238792efb6459a96e85916ef8597fcb3d2ae51590dfd\n",
            "Successfully built wrapt\n",
            "\u001b[31mERROR: tensorflow-federated 0.12.0 has requirement tensorflow~=2.1.0, but you'll have tensorflow 1.15.0 which is incompatible.\u001b[0m\n",
            "\u001b[31mERROR: tensorflow-federated 0.12.0 has requirement tensorflow-addons~=0.7.0, but you'll have tensorflow-addons 0.8.3 which is incompatible.\u001b[0m\n",
            "Installing collected packages: wrapt, lazy-object-proxy, typed-ast, astroid\n",
            "  Found existing installation: wrapt 1.12.1\n",
            "    Uninstalling wrapt-1.12.1:\n",
            "      Successfully uninstalled wrapt-1.12.1\n",
            "Successfully installed astroid-2.3.3 lazy-object-proxy-1.4.3 typed-ast-1.4.1 wrapt-1.11.2\n"
          ],
          "name": "stdout"
        }
      ]
    },
    {
      "cell_type": "code",
      "metadata": {
        "id": "KQMhngHZOj36",
        "colab_type": "code",
        "outputId": "9ecf82fb-7601-4c66-e6b9-85ea7744a638",
        "colab": {
          "base_uri": "https://localhost:8080/",
          "height": 34
        }
      },
      "source": [
        "!pip install certifi"
      ],
      "execution_count": 0,
      "outputs": [
        {
          "output_type": "stream",
          "text": [
            "Requirement already satisfied: certifi in /usr/local/lib/python3.6/dist-packages (2019.11.28)\n"
          ],
          "name": "stdout"
        }
      ]
    },
    {
      "cell_type": "code",
      "metadata": {
        "id": "Vm0bIWlaOrjY",
        "colab_type": "code",
        "outputId": "00ba7b42-5e14-483d-b33a-e405ff73c911",
        "colab": {
          "base_uri": "https://localhost:8080/",
          "height": 34
        }
      },
      "source": [
        "!pip install chardet"
      ],
      "execution_count": 0,
      "outputs": [
        {
          "output_type": "stream",
          "text": [
            "Requirement already satisfied: chardet in /usr/local/lib/python3.6/dist-packages (3.0.4)\n"
          ],
          "name": "stdout"
        }
      ]
    },
    {
      "cell_type": "code",
      "metadata": {
        "id": "Z1DMfT67LZnj",
        "colab_type": "code",
        "outputId": "efd05d55-a0a9-4854-ec5e-017808bf8375",
        "colab": {
          "base_uri": "https://localhost:8080/",
          "height": 340
        }
      },
      "source": [
        "!pip install dateutils"
      ],
      "execution_count": 0,
      "outputs": [
        {
          "output_type": "stream",
          "text": [
            "Collecting dateutils\n",
            "  Downloading https://files.pythonhosted.org/packages/9d/cd/50844be53eac7e0a4d3a8e4f22a64e90c65ad9fa7d06dc5de55503d4486c/dateutils-0.6.7.tar.gz\n",
            "Collecting argparse\n",
            "  Downloading https://files.pythonhosted.org/packages/f2/94/3af39d34be01a24a6e65433d19e107099374224905f1e0cc6bbe1fd22a2f/argparse-1.4.0-py2.py3-none-any.whl\n",
            "Requirement already satisfied: python-dateutil in /usr/local/lib/python3.6/dist-packages (from dateutils) (2.8.1)\n",
            "Requirement already satisfied: pytz in /usr/local/lib/python3.6/dist-packages (from dateutils) (2018.9)\n",
            "Requirement already satisfied: six>=1.5 in /usr/local/lib/python3.6/dist-packages (from python-dateutil->dateutils) (1.12.0)\n",
            "Building wheels for collected packages: dateutils\n",
            "  Building wheel for dateutils (setup.py) ... \u001b[?25l\u001b[?25hdone\n",
            "  Created wheel for dateutils: filename=dateutils-0.6.7-cp36-none-any.whl size=4676 sha256=fe65ef4de5ba584926bbf14c145f0a098bd44c9227c2268acd3f4acd8dd3c2ad\n",
            "  Stored in directory: /root/.cache/pip/wheels/cf/0f/3c/b584c30abfc848c576b3afcd214a78146de832ab3aa1d9f491\n",
            "Successfully built dateutils\n",
            "Installing collected packages: argparse, dateutils\n",
            "Successfully installed argparse-1.4.0 dateutils-0.6.7\n"
          ],
          "name": "stdout"
        },
        {
          "output_type": "display_data",
          "data": {
            "application/vnd.colab-display-data+json": {
              "pip_warning": {
                "packages": [
                  "argparse"
                ]
              }
            }
          },
          "metadata": {
            "tags": []
          }
        }
      ]
    },
    {
      "cell_type": "code",
      "metadata": {
        "id": "40A3Wrf_OwkF",
        "colab_type": "code",
        "outputId": "a642a7f5-234e-4cd7-b835-56286a81cf9b",
        "colab": {
          "base_uri": "https://localhost:8080/",
          "height": 187
        }
      },
      "source": [
        "!pip install feedparser"
      ],
      "execution_count": 0,
      "outputs": [
        {
          "output_type": "stream",
          "text": [
            "Collecting feedparser\n",
            "\u001b[?25l  Downloading https://files.pythonhosted.org/packages/91/d8/7d37fec71ff7c9dbcdd80d2b48bcdd86d6af502156fc93846fb0102cb2c4/feedparser-5.2.1.tar.bz2 (192kB)\n",
            "\r\u001b[K     |█▊                              | 10kB 20.5MB/s eta 0:00:01\r\u001b[K     |███▍                            | 20kB 1.8MB/s eta 0:00:01\r\u001b[K     |█████▏                          | 30kB 2.4MB/s eta 0:00:01\r\u001b[K     |██████▉                         | 40kB 1.7MB/s eta 0:00:01\r\u001b[K     |████████▌                       | 51kB 1.9MB/s eta 0:00:01\r\u001b[K     |██████████▎                     | 61kB 2.3MB/s eta 0:00:01\r\u001b[K     |████████████                    | 71kB 2.4MB/s eta 0:00:01\r\u001b[K     |█████████████▋                  | 81kB 2.6MB/s eta 0:00:01\r\u001b[K     |███████████████▍                | 92kB 2.9MB/s eta 0:00:01\r\u001b[K     |█████████████████               | 102kB 2.8MB/s eta 0:00:01\r\u001b[K     |██████████████████▊             | 112kB 2.8MB/s eta 0:00:01\r\u001b[K     |████████████████████▌           | 122kB 2.8MB/s eta 0:00:01\r\u001b[K     |██████████████████████▏         | 133kB 2.8MB/s eta 0:00:01\r\u001b[K     |███████████████████████▉        | 143kB 2.8MB/s eta 0:00:01\r\u001b[K     |█████████████████████████▋      | 153kB 2.8MB/s eta 0:00:01\r\u001b[K     |███████████████████████████▎    | 163kB 2.8MB/s eta 0:00:01\r\u001b[K     |█████████████████████████████   | 174kB 2.8MB/s eta 0:00:01\r\u001b[K     |██████████████████████████████▊ | 184kB 2.8MB/s eta 0:00:01\r\u001b[K     |████████████████████████████████| 194kB 2.8MB/s \n",
            "\u001b[?25hBuilding wheels for collected packages: feedparser\n",
            "  Building wheel for feedparser (setup.py) ... \u001b[?25l\u001b[?25hdone\n",
            "  Created wheel for feedparser: filename=feedparser-5.2.1-cp36-none-any.whl size=44940 sha256=560727928d9f9fdbff0599cecca9036a8499395a6d84b1f73814fb9f253ad0ea\n",
            "  Stored in directory: /root/.cache/pip/wheels/8c/69/b7/f52763c41c5471df57703a0ef718a32a5e81ee35dcf6d4f97f\n",
            "Successfully built feedparser\n",
            "Installing collected packages: feedparser\n",
            "Successfully installed feedparser-5.2.1\n"
          ],
          "name": "stdout"
        }
      ]
    },
    {
      "cell_type": "code",
      "metadata": {
        "id": "dUxUIwqbOKd_",
        "colab_type": "code",
        "outputId": "d88a84a7-d0f9-477d-a5f6-00ef0041aa81",
        "colab": {
          "base_uri": "https://localhost:8080/",
          "height": 34
        }
      },
      "source": [
        "!pip install idna"
      ],
      "execution_count": 0,
      "outputs": [
        {
          "output_type": "stream",
          "text": [
            "Requirement already satisfied: idna in /usr/local/lib/python3.6/dist-packages (2.8)\n"
          ],
          "name": "stdout"
        }
      ]
    },
    {
      "cell_type": "code",
      "metadata": {
        "id": "9t7V-Js8PEQk",
        "colab_type": "code",
        "outputId": "5f03f352-8ac4-4267-fa6d-f61665516a56",
        "colab": {
          "base_uri": "https://localhost:8080/",
          "height": 102
        }
      },
      "source": [
        " !pip install isort"
      ],
      "execution_count": 0,
      "outputs": [
        {
          "output_type": "stream",
          "text": [
            "Collecting isort\n",
            "\u001b[?25l  Downloading https://files.pythonhosted.org/packages/e5/b0/c121fd1fa3419ea9bfd55c7f9c4fedfec5143208d8c7ad3ce3db6c623c21/isort-4.3.21-py2.py3-none-any.whl (42kB)\n",
            "\r\u001b[K     |███████▊                        | 10kB 21.2MB/s eta 0:00:01\r\u001b[K     |███████████████▌                | 20kB 1.8MB/s eta 0:00:01\r\u001b[K     |███████████████████████▎        | 30kB 2.7MB/s eta 0:00:01\r\u001b[K     |███████████████████████████████ | 40kB 1.8MB/s eta 0:00:01\r\u001b[K     |████████████████████████████████| 51kB 1.8MB/s \n",
            "\u001b[?25hInstalling collected packages: isort\n",
            "Successfully installed isort-4.3.21\n"
          ],
          "name": "stdout"
        }
      ]
    },
    {
      "cell_type": "code",
      "metadata": {
        "id": "wXkO8OpePI3M",
        "colab_type": "code",
        "outputId": "6544d325-6eb2-448a-a2f8-687aa4830f7f",
        "colab": {
          "base_uri": "https://localhost:8080/",
          "height": 34
        }
      },
      "source": [
        "!pip install lazy-object-proxy"
      ],
      "execution_count": 0,
      "outputs": [
        {
          "output_type": "stream",
          "text": [
            "Requirement already satisfied: lazy-object-proxy in /usr/local/lib/python3.6/dist-packages (1.4.3)\n"
          ],
          "name": "stdout"
        }
      ]
    },
    {
      "cell_type": "code",
      "metadata": {
        "id": "tYh7JsLbPOmv",
        "colab_type": "code",
        "outputId": "8ae15596-24c6-4e7d-bd87-d77d49674206",
        "colab": {
          "base_uri": "https://localhost:8080/",
          "height": 85
        }
      },
      "source": [
        "!pip install mccabe"
      ],
      "execution_count": 0,
      "outputs": [
        {
          "output_type": "stream",
          "text": [
            "Collecting mccabe\n",
            "  Downloading https://files.pythonhosted.org/packages/87/89/479dc97e18549e21354893e4ee4ef36db1d237534982482c3681ee6e7b57/mccabe-0.6.1-py2.py3-none-any.whl\n",
            "Installing collected packages: mccabe\n",
            "Successfully installed mccabe-0.6.1\n"
          ],
          "name": "stdout"
        }
      ]
    },
    {
      "cell_type": "code",
      "metadata": {
        "id": "9vt8_OE-PRVp",
        "colab_type": "code",
        "outputId": "9dae16af-fa55-4da1-e432-6ec655914c2e",
        "colab": {
          "base_uri": "https://localhost:8080/",
          "height": 170
        }
      },
      "source": [
        "!pip install newsapi"
      ],
      "execution_count": 0,
      "outputs": [
        {
          "output_type": "stream",
          "text": [
            "Collecting newsapi\n",
            "  Downloading https://files.pythonhosted.org/packages/56/70/df0dd31067f03703d06f66b6c3f324915bd43bc8a597ee1a7eef27c9e622/newsapi-0.1.1-py2.py3-none-any.whl\n",
            "Requirement already satisfied: requests in /usr/local/lib/python3.6/dist-packages (from newsapi) (2.21.0)\n",
            "Requirement already satisfied: certifi>=2017.4.17 in /usr/local/lib/python3.6/dist-packages (from requests->newsapi) (2019.11.28)\n",
            "Requirement already satisfied: urllib3<1.25,>=1.21.1 in /usr/local/lib/python3.6/dist-packages (from requests->newsapi) (1.24.3)\n",
            "Requirement already satisfied: chardet<3.1.0,>=3.0.2 in /usr/local/lib/python3.6/dist-packages (from requests->newsapi) (3.0.4)\n",
            "Requirement already satisfied: idna<2.9,>=2.5 in /usr/local/lib/python3.6/dist-packages (from requests->newsapi) (2.8)\n",
            "Installing collected packages: newsapi\n",
            "Successfully installed newsapi-0.1.1\n"
          ],
          "name": "stdout"
        }
      ]
    },
    {
      "cell_type": "code",
      "metadata": {
        "id": "1cKWblVdPU7x",
        "colab_type": "code",
        "outputId": "117659a1-5a23-4fd6-98e4-7aa25e18fdd1",
        "colab": {
          "base_uri": "https://localhost:8080/",
          "height": 170
        }
      },
      "source": [
        "!pip install nsetools"
      ],
      "execution_count": 0,
      "outputs": [
        {
          "output_type": "stream",
          "text": [
            "Collecting nsetools\n",
            "  Downloading https://files.pythonhosted.org/packages/f5/b3/6aac4226a927d5f23f154c06de7c100361e9fa07e932cd76aaa8c45a2af4/nsetools-1.0.11-py3-none-any.whl\n",
            "Requirement already satisfied: dateutils in /usr/local/lib/python3.6/dist-packages (from nsetools) (0.6.7)\n",
            "Requirement already satisfied: six in /usr/local/lib/python3.6/dist-packages (from nsetools) (1.12.0)\n",
            "Requirement already satisfied: pytz in /usr/local/lib/python3.6/dist-packages (from dateutils->nsetools) (2018.9)\n",
            "Requirement already satisfied: python-dateutil in /usr/local/lib/python3.6/dist-packages (from dateutils->nsetools) (2.8.1)\n",
            "Requirement already satisfied: argparse in /usr/local/lib/python3.6/dist-packages (from dateutils->nsetools) (1.4.0)\n",
            "Installing collected packages: nsetools\n",
            "Successfully installed nsetools-1.0.11\n"
          ],
          "name": "stdout"
        }
      ]
    },
    {
      "cell_type": "code",
      "metadata": {
        "id": "-uVHzTAMPYTl",
        "colab_type": "code",
        "outputId": "c382d90e-97e4-4269-cc8b-c1dcb855758e",
        "colab": {
          "base_uri": "https://localhost:8080/",
          "height": 343
        }
      },
      "source": [
        "!pip install praw"
      ],
      "execution_count": 0,
      "outputs": [
        {
          "output_type": "stream",
          "text": [
            "Collecting praw\n",
            "\u001b[?25l  Downloading https://files.pythonhosted.org/packages/25/c0/b9714b4fb164368843b41482a3cac11938021871adf99bf5aaa3980b0182/praw-6.5.1-py3-none-any.whl (134kB)\n",
            "\r\u001b[K     |██▍                             | 10kB 22.4MB/s eta 0:00:01\r\u001b[K     |████▉                           | 20kB 1.8MB/s eta 0:00:01\r\u001b[K     |███████▎                        | 30kB 2.6MB/s eta 0:00:01\r\u001b[K     |█████████▊                      | 40kB 1.7MB/s eta 0:00:01\r\u001b[K     |████████████▏                   | 51kB 2.1MB/s eta 0:00:01\r\u001b[K     |██████████████▋                 | 61kB 2.5MB/s eta 0:00:01\r\u001b[K     |█████████████████               | 71kB 2.9MB/s eta 0:00:01\r\u001b[K     |███████████████████▌            | 81kB 3.3MB/s eta 0:00:01\r\u001b[K     |█████████████████████▉          | 92kB 3.7MB/s eta 0:00:01\r\u001b[K     |████████████████████████▎       | 102kB 2.8MB/s eta 0:00:01\r\u001b[K     |██████████████████████████▊     | 112kB 2.8MB/s eta 0:00:01\r\u001b[K     |█████████████████████████████▏  | 122kB 2.8MB/s eta 0:00:01\r\u001b[K     |███████████████████████████████▋| 133kB 2.8MB/s eta 0:00:01\r\u001b[K     |████████████████████████████████| 143kB 2.8MB/s \n",
            "\u001b[?25hCollecting prawcore<2.0,>=1.0.1\n",
            "  Downloading https://files.pythonhosted.org/packages/76/b5/ce6282dea45cba6f08a30e25d18e0f3d33277e2c9fcbda75644b8dc0089b/prawcore-1.0.1-py2.py3-none-any.whl\n",
            "Collecting update-checker>=0.16\n",
            "  Downloading https://files.pythonhosted.org/packages/17/c9/ab11855af164d03be0ff4fddd4c46a5bd44799a9ecc1770e01a669c21168/update_checker-0.16-py2.py3-none-any.whl\n",
            "Collecting websocket-client>=0.54.0\n",
            "\u001b[?25l  Downloading https://files.pythonhosted.org/packages/4c/5f/f61b420143ed1c8dc69f9eaec5ff1ac36109d52c80de49d66e0c36c3dfdf/websocket_client-0.57.0-py2.py3-none-any.whl (200kB)\n",
            "\u001b[K     |████████████████████████████████| 204kB 8.6MB/s \n",
            "\u001b[?25hRequirement already satisfied: requests<3.0,>=2.6.0 in /usr/local/lib/python3.6/dist-packages (from prawcore<2.0,>=1.0.1->praw) (2.21.0)\n",
            "Requirement already satisfied: six in /usr/local/lib/python3.6/dist-packages (from websocket-client>=0.54.0->praw) (1.12.0)\n",
            "Requirement already satisfied: chardet<3.1.0,>=3.0.2 in /usr/local/lib/python3.6/dist-packages (from requests<3.0,>=2.6.0->prawcore<2.0,>=1.0.1->praw) (3.0.4)\n",
            "Requirement already satisfied: urllib3<1.25,>=1.21.1 in /usr/local/lib/python3.6/dist-packages (from requests<3.0,>=2.6.0->prawcore<2.0,>=1.0.1->praw) (1.24.3)\n",
            "Requirement already satisfied: certifi>=2017.4.17 in /usr/local/lib/python3.6/dist-packages (from requests<3.0,>=2.6.0->prawcore<2.0,>=1.0.1->praw) (2019.11.28)\n",
            "Requirement already satisfied: idna<2.9,>=2.5 in /usr/local/lib/python3.6/dist-packages (from requests<3.0,>=2.6.0->prawcore<2.0,>=1.0.1->praw) (2.8)\n",
            "Installing collected packages: prawcore, update-checker, websocket-client, praw\n",
            "Successfully installed praw-6.5.1 prawcore-1.0.1 update-checker-0.16 websocket-client-0.57.0\n"
          ],
          "name": "stdout"
        }
      ]
    },
    {
      "cell_type": "code",
      "metadata": {
        "id": "bzkNaqk1Paa3",
        "colab_type": "code",
        "outputId": "9b50c5de-5a96-4683-d317-dfbe142b79ae",
        "colab": {
          "base_uri": "https://localhost:8080/",
          "height": 119
        }
      },
      "source": [
        "!pip install prawcore"
      ],
      "execution_count": 0,
      "outputs": [
        {
          "output_type": "stream",
          "text": [
            "Requirement already satisfied: prawcore in /usr/local/lib/python3.6/dist-packages (1.0.1)\n",
            "Requirement already satisfied: requests<3.0,>=2.6.0 in /usr/local/lib/python3.6/dist-packages (from prawcore) (2.21.0)\n",
            "Requirement already satisfied: urllib3<1.25,>=1.21.1 in /usr/local/lib/python3.6/dist-packages (from requests<3.0,>=2.6.0->prawcore) (1.24.3)\n",
            "Requirement already satisfied: certifi>=2017.4.17 in /usr/local/lib/python3.6/dist-packages (from requests<3.0,>=2.6.0->prawcore) (2019.11.28)\n",
            "Requirement already satisfied: chardet<3.1.0,>=3.0.2 in /usr/local/lib/python3.6/dist-packages (from requests<3.0,>=2.6.0->prawcore) (3.0.4)\n",
            "Requirement already satisfied: idna<2.9,>=2.5 in /usr/local/lib/python3.6/dist-packages (from requests<3.0,>=2.6.0->prawcore) (2.8)\n"
          ],
          "name": "stdout"
        }
      ]
    },
    {
      "cell_type": "code",
      "metadata": {
        "id": "G4AUecVjPev4",
        "colab_type": "code",
        "outputId": "8f6777f3-65a5-4b91-d153-13c8331839d3",
        "colab": {
          "base_uri": "https://localhost:8080/",
          "height": 241
        }
      },
      "source": [
        "!pip install pylint"
      ],
      "execution_count": 0,
      "outputs": [
        {
          "output_type": "stream",
          "text": [
            "Collecting pylint\n",
            "\u001b[?25l  Downloading https://files.pythonhosted.org/packages/e9/59/43fc36c5ee316bb9aeb7cf5329cdbdca89e5749c34d5602753827c0aa2dc/pylint-2.4.4-py3-none-any.whl (302kB)\n",
            "\r\u001b[K     |█                               | 10kB 21.3MB/s eta 0:00:01\r\u001b[K     |██▏                             | 20kB 1.7MB/s eta 0:00:01\r\u001b[K     |███▎                            | 30kB 2.6MB/s eta 0:00:01\r\u001b[K     |████▎                           | 40kB 1.7MB/s eta 0:00:01\r\u001b[K     |█████▍                          | 51kB 2.1MB/s eta 0:00:01\r\u001b[K     |██████▌                         | 61kB 2.5MB/s eta 0:00:01\r\u001b[K     |███████▋                        | 71kB 2.9MB/s eta 0:00:01\r\u001b[K     |████████▋                       | 81kB 3.3MB/s eta 0:00:01\r\u001b[K     |█████████▊                      | 92kB 3.7MB/s eta 0:00:01\r\u001b[K     |██████████▉                     | 102kB 2.8MB/s eta 0:00:01\r\u001b[K     |████████████                    | 112kB 2.8MB/s eta 0:00:01\r\u001b[K     |█████████████                   | 122kB 2.8MB/s eta 0:00:01\r\u001b[K     |██████████████                  | 133kB 2.8MB/s eta 0:00:01\r\u001b[K     |███████████████▏                | 143kB 2.8MB/s eta 0:00:01\r\u001b[K     |████████████████▎               | 153kB 2.8MB/s eta 0:00:01\r\u001b[K     |█████████████████▎              | 163kB 2.8MB/s eta 0:00:01\r\u001b[K     |██████████████████▍             | 174kB 2.8MB/s eta 0:00:01\r\u001b[K     |███████████████████▌            | 184kB 2.8MB/s eta 0:00:01\r\u001b[K     |████████████████████▌           | 194kB 2.8MB/s eta 0:00:01\r\u001b[K     |█████████████████████▋          | 204kB 2.8MB/s eta 0:00:01\r\u001b[K     |██████████████████████▊         | 215kB 2.8MB/s eta 0:00:01\r\u001b[K     |███████████████████████▉        | 225kB 2.8MB/s eta 0:00:01\r\u001b[K     |████████████████████████▉       | 235kB 2.8MB/s eta 0:00:01\r\u001b[K     |██████████████████████████      | 245kB 2.8MB/s eta 0:00:01\r\u001b[K     |███████████████████████████     | 256kB 2.8MB/s eta 0:00:01\r\u001b[K     |████████████████████████████▏   | 266kB 2.8MB/s eta 0:00:01\r\u001b[K     |█████████████████████████████▏  | 276kB 2.8MB/s eta 0:00:01\r\u001b[K     |██████████████████████████████▎ | 286kB 2.8MB/s eta 0:00:01\r\u001b[K     |███████████████████████████████▍| 296kB 2.8MB/s eta 0:00:01\r\u001b[K     |████████████████████████████████| 307kB 2.8MB/s \n",
            "\u001b[?25hRequirement already satisfied: mccabe<0.7,>=0.6 in /usr/local/lib/python3.6/dist-packages (from pylint) (0.6.1)\n",
            "Requirement already satisfied: astroid<2.4,>=2.3.0 in /usr/local/lib/python3.6/dist-packages (from pylint) (2.3.3)\n",
            "Requirement already satisfied: isort<5,>=4.2.5 in /usr/local/lib/python3.6/dist-packages (from pylint) (4.3.21)\n",
            "Requirement already satisfied: six~=1.12 in /usr/local/lib/python3.6/dist-packages (from astroid<2.4,>=2.3.0->pylint) (1.12.0)\n",
            "Requirement already satisfied: wrapt==1.11.* in /usr/local/lib/python3.6/dist-packages (from astroid<2.4,>=2.3.0->pylint) (1.11.2)\n",
            "Requirement already satisfied: lazy-object-proxy==1.4.* in /usr/local/lib/python3.6/dist-packages (from astroid<2.4,>=2.3.0->pylint) (1.4.3)\n",
            "Requirement already satisfied: typed-ast<1.5,>=1.4.0; implementation_name == \"cpython\" and python_version < \"3.8\" in /usr/local/lib/python3.6/dist-packages (from astroid<2.4,>=2.3.0->pylint) (1.4.1)\n",
            "Installing collected packages: pylint\n",
            "Successfully installed pylint-2.4.4\n"
          ],
          "name": "stdout"
        }
      ]
    },
    {
      "cell_type": "code",
      "metadata": {
        "id": "3hp2rzZCPhSM",
        "colab_type": "code",
        "outputId": "c82f946b-01c9-4bf6-84c7-4fe3cf15dc6f",
        "colab": {
          "base_uri": "https://localhost:8080/",
          "height": 51
        }
      },
      "source": [
        "!pip install python-dateutil"
      ],
      "execution_count": 0,
      "outputs": [
        {
          "output_type": "stream",
          "text": [
            "Requirement already satisfied: python-dateutil in /usr/local/lib/python3.6/dist-packages (2.8.1)\n",
            "Requirement already satisfied: six>=1.5 in /usr/local/lib/python3.6/dist-packages (from python-dateutil) (1.12.0)\n"
          ],
          "name": "stdout"
        }
      ]
    },
    {
      "cell_type": "code",
      "metadata": {
        "id": "4tVCLHolPlMH",
        "colab_type": "code",
        "outputId": "0071777d-295c-46e9-c088-9afcf41eb871",
        "colab": {
          "base_uri": "https://localhost:8080/",
          "height": 34
        }
      },
      "source": [
        "!pip install pytz"
      ],
      "execution_count": 0,
      "outputs": [
        {
          "output_type": "stream",
          "text": [
            "Requirement already satisfied: pytz in /usr/local/lib/python3.6/dist-packages (2018.9)\n"
          ],
          "name": "stdout"
        }
      ]
    },
    {
      "cell_type": "code",
      "metadata": {
        "id": "QfuLEMbXPneF",
        "colab_type": "code",
        "outputId": "e52d41c0-82fb-41c9-fe23-e165d58dcf3a",
        "colab": {
          "base_uri": "https://localhost:8080/",
          "height": 102
        }
      },
      "source": [
        "!pip install requests"
      ],
      "execution_count": 0,
      "outputs": [
        {
          "output_type": "stream",
          "text": [
            "Requirement already satisfied: requests in /usr/local/lib/python3.6/dist-packages (2.21.0)\n",
            "Requirement already satisfied: urllib3<1.25,>=1.21.1 in /usr/local/lib/python3.6/dist-packages (from requests) (1.24.3)\n",
            "Requirement already satisfied: certifi>=2017.4.17 in /usr/local/lib/python3.6/dist-packages (from requests) (2019.11.28)\n",
            "Requirement already satisfied: idna<2.9,>=2.5 in /usr/local/lib/python3.6/dist-packages (from requests) (2.8)\n",
            "Requirement already satisfied: chardet<3.1.0,>=3.0.2 in /usr/local/lib/python3.6/dist-packages (from requests) (3.0.4)\n"
          ],
          "name": "stdout"
        }
      ]
    },
    {
      "cell_type": "code",
      "metadata": {
        "id": "-6p26RV8PsvB",
        "colab_type": "code",
        "outputId": "9947840c-5dfc-418c-9f52-46666641ed18",
        "colab": {
          "base_uri": "https://localhost:8080/",
          "height": 34
        }
      },
      "source": [
        "!pip install six"
      ],
      "execution_count": 0,
      "outputs": [
        {
          "output_type": "stream",
          "text": [
            "Requirement already satisfied: six in /usr/local/lib/python3.6/dist-packages (1.12.0)\n"
          ],
          "name": "stdout"
        }
      ]
    },
    {
      "cell_type": "code",
      "metadata": {
        "id": "jtp-VLg_Pvp0",
        "colab_type": "code",
        "outputId": "d37f47cc-838c-4492-a590-d79e3ab6f349",
        "colab": {
          "base_uri": "https://localhost:8080/",
          "height": 34
        }
      },
      "source": [
        "!pip install typed-ast"
      ],
      "execution_count": 0,
      "outputs": [
        {
          "output_type": "stream",
          "text": [
            "Requirement already satisfied: typed-ast in /usr/local/lib/python3.6/dist-packages (1.4.1)\n"
          ],
          "name": "stdout"
        }
      ]
    },
    {
      "cell_type": "code",
      "metadata": {
        "id": "cmtXz0-5PzP4",
        "colab_type": "code",
        "outputId": "ab01a82f-b660-4cf4-94e0-38bca359b2b2",
        "colab": {
          "base_uri": "https://localhost:8080/",
          "height": 119
        }
      },
      "source": [
        "!pip install update-checker"
      ],
      "execution_count": 0,
      "outputs": [
        {
          "output_type": "stream",
          "text": [
            "Requirement already satisfied: update-checker in /usr/local/lib/python3.6/dist-packages (0.16)\n",
            "Requirement already satisfied: requests>=2.3.0 in /usr/local/lib/python3.6/dist-packages (from update-checker) (2.21.0)\n",
            "Requirement already satisfied: certifi>=2017.4.17 in /usr/local/lib/python3.6/dist-packages (from requests>=2.3.0->update-checker) (2019.11.28)\n",
            "Requirement already satisfied: chardet<3.1.0,>=3.0.2 in /usr/local/lib/python3.6/dist-packages (from requests>=2.3.0->update-checker) (3.0.4)\n",
            "Requirement already satisfied: urllib3<1.25,>=1.21.1 in /usr/local/lib/python3.6/dist-packages (from requests>=2.3.0->update-checker) (1.24.3)\n",
            "Requirement already satisfied: idna<2.9,>=2.5 in /usr/local/lib/python3.6/dist-packages (from requests>=2.3.0->update-checker) (2.8)\n"
          ],
          "name": "stdout"
        }
      ]
    },
    {
      "cell_type": "code",
      "metadata": {
        "id": "cfXi2VBXP4Sz",
        "colab_type": "code",
        "outputId": "fc8e783d-85f5-4c9d-bcda-8d9be2b3f961",
        "colab": {
          "base_uri": "https://localhost:8080/",
          "height": 34
        }
      },
      "source": [
        "!pip install urllib3"
      ],
      "execution_count": 0,
      "outputs": [
        {
          "output_type": "stream",
          "text": [
            "Requirement already satisfied: urllib3 in /usr/local/lib/python3.6/dist-packages (1.24.3)\n"
          ],
          "name": "stdout"
        }
      ]
    },
    {
      "cell_type": "code",
      "metadata": {
        "id": "zDcwONnBP8XJ",
        "colab_type": "code",
        "outputId": "66558dee-1d87-4441-972f-3e44acd6c366",
        "colab": {
          "base_uri": "https://localhost:8080/",
          "height": 51
        }
      },
      "source": [
        "!pip install websocket-client"
      ],
      "execution_count": 0,
      "outputs": [
        {
          "output_type": "stream",
          "text": [
            "Requirement already satisfied: websocket-client in /usr/local/lib/python3.6/dist-packages (0.57.0)\n",
            "Requirement already satisfied: six in /usr/local/lib/python3.6/dist-packages (from websocket-client) (1.12.0)\n"
          ],
          "name": "stdout"
        }
      ]
    },
    {
      "cell_type": "code",
      "metadata": {
        "id": "djrEyyytQACt",
        "colab_type": "code",
        "outputId": "23127c6f-c49f-4ee7-df75-2ad55c94ff37",
        "colab": {
          "base_uri": "https://localhost:8080/",
          "height": 34
        }
      },
      "source": [
        "!pip install wrapt"
      ],
      "execution_count": 0,
      "outputs": [
        {
          "output_type": "stream",
          "text": [
            "Requirement already satisfied: wrapt in /usr/local/lib/python3.6/dist-packages (1.11.2)\n"
          ],
          "name": "stdout"
        }
      ]
    },
    {
      "cell_type": "code",
      "metadata": {
        "id": "I_WkWAx2QC7u",
        "colab_type": "code",
        "outputId": "52fa5e31-0861-45cc-c87c-20f5ba2b9e2a",
        "colab": {
          "base_uri": "https://localhost:8080/",
          "height": 275
        }
      },
      "source": [
        "import urllib, os, requests, datetime, subprocess\n",
        "\n",
        "# reddit imports\n",
        "import praw, pprint\n",
        "\n",
        "# pip install feedparser\n",
        "import feedparser\n",
        "\n",
        "# stockexchange\n",
        "from nsetools import Nse\n",
        "\n",
        "# Place your CLIENT_ID & CLIENT_SECRET below\n",
        "reddit = praw.Reddit(client_id='XXXXXXX',\n",
        "                     client_secret='XXXXXXXXXXX',\n",
        "                     grant_type_access='client_credentials',\n",
        "                     user_agent='script/1.0')\n",
        "\n",
        "\n",
        "# class Reddit:\n",
        "#     def TopNews(self):\n",
        "#         # Add your favorite NEWS subreddits in the argument as many as you'd like.\n",
        "#         for submission in reddit.subreddit('News+WorldNews+UpliftingNews+').top(limit=10):\n",
        "#             top_news = reddit.domain(submission).top('month')\n",
        "#             print(top_news)\n",
        "\n",
        "\"\"\"\n",
        "Each class contains functions which further calls\n",
        "APIs from the neccesary packages and the rest is \n",
        "self explanatory I suppose\n",
        "\"\"\"\n",
        "\n",
        "class News:\n",
        "    def Indian_News(self):\n",
        "        newsfeed = feedparser.parse(\n",
        "            \"http://feeds.feedburner.com/ndtvnews-india-news\"\n",
        "        )\n",
        "        print(\"Today's News: \")\n",
        "        for i in range(0, 20):\n",
        "            entry = newsfeed.entries[i]\n",
        "            print(entry.title)\n",
        "            print(entry.summary)\n",
        "            print(\"------News Link--------\")\n",
        "            print(entry.link)\n",
        "            print(\"###########################################\")\n",
        "        print('-------------------------------------------------------------------------------------------------------')\n",
        "\n",
        "\n",
        "class Medium:\n",
        "    # https://github.com/thepracticaldev/dev.to/issues/28#issuecomment-325544385\n",
        "    def medium_programming(self):\n",
        "        feed = feedparser.parse(\n",
        "            \"https://medium.com/feed/tag/programming\"\n",
        "        )\n",
        "\n",
        "        print(\"Programming Today: \")\n",
        "        for i in range(10):\n",
        "            entry = feed.entries[i]\n",
        "            print(entry.title)\n",
        "            print(\"URL: \" + entry.link)\n",
        "            print(\"###########################################\")\n",
        "        print('-------------------------------------------------------------------------------------------------------')\n",
        "\n",
        "    def medium_python(self):\n",
        "        feed_python = feedparser.parse(\n",
        "            \"https://medium.com/feed/tag/python\"\n",
        "        )\n",
        "        print(\"Python Today: \")\n",
        "        for i in range(3):\n",
        "            entry = feed_python.entries[i]\n",
        "            print(entry)\n",
        "            print(entry.title)\n",
        "            print(\"URL: \" + entry.link)\n",
        "           # print(\"Content: \" + entry.content)\n",
        "            print(\"###########################################\")\n",
        "        print('-------------------------------------------------------------------------------------------------------')\n",
        "\n",
        "    def medium_developer(self):\n",
        "        feed_developer = feedparser.parse(\n",
        "            \"https://medium.com/feed/tag/developer\"\n",
        "        )\n",
        "        print(\"Developer News Today: \")\n",
        "        for i in range(5):\n",
        "            entry = feed_developer.entries[i]\n",
        "            print(entry.title)\n",
        "            print(\"URL: \" + entry.link)\n",
        "            print(\"###########################################\")\n",
        "        print('-------------------------------------------------------------------------------------------------------')\n",
        "\n",
        "\n",
        "class StockExchange:\n",
        "    def nse_stock(self):\n",
        "        nse = Nse()\n",
        "        print(\"TOP GAINERS OF YESTERDAY\")\n",
        "        pprint.pprint(nse.get_top_gainers())\n",
        "        print(\"###########################################\")\n",
        "        print(\"TOP LOSERS OF YESTERDAY\")\n",
        "        pprint.pprint(nse.get_top_losers())\n",
        "        print(\"###########################################\")\n",
        "        print('-------------------------------------------------------------------------------------------------------')\n",
        "\n",
        "\n",
        "# objects inititalization\n",
        "# reddit_object = Reddit()\n",
        "News_object = News()\n",
        "Medium_object = Medium()\n",
        "StockExchange_object = StockExchange()\n",
        "\n",
        "if __name__ == \"__main__\":\n",
        "    # Functions call of each class\n",
        "    # reddit_object.TopNews()\n",
        "   # News_object.Indian_News()\n",
        "    Medium_object.medium_python()\n",
        "   # Medium_object.medium_programming()\n",
        "   #Medium_object.medium_developer()\n",
        "   # StockExchange_object.nse_stock()\n",
        "\n"
      ],
      "execution_count": 0,
      "outputs": [
        {
          "output_type": "stream",
          "text": [
            "Python Today: \n",
            "{'title': '3 Weeks Beginners Guide to Ace Data Science Interview: #Day 16', 'title_detail': {'type': 'text/plain', 'language': None, 'base': 'https://medium.com/feed/tag/python', 'value': '3 Weeks Beginners Guide to Ace Data Science Interview: #Day 16'}, 'summary': '<div class=\"medium-feed-item\"><p class=\"medium-feed-image\"><a href=\"https://medium.com/international-school-of-ai-data-science/3-weeks-beginners-guide-to-ace-data-science-interview-day-16-752c48ba05ac?source=rss------python-5\"><img src=\"https://cdn-images-1.medium.com/max/1200/0*bWzCGskDTgMOvht6.png\" width=\"1200\"></a></p><p class=\"medium-feed-snippet\">Interview questions based on Feature Scaling, Regularization, Overfitting &amp; Underfitting.</p><p class=\"medium-feed-link\"><a href=\"https://medium.com/international-school-of-ai-data-science/3-weeks-beginners-guide-to-ace-data-science-interview-day-16-752c48ba05ac?source=rss------python-5\">Continue reading on INSAID »</a></p></div>', 'summary_detail': {'type': 'text/html', 'language': None, 'base': 'https://medium.com/feed/tag/python', 'value': '<div class=\"medium-feed-item\"><p class=\"medium-feed-image\"><a href=\"https://medium.com/international-school-of-ai-data-science/3-weeks-beginners-guide-to-ace-data-science-interview-day-16-752c48ba05ac?source=rss------python-5\"><img src=\"https://cdn-images-1.medium.com/max/1200/0*bWzCGskDTgMOvht6.png\" width=\"1200\"></a></p><p class=\"medium-feed-snippet\">Interview questions based on Feature Scaling, Regularization, Overfitting &amp; Underfitting.</p><p class=\"medium-feed-link\"><a href=\"https://medium.com/international-school-of-ai-data-science/3-weeks-beginners-guide-to-ace-data-science-interview-day-16-752c48ba05ac?source=rss------python-5\">Continue reading on INSAID »</a></p></div>'}, 'links': [{'rel': 'alternate', 'type': 'text/html', 'href': 'https://medium.com/international-school-of-ai-data-science/3-weeks-beginners-guide-to-ace-data-science-interview-day-16-752c48ba05ac?source=rss------python-5'}], 'link': 'https://medium.com/international-school-of-ai-data-science/3-weeks-beginners-guide-to-ace-data-science-interview-day-16-752c48ba05ac?source=rss------python-5', 'id': 'https://medium.com/p/752c48ba05ac', 'guidislink': False, 'tags': [{'term': 'interview', 'scheme': None, 'label': None}, {'term': 'python', 'scheme': None, 'label': None}, {'term': 'data-science', 'scheme': None, 'label': None}, {'term': 'interview-questions', 'scheme': None, 'label': None}, {'term': 'machine-learning', 'scheme': None, 'label': None}], 'authors': [{'name': 'Vinay Vikram'}], 'author': 'Vinay Vikram', 'author_detail': {'name': 'Vinay Vikram'}, 'published': 'Sat, 21 Mar 2020 13:40:20 GMT', 'published_parsed': time.struct_time(tm_year=2020, tm_mon=3, tm_mday=21, tm_hour=13, tm_min=40, tm_sec=20, tm_wday=5, tm_yday=81, tm_isdst=0), 'updated': '2020-03-21T13:40:20.665Z', 'updated_parsed': time.struct_time(tm_year=2020, tm_mon=3, tm_mday=21, tm_hour=13, tm_min=40, tm_sec=20, tm_wday=5, tm_yday=81, tm_isdst=0)}\n",
            "3 Weeks Beginners Guide to Ace Data Science Interview: #Day 16\n",
            "URL: https://medium.com/international-school-of-ai-data-science/3-weeks-beginners-guide-to-ace-data-science-interview-day-16-752c48ba05ac?source=rss------python-5\n",
            "###########################################\n",
            "{'title': 'How to create Coronavirus Dashboard with Python and Dash?', 'title_detail': {'type': 'text/plain', 'language': None, 'base': 'https://medium.com/feed/tag/python', 'value': 'How to create Coronavirus Dashboard with Python and Dash?'}, 'summary': '<div class=\"medium-feed-item\"><p class=\"medium-feed-image\"><a href=\"https://medium.com/@mustafatagetiren/how-to-create-coronavirus-dashboard-with-python-and-dash-cbbfe95ce5d5?source=rss------python-5\"><img src=\"https://cdn-images-1.medium.com/max/1338/1*TAXT0rSTgmZFz1nFMWsotw.png\" width=\"1338\"></a></p><p class=\"medium-feed-snippet\">Coronavirus spread is what everyone is talking about nowadays&#xA0;. First cases were seen in China and now it spread to 186 countries around&#x2026;</p><p class=\"medium-feed-link\"><a href=\"https://medium.com/@mustafatagetiren/how-to-create-coronavirus-dashboard-with-python-and-dash-cbbfe95ce5d5?source=rss------python-5\">Continue reading on Medium »</a></p></div>', 'summary_detail': {'type': 'text/html', 'language': None, 'base': 'https://medium.com/feed/tag/python', 'value': '<div class=\"medium-feed-item\"><p class=\"medium-feed-image\"><a href=\"https://medium.com/@mustafatagetiren/how-to-create-coronavirus-dashboard-with-python-and-dash-cbbfe95ce5d5?source=rss------python-5\"><img src=\"https://cdn-images-1.medium.com/max/1338/1*TAXT0rSTgmZFz1nFMWsotw.png\" width=\"1338\"></a></p><p class=\"medium-feed-snippet\">Coronavirus spread is what everyone is talking about nowadays&#xA0;. First cases were seen in China and now it spread to 186 countries around&#x2026;</p><p class=\"medium-feed-link\"><a href=\"https://medium.com/@mustafatagetiren/how-to-create-coronavirus-dashboard-with-python-and-dash-cbbfe95ce5d5?source=rss------python-5\">Continue reading on Medium »</a></p></div>'}, 'links': [{'rel': 'alternate', 'type': 'text/html', 'href': 'https://medium.com/@mustafatagetiren/how-to-create-coronavirus-dashboard-with-python-and-dash-cbbfe95ce5d5?source=rss------python-5'}], 'link': 'https://medium.com/@mustafatagetiren/how-to-create-coronavirus-dashboard-with-python-and-dash-cbbfe95ce5d5?source=rss------python-5', 'id': 'https://medium.com/p/cbbfe95ce5d5', 'guidislink': False, 'tags': [{'term': 'covid19', 'scheme': None, 'label': None}, {'term': 'dashboard', 'scheme': None, 'label': None}, {'term': 'python', 'scheme': None, 'label': None}, {'term': 'corona', 'scheme': None, 'label': None}, {'term': 'dash', 'scheme': None, 'label': None}], 'authors': [{'name': 'Mustafa Taşgetiren'}], 'author': 'Mustafa Taşgetiren', 'author_detail': {'name': 'Mustafa Taşgetiren'}, 'published': 'Sat, 21 Mar 2020 13:21:08 GMT', 'published_parsed': time.struct_time(tm_year=2020, tm_mon=3, tm_mday=21, tm_hour=13, tm_min=21, tm_sec=8, tm_wday=5, tm_yday=81, tm_isdst=0), 'updated': '2020-03-21T13:21:08.654Z', 'updated_parsed': time.struct_time(tm_year=2020, tm_mon=3, tm_mday=21, tm_hour=13, tm_min=21, tm_sec=8, tm_wday=5, tm_yday=81, tm_isdst=0)}\n",
            "How to create Coronavirus Dashboard with Python and Dash?\n",
            "URL: https://medium.com/@mustafatagetiren/how-to-create-coronavirus-dashboard-with-python-and-dash-cbbfe95ce5d5?source=rss------python-5\n",
            "###########################################\n",
            "{'title': 'ทำไมต้อง Logistic Regression', 'title_detail': {'type': 'text/plain', 'language': None, 'base': 'https://medium.com/feed/tag/python', 'value': 'ทำไมต้อง Logistic Regression'}, 'summary': '<div class=\"medium-feed-item\"><p class=\"medium-feed-image\"><a href=\"https://medium.com/@natchapolpatamawisut/%E0%B8%97%E0%B8%B3%E0%B9%84%E0%B8%A1%E0%B8%95%E0%B9%89%E0%B8%AD%E0%B8%87-logistic-regression-f60ab9a5c3e9?source=rss------python-5\"><img src=\"https://cdn-images-1.medium.com/max/600/1*mmaMC3JKmUFJahuJRxg_DQ.png\" width=\"600\"></a></p><p class=\"medium-feed-snippet\">&#xE16;&#xE49;&#xE32;&#xE1E;&#xE39;&#xE14;&#xE16;&#xE36;&#xE07;&#xE01;&#xE32;&#xE23;&#xE17;&#xE33; classification &#xE41;&#xE25;&#xE49;&#xE27; algorithm &#xE41;&#xE23;&#xE01;&#xE46;&#xE17;&#xE35;&#xE48;&#xE19;&#xE36;&#xE01;&#xE16;&#xE36;&#xE07;&#xE01;&#xE47;&#xE04;&#xE07;&#xE2B;&#xE19;&#xE35;&#xE44;&#xE21;&#xE48;&#xE1E;&#xE49;&#xE19; Logistic Regression &#xE0B;&#xE36;&#xE48;&#xE07;&#xE40;&#xE1B;&#xE47;&#xE19; algorithm &#xE41;&#xE23;&#xE01;&#xE46;&#xE43;&#xE19;&#xE01;&#xE32;&#xE23;&#xE40;&#xE23;&#xE35;&#xE22;&#xE19;&#xE23;&#xE39;&#xE49; &#xE42;&#xE14;&#xE22; idea&#x2026;</p><p class=\"medium-feed-link\"><a href=\"https://medium.com/@natchapolpatamawisut/%E0%B8%97%E0%B8%B3%E0%B9%84%E0%B8%A1%E0%B8%95%E0%B9%89%E0%B8%AD%E0%B8%87-logistic-regression-f60ab9a5c3e9?source=rss------python-5\">Continue reading on Medium »</a></p></div>', 'summary_detail': {'type': 'text/html', 'language': None, 'base': 'https://medium.com/feed/tag/python', 'value': '<div class=\"medium-feed-item\"><p class=\"medium-feed-image\"><a href=\"https://medium.com/@natchapolpatamawisut/%E0%B8%97%E0%B8%B3%E0%B9%84%E0%B8%A1%E0%B8%95%E0%B9%89%E0%B8%AD%E0%B8%87-logistic-regression-f60ab9a5c3e9?source=rss------python-5\"><img src=\"https://cdn-images-1.medium.com/max/600/1*mmaMC3JKmUFJahuJRxg_DQ.png\" width=\"600\"></a></p><p class=\"medium-feed-snippet\">&#xE16;&#xE49;&#xE32;&#xE1E;&#xE39;&#xE14;&#xE16;&#xE36;&#xE07;&#xE01;&#xE32;&#xE23;&#xE17;&#xE33; classification &#xE41;&#xE25;&#xE49;&#xE27; algorithm &#xE41;&#xE23;&#xE01;&#xE46;&#xE17;&#xE35;&#xE48;&#xE19;&#xE36;&#xE01;&#xE16;&#xE36;&#xE07;&#xE01;&#xE47;&#xE04;&#xE07;&#xE2B;&#xE19;&#xE35;&#xE44;&#xE21;&#xE48;&#xE1E;&#xE49;&#xE19; Logistic Regression &#xE0B;&#xE36;&#xE48;&#xE07;&#xE40;&#xE1B;&#xE47;&#xE19; algorithm &#xE41;&#xE23;&#xE01;&#xE46;&#xE43;&#xE19;&#xE01;&#xE32;&#xE23;&#xE40;&#xE23;&#xE35;&#xE22;&#xE19;&#xE23;&#xE39;&#xE49; &#xE42;&#xE14;&#xE22; idea&#x2026;</p><p class=\"medium-feed-link\"><a href=\"https://medium.com/@natchapolpatamawisut/%E0%B8%97%E0%B8%B3%E0%B9%84%E0%B8%A1%E0%B8%95%E0%B9%89%E0%B8%AD%E0%B8%87-logistic-regression-f60ab9a5c3e9?source=rss------python-5\">Continue reading on Medium »</a></p></div>'}, 'links': [{'rel': 'alternate', 'type': 'text/html', 'href': 'https://medium.com/@natchapolpatamawisut/%E0%B8%97%E0%B8%B3%E0%B9%84%E0%B8%A1%E0%B8%95%E0%B9%89%E0%B8%AD%E0%B8%87-logistic-regression-f60ab9a5c3e9?source=rss------python-5'}], 'link': 'https://medium.com/@natchapolpatamawisut/%E0%B8%97%E0%B8%B3%E0%B9%84%E0%B8%A1%E0%B8%95%E0%B9%89%E0%B8%AD%E0%B8%87-logistic-regression-f60ab9a5c3e9?source=rss------python-5', 'id': 'https://medium.com/p/f60ab9a5c3e9', 'guidislink': False, 'tags': [{'term': 'machine-learning', 'scheme': None, 'label': None}, {'term': 'logistic-regression', 'scheme': None, 'label': None}, {'term': 'python', 'scheme': None, 'label': None}, {'term': 'ai', 'scheme': None, 'label': None}], 'authors': [{'name': 'Natchapol Patamawisut'}], 'author': 'Natchapol Patamawisut', 'author_detail': {'name': 'Natchapol Patamawisut'}, 'published': 'Sat, 21 Mar 2020 13:13:56 GMT', 'published_parsed': time.struct_time(tm_year=2020, tm_mon=3, tm_mday=21, tm_hour=13, tm_min=13, tm_sec=56, tm_wday=5, tm_yday=81, tm_isdst=0), 'updated': '2020-03-21T13:13:56.754Z', 'updated_parsed': time.struct_time(tm_year=2020, tm_mon=3, tm_mday=21, tm_hour=13, tm_min=13, tm_sec=56, tm_wday=5, tm_yday=81, tm_isdst=0)}\n",
            "ทำไมต้อง Logistic Regression\n",
            "URL: https://medium.com/@natchapolpatamawisut/%E0%B8%97%E0%B8%B3%E0%B9%84%E0%B8%A1%E0%B8%95%E0%B9%89%E0%B8%AD%E0%B8%87-logistic-regression-f60ab9a5c3e9?source=rss------python-5\n",
            "###########################################\n",
            "-------------------------------------------------------------------------------------------------------\n"
          ],
          "name": "stdout"
        }
      ]
    },
    {
      "cell_type": "code",
      "metadata": {
        "id": "_thVVA-PXRBv",
        "colab_type": "code",
        "colab": {}
      },
      "source": [
        "import urllib, os, requests, datetime, subprocess\n",
        "\n",
        "# reddit imports\n",
        "import praw, pprint\n",
        "\n",
        "# pip install feedparser\n",
        "import feedparser\n",
        "\n",
        "# stockexchange\n",
        "from nsetools import Nse\n",
        "\n",
        "# Place your CLIENT_ID & CLIENT_SECRET below\n",
        "reddit = praw.Reddit(client_id='XXXXXXX',\n",
        "                     client_secret='XXXXXXXXXXX',\n",
        "                     grant_type_access='client_credentials',\n",
        "                     user_agent='script/1.0')\n",
        "\n",
        "\n",
        "# class Reddit:\n",
        "#     def TopNews(self):\n",
        "#         # Add your favorite NEWS subreddits in the argument as many as you'd like.\n",
        "#         for submission in reddit.subreddit('News+WorldNews+UpliftingNews+').top(limit=10):\n",
        "#             top_news = reddit.domain(submission).top('month')\n",
        "#             print(top_news)\n",
        "\n",
        "\"\"\"\n",
        "Each class contains functions which further calls\n",
        "APIs from the neccesary packages and the rest is \n",
        "self explanatory I suppose\n",
        "\"\"\"\n",
        "\n",
        "class News:\n",
        "    def Indian_News(self):\n",
        "        newsfeed = feedparser.parse(\n",
        "            \"http://feeds.feedburner.com/ndtvnews-india-news\"\n",
        "        )\n",
        "        print(\"Today's News: \")\n",
        "        for i in range(0, 20):\n",
        "            entry = newsfeed.entries[i]\n",
        "            print(entry.title)\n",
        "            print(entry.summary)\n",
        "            print(\"------News Link--------\")\n",
        "            print(entry.link)\n",
        "            print(\"###########################################\")\n",
        "        print('-------------------------------------------------------------------------------------------------------')\n",
        "\n",
        "\n",
        "class Medium:\n",
        "    # https://github.com/thepracticaldev/dev.to/issues/28#issuecomment-325544385\n",
        "    def medium_programming(self):\n",
        "        feed = feedparser.parse(\n",
        "            \"https://medium.com/feed/tag/programming\"\n",
        "        )\n",
        "\n",
        "        print(\"Programming Today: \")\n",
        "        for i in range(10):\n",
        "            entry = feed.entries[i]\n",
        "            print(entry.title)\n",
        "            print(\"URL: \" + entry.link)\n",
        "            print(\"###########################################\")\n",
        "        print('-------------------------------------------------------------------------------------------------------')\n",
        "\n",
        "    def medium_python(self):\n",
        "        feed_python = feedparser.parse(\n",
        "            \"https://medium.com/feed/tag/python\"\n",
        "        )\n",
        "        print(\"Python Today: \")\n",
        "        for i in range(3):\n",
        "            entry = feed_python.entries[i]\n",
        "            print(entry)\n",
        "            print(entry.title)\n",
        "            print(\"URL: \" + entry.link)\n",
        "           # print(\"Content: \" + entry.content)\n",
        "            print(\"###########################################\")\n",
        "        print('-------------------------------------------------------------------------------------------------------')\n",
        "\n",
        "    def medium_developer(self):\n",
        "        feed_developer = feedparser.parse(\n",
        "            \"https://medium.com/feed/tag/developer\"\n",
        "        )\n",
        "        print(\"Developer News Today: \")\n",
        "        for i in range(5):\n",
        "            entry = feed_developer.entries[i]\n",
        "            print(entry.title)\n",
        "            print(\"URL: \" + entry.link)\n",
        "            print(\"###########################################\")\n",
        "        print('-------------------------------------------------------------------------------------------------------')\n",
        "\n",
        "\n",
        "class StockExchange:\n",
        "    def nse_stock(self):\n",
        "        nse = Nse()\n",
        "        print(\"TOP GAINERS OF YESTERDAY\")\n",
        "        pprint.pprint(nse.get_top_gainers())\n",
        "        print(\"###########################################\")\n",
        "        print(\"TOP LOSERS OF YESTERDAY\")\n",
        "        pprint.pprint(nse.get_top_losers())\n",
        "        print(\"###########################################\")\n",
        "        print('-------------------------------------------------------------------------------------------------------')\n",
        "\n",
        "\n",
        "# objects inititalization\n",
        "# reddit_object = Reddit()\n",
        "News_object = News()\n",
        "Medium_object = Medium()\n",
        "StockExchange_object = StockExchange()\n",
        "\n",
        "if __name__ == \"__main__\":\n",
        "    # Functions call of each class\n",
        "    # reddit_object.TopNews()\n",
        "   # News_object.Indian_News()\n",
        "    Medium_object.medium_python()\n",
        "   # Medium_object.medium_programming()\n",
        "   #Medium_object.medium_developer()\n",
        "   # StockExchange_object.nse_stock()\n",
        "\n"
      ],
      "execution_count": 0,
      "outputs": []
    }
  ]
}