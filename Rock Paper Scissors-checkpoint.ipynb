{
 "cells": [
  {
   "cell_type": "code",
   "execution_count": null,
   "metadata": {
    "collapsed": true
   },
   "outputs": [],
   "source": [
    "import random\n",
    "\n",
    "option = [\"Rock\", \"Paper\", \"Scissors\"]\n",
    "\n",
    "i = 0  #computer points\n",
    "j = 0  #user points\n",
    "\n",
    "while(i < 5 and j < 5):\n",
    "    user = input()\n",
    "    computer = random.choice(option)\n",
    "    print(\"user is \" + user +  \" computer is \" + computer)\n",
    "    if((user == \"Paper\" and computer == \"Scissors\") or (user == \"Scissors\" and computer == \"Rock\") or (user == \"Rock\" and computer == \"Paper\")):\n",
    "         print(\"computer wins\")\n",
    "         i = i+ 1\n",
    "    elif((user == \"Paper\" and computer == \"Paper\") or (user == \"Scissors\" and computer == \"Scissors\") or (user == \"Rock\" and computer == \"Rock\")):\n",
    "        print(\"nobody wins\")\n",
    "    else:\n",
    "        print(\"User wins\")\n",
    "        j = j+1 \n",
    "print(i,j)\n",
    "if( i == 5):\n",
    "  print(\"Computer wins\")\n",
    "elif( j == 5):\n",
    "    print(\"User wins\")\n",
    "    \n",
    " \n",
    "    \n"
   ]
  },
  {
   "cell_type": "code",
   "execution_count": 6,
   "metadata": {
    "collapsed": false
   },
   "outputs": [
    {
     "data": {
      "image/png": "[encoded data removed]",
      "text/plain": [
       "<matplotlib.figure.Figure at 0x190b7fb0f28>"
      ]
     },
     "metadata": {},
     "output_type": "display_data"
    }
   ],
   "source": [
    "import numpy as np\n",
    "\n",
    "import matplotlib.pyplot as plot\n",
    "\n",
    "\n",
    "time        = np.arange(0, 10, 0.1);\n",
    "\n",
    "\n",
    "amplitude   = np.sin(time)\n",
    "\n",
    "\n",
    "plot.plot(time, amplitude)\n",
    "\n",
    "\n",
    "plot.title('Sine wave')\n",
    "\n",
    "\n",
    "plot.xlabel('Time')\n",
    "\n",
    "plot.ylabel('Amplitude = sin(time)')\n",
    "\n",
    "#plot.grid(True, which='both')\n",
    "\n",
    "plot.axhline(y=0, color='k')\n",
    "\n",
    "plot.show()\n"
   ]
  },
  {
   "cell_type": "code",
   "execution_count": null,
   "metadata": {
    "collapsed": false
   },
   "outputs": [],
   "source": [
    "#Password generator\n",
    "\n",
    "import random\n",
    "print(\"How many characters do you need?\")\n",
    "noc = int( input())\n",
    "#noc = noc.int(noc)\n",
    "if( noc > 6):\n",
    "    print(\"How many letters do you need in the password\")\n",
    "    nol = int(input())\n",
    "    print(\"How many numbers do you need in the password\")\n",
    "    non = int(input())\n",
    "else:\n",
    "    print(\"Minimum six characters required\")\n",
    "    \n",
    "char_option = ['a','e','i','o','u']\n",
    "num_option = ['0', '1', '2', '3']\n",
    "num_symbols = ['!', '@', '#']\n",
    "i = 0\n",
    "#pass = '';\n",
    "while (i <= noc):\n",
    "    cha = random.choice(char_option)\n",
    "    print(cha)\n",
    "   # pass = \" \" + pass.join(cha)\n",
    "while (i <= non):\n",
    "    print(\"hey\")\n",
    "   # pass = pass + random.choice(num_option)\n",
    "\n",
    "\n",
    "#print(\"password so far is \" +  pass)\n",
    "#while(pass.length() < noc):\n",
    "#   print(\"addtional characters allowed\")\n",
    "#   pass = pass + random.choice(num_symbols)\n",
    "   \n",
    "   \n",
    "    \n",
    "\n",
    "  \n"
   ]
  },
  {
   "cell_type": "code",
   "execution_count": null,
   "metadata": {
    "collapsed": true
   },
   "outputs": [],
   "source": [
    "import random \n",
    "import array \n",
    "\n",
    "# maximum length of password needed \n",
    "# this can be changed to suit your password length \n",
    "MAX_LEN = 12\n",
    "\n",
    "# declare arrays of the character that we need in out password \n",
    "# Represented as chars to enable easy string concatenation \n",
    "DIGITS = ['0', '1', '2', '3', '4', '5', '6', '7', '8', '9'] \n",
    "LOCASE_CHARACTERS = ['a', 'b', 'c', 'd', 'e', 'f', 'g', 'h', \n",
    "\t\t\t\t\t'i', 'j', 'k', 'm', 'n', 'o', 'p', 'q', \n",
    "\t\t\t\t\t'r', 's', 't', 'u', 'v', 'w', 'x', 'y', \n",
    "\t\t\t\t\t'z'] \n",
    "\n",
    "UPCASE_CHARACTERS = ['A', 'B', 'C', 'D', 'E', 'F', 'G', 'H', \n",
    "\t\t\t\t\t'I', 'J', 'K', 'M', 'N', 'O', 'p', 'Q', \n",
    "\t\t\t\t\t'R', 'S', 'T', 'U', 'V', 'W', 'X', 'Y', \n",
    "\t\t\t\t\t'Z'] \n",
    "\n",
    "SYMBOLS = ['@', '#', '$', '%', '=', ':', '?', '.', '/', '|', '~', '>', \n",
    "\t\t'*', '(', ')', '<&# 039;] \n",
    "\n",
    "# combines all the character arrays above to form one array \n",
    "COMBINED_LIST = DIGITS + UPCASE_CHARACTERS + LOCASE_CHARACTERS + SYMBOLS \n",
    "\n",
    "# randomly select at least one character from each character set above \n",
    "rand_digit = random.choice(DIGITS) \n",
    "rand_upper = random.choice(UPCASE_CHARACTERS) \n",
    "rand_lower = random.choice(LOCASE_CHARACTERS) \n",
    "rand_symbol = random.choice(SYMBOLS) \n",
    "\n",
    "# combine the character randomly selected above \n",
    "# at this stage, the password contains only 4 characters but \n",
    "# we want a 12-character password \n",
    "temp_pass = rand_digit + rand_upper + rand_lower + rand_symbol \n",
    "\n",
    "\n",
    "# now that we are sure we have at least one character from each \n",
    "# set of characters, we fill the rest of \n",
    "# the password length by selecting randomly from the combined \n",
    "# list of character above. \n",
    "for x in range(MAX_LEN - 4): \n",
    "\ttemp_pass = temp_pass + random.choice(COMBINED_LIST) \n",
    "\t# convert temporary password into array and shuffle to \n",
    "\t# prevent it from having a consistent pattern \n",
    "\t# where the beginning of the password is predictable \n",
    "\ttemp_pass_list = array.array(&# 039;u&# 039;, temp_pass) \n",
    "\trandom.shuffle(temp_pass_list) \n",
    "\n",
    "# traverse the temporary password array and append the chars \n",
    "# to form the password \n",
    "password = \"\" \n",
    "for x in temp_pass_list: \n",
    "\t\tpassword = password + x \n",
    "\t\t\n",
    "# print out password \n",
    "print(password) \n"
   ]
  },
  {
   "cell_type": "code",
   "execution_count": null,
   "metadata": {
    "collapsed": true
   },
   "outputs": [],
   "source": []
  }
 ],
 "metadata": {
  "kernelspec": {
   "display_name": "Python 3",
   "language": "python",
   "name": "python3"
  },
  "language_info": {
   "codemirror_mode": {
    "name": "ipython",
    "version": 3
   },
   "file_extension": ".py",
   "mimetype": "text/x-python",
   "name": "python",
   "nbconvert_exporter": "python",
   "pygments_lexer": "ipython3",
   "version": "3.6.0"
  }
 },
 "nbformat": 4,
 "nbformat_minor": 2
}
